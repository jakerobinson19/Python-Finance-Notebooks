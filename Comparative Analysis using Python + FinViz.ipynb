{
 "cells": [
  {
   "cell_type": "markdown",
   "metadata": {},
   "source": [
    "## Industry Comparable Analysis using FinViz Financial Data\n",
    "\n",
    "Comparable company analysis (or “comps” for short) is a valuation methodology that looks at financials of similar public companies and uses them to derive the value of another business. As a relative form of valuation, this analysis evaluates a company relative to its industry peers using financial ratios such as Price-to-Earnings (P/E) or Price-to-Book (P/B), as well as debt and profitability measures. \n",
    "\n",
    "For this notebook, all you have to do is enter the ticker for the company you are interested in and Run All cells. The program will display charts to visualize how the company stacks up to the industry avg while also lining up all comparable companies in later graphs for each comparison. Finally, it will programmatically evaluate the company by determining in how many measurements (out of a total of 14) the company beats the industry average and produces a corresponding rating.\n",
    "\n",
    "Financial data is pulled from **finviz.com** using **python requests** and parsed using **pd.read_html**.\n",
    "\n",
    "All graphs are interactive. You can zoom in or hover over for more information.\n",
    "\n",
    "#### Built With\n",
    " * Python 3\n",
    " * Plotly\n",
    "\n",
    "###### Written by: Jake Robinson (https://github.com/jakerobinson19)"
   ]
  },
  {
   "cell_type": "code",
   "execution_count": 46,
   "metadata": {},
   "outputs": [],
   "source": [
    "ticker = 'MGM'"
   ]
  },
  {
   "cell_type": "code",
   "execution_count": 47,
   "metadata": {},
   "outputs": [
    {
     "data": {
      "text/html": [
       "<script>\n",
       "code_show=true; \n",
       "function code_toggle() {\n",
       "    if (code_show){\n",
       "        $('div.cell.code_cell.rendered.selected div.input').hide();\n",
       "    } else {\n",
       "        $('div.cell.code_cell.rendered.selected div.input').show();\n",
       "    }\n",
       "    code_show = !code_show\n",
       "} \n",
       "$( document ).ready(code_toggle);\n",
       "</script>\n",
       "To show/hide this cell's raw code input, click <a href=\"javascript:code_toggle()\">here</a>."
      ],
      "text/plain": [
       "<IPython.core.display.HTML object>"
      ]
     },
     "metadata": {},
     "output_type": "display_data"
    }
   ],
   "source": [
    "# import pandas and requests packages\n",
    "import pandas as pd\n",
    "import requests\n",
    "\n",
    "# iPython display packages for hiding underlying code\n",
    "from IPython.display import HTML\n",
    "from IPython.display import display\n",
    "\n",
    "# Plotly visualization packages\n",
    "import plotly.express as px\n",
    "import plotly.graph_objects as go\n",
    "from plotly.subplots import make_subplots\n",
    "\n",
    "# global variables (mainly used for standardized url requests)\n",
    "headers = {'User-Agent': 'Mozilla/5.0 (Macintosh; Intel Mac OS X 10_15_5) AppleWebKit/537.36 (KHTML, like Gecko) Chrome/83.0.4103.61 Safari/537.36'}\n",
    "url = 'https://finviz.com/quote.ashx?t={}'.format(ticker)\n",
    "combined_data = []\n",
    "\n",
    "# METHODS \n",
    "# All methods here are available in the comp_analysis_functions.py file in the git repo)\n",
    "# https://github.com/jakerobinson19/Python-Finance-Notebooks\n",
    "\n",
    "# Extract the table data from finviz and convert into a pd dataframe\n",
    "def extract_data_table(ind, code, page, headers=headers):\n",
    "    \n",
    "    url = 'https://finviz.com/screener.ashx?v={}&f=ind_{}&r={}1'.format(code,ind,page*2-2)\n",
    "    html_response = requests.get(url, headers=headers).content\n",
    "\n",
    "    dfs = pd.read_html(html_response)\n",
    "    \n",
    "    pages = dfs[13][3].str.split('/')[0][-1]\n",
    "    \n",
    "    data_table = dfs[14]\n",
    "    headers = data_table.iloc[0]\n",
    "    data_table = pd.DataFrame(data_table.values[1:], columns=headers).set_index('No.')\n",
    "    \n",
    "    return(data_table, int(pages))\n",
    "\n",
    "# Intake a dataframe of companies to sort into small, mid, or large cap\n",
    "def assign_cap_groupings(comp_data):\n",
    "    caps = {'Small Cap': [],\n",
    "        'Mid Cap': [],\n",
    "        'Large Cap': []}\n",
    "\n",
    "    for ticker in comp_data.index:\n",
    "        mcap = str(comp_data.loc[ticker]['Market Cap'])\n",
    "\n",
    "        if mcap != 'nan':\n",
    "            mcap = [int(re.split('(\\d+)',mcap)[1]), re.split('(\\d+)',mcap)[-1]]\n",
    "        else:\n",
    "            continue\n",
    "            \n",
    "        if mcap[1] == 'M':\n",
    "            caps['Small Cap'].append(ticker)\n",
    "        elif mcap[0] < 10:\n",
    "            caps['Mid Cap'].append(ticker)\n",
    "        else:\n",
    "            caps['Large Cap'].append(ticker)\n",
    "        \n",
    "    return(caps)\n",
    "\n",
    "# Pull a specific tickers data by going to the corresponding finviz page and extracting into pd dataframe\n",
    "def get_ticker_data(ticker):\n",
    "    url = 'https://finviz.com/quote.ashx?t={}'.format(ticker)\n",
    "\n",
    "    response = requests.get(url).content\n",
    "    ticker_dfs = pd.read_html(response)\n",
    "\n",
    "    ticker_financials = ticker_dfs[6]\n",
    "\n",
    "    sector, industry, country = ticker_dfs[5][0][2].split('|')\n",
    "    ind = format_string(industry)\n",
    "\n",
    "    return(ticker_financials, ind)\n",
    "\n",
    "# Using the industry, grab all companies from the finviz industry page and concat into one dataframe\n",
    "def get_comp_data(ind, headers=headers):\n",
    "    pg = 1\n",
    "    \n",
    "    val_data, pages = extract_data_table(ind, '121', pg)\n",
    "    fin_data, pages = extract_data_table(ind, '161', pg)\n",
    "    \n",
    "    while pg < pages:\n",
    "        pg += 1\n",
    "        val_data = pd.concat([val_data, extract_data_table(ind, '121', pg)[0]])\n",
    "        fin_data = pd.concat([fin_data, extract_data_table(ind, '161', pg)[0]])\n",
    "    \n",
    "    comp_data = pd.concat([val_data, fin_data],axis=1)\n",
    "    comp_data = comp_data.T.drop_duplicates().T\n",
    "    comp_data.set_index('Ticker',inplace=True)\n",
    "    comp_data = comp_data.drop(['Earnings','Volume'],axis=1)\n",
    "\n",
    "    return(comp_data)\n",
    "\n",
    "# Calculate the industry averages for each financial measurement in the comparable data table\n",
    "def get_industry_averages(comp_data):\n",
    "    averages = None\n",
    "\n",
    "    for column in comp_data:\n",
    "        try:\n",
    "            avg = comp_data[column].sum()/len(comp_data)\n",
    "        except:\n",
    "            continue\n",
    "        \n",
    "        avg = pd.DataFrame([[column,avg]], columns=['Type','Avg'])\n",
    "    \n",
    "        if averages is None:\n",
    "            averages = avg\n",
    "        else:\n",
    "            averages = pd.concat([averages, avg])\n",
    "\n",
    "    return(averages)\n",
    "\n",
    "# Determine the instances where the ticker in question is better than the industry average\n",
    "# Store each measurement where the ticker \"beats\" its competitors and tally up the total\n",
    "def calculate_beats(tick_data, averages):\n",
    "    beat_number = 0\n",
    "    finrat_beats = []\n",
    "    dbt_beats = []\n",
    "    marg_beats = []\n",
    "    \n",
    "    for ind, value in enumerate(tick_data): \n",
    "        #print(ind,value,averages.iloc[ind]['Type'], float(averages.iloc[ind]['Avg']))\n",
    "        if ind >= 0 and ind < 7:\n",
    "            if value != 0 and value < float(averages.iloc[ind]['Avg']):\n",
    "                beat_number += 1\n",
    "                finrat_beats.append(averages.iloc[ind]['Type'])\n",
    "        if ind == 18 or ind == 19:\n",
    "            if value != 0 and value > float(averages.iloc[ind]['Avg']):\n",
    "                beat_number += 1\n",
    "                dbt_beats.append(averages.iloc[ind]['Type'])\n",
    "        if ind == 20 or ind == 21:\n",
    "            if value < float(averages.iloc[ind]['Avg']):\n",
    "                beat_number += 1\n",
    "                dbt_beats.append(averages.iloc[ind]['Type'])\n",
    "        if ind > 21:\n",
    "            if value > float(averages.iloc[ind]['Avg']):\n",
    "                beat_number += 1\n",
    "                marg_beats.append(averages.iloc[ind]['Type'])\n",
    "            \n",
    "    if beat_number < 6:\n",
    "        sentiment = ('Poorly', C)\n",
    "    elif beat_number < 10: \n",
    "        sentiment = ('Fairly', 'B')\n",
    "    else: \n",
    "        sentiment = ('Favorably', 'A')\n",
    "        \n",
    "    return(beat_number, sentiment, finrat_beats, dbt_beats, marg_beats)\n",
    "\n",
    "# Simple formatting function to change all table values to floats for calculation purposes\n",
    "def format_data_to_floats(table):\n",
    "    for col in table:\n",
    "        table[col] = table[col].str.strip(\"%\").replace('-',0)\n",
    "        table[col] = pd.to_numeric(table[col], errors='ignore')\n",
    "        \n",
    "# Formatting for urls        \n",
    "def format(data_string):\n",
    "    return(data_string.lower().replace(\" \",\"\").replace(\"-\",\"\").replace(\"&\",\"\"))        \n",
    "\n",
    "# Fast method for assigning a color to the plotly graphs\n",
    "def get_chart_color(tick_index, graph_num):\n",
    "    color_options = ['#1f77b4', '#ff7f0e', '#2ca02c', '#d62728', '#9467bd','#8c564b', '#e377c2', '#7f7f7f', '#bcbd22', '#17becf']\n",
    "\n",
    "    colors = [color_options[graph_num],]*len(comp_data.index)\n",
    "    colors[tick_index] = 'gold'\n",
    "    \n",
    "    return(colors)\n",
    "\n",
    "# method used exclusively for hiding the code in the jupyter notebook\n",
    "tag = HTML('''<script>\n",
    "code_show=true; \n",
    "function code_toggle() {\n",
    "    if (code_show){\n",
    "        $('div.cell.code_cell.rendered.selected div.input').hide();\n",
    "    } else {\n",
    "        $('div.cell.code_cell.rendered.selected div.input').show();\n",
    "    }\n",
    "    code_show = !code_show\n",
    "} \n",
    "$( document ).ready(code_toggle);\n",
    "</script>\n",
    "To show/hide this cell's raw code input, click <a href=\"javascript:code_toggle()\">here</a>.''')\n",
    "\n",
    "# Initial calls to grab and parse the finviz data for the designated ticker\n",
    "response = requests.get(url, headers=headers).content\n",
    "ticker_dfs = pd.read_html(response)\n",
    "\n",
    "ticker_financials = ticker_dfs[6]\n",
    "\n",
    "sector, industry, country = ticker_dfs[5][0][2].split('|')\n",
    "ind = format(industry)\n",
    "\n",
    "display(tag)"
   ]
  },
  {
   "cell_type": "markdown",
   "metadata": {},
   "source": [
    "## Financials"
   ]
  },
  {
   "cell_type": "code",
   "execution_count": 48,
   "metadata": {},
   "outputs": [
    {
     "data": {
      "text/html": [
       "<div>\n",
       "<style scoped>\n",
       "    .dataframe tbody tr th:only-of-type {\n",
       "        vertical-align: middle;\n",
       "    }\n",
       "\n",
       "    .dataframe tbody tr th {\n",
       "        vertical-align: top;\n",
       "    }\n",
       "\n",
       "    .dataframe thead th {\n",
       "        text-align: right;\n",
       "    }\n",
       "</style>\n",
       "<table border=\"1\" class=\"dataframe\">\n",
       "  <thead>\n",
       "    <tr style=\"text-align: right;\">\n",
       "      <th></th>\n",
       "      <th>0</th>\n",
       "      <th>1</th>\n",
       "      <th>2</th>\n",
       "      <th>3</th>\n",
       "      <th>4</th>\n",
       "      <th>5</th>\n",
       "      <th>6</th>\n",
       "      <th>7</th>\n",
       "      <th>8</th>\n",
       "      <th>9</th>\n",
       "      <th>10</th>\n",
       "      <th>11</th>\n",
       "    </tr>\n",
       "  </thead>\n",
       "  <tbody>\n",
       "    <tr>\n",
       "      <th>0</th>\n",
       "      <td>Index</td>\n",
       "      <td>S&amp;P 500</td>\n",
       "      <td>P/E</td>\n",
       "      <td>3.97</td>\n",
       "      <td>EPS (ttm)</td>\n",
       "      <td>5.56</td>\n",
       "      <td>Insider Own</td>\n",
       "      <td>0.60%</td>\n",
       "      <td>Shs Outstand</td>\n",
       "      <td>495.42M</td>\n",
       "      <td>Perf Week</td>\n",
       "      <td>21.21%</td>\n",
       "    </tr>\n",
       "    <tr>\n",
       "      <th>1</th>\n",
       "      <td>Market Cap</td>\n",
       "      <td>10.88B</td>\n",
       "      <td>Forward P/E</td>\n",
       "      <td>-</td>\n",
       "      <td>EPS next Y</td>\n",
       "      <td>-0.92</td>\n",
       "      <td>Insider Trans</td>\n",
       "      <td>138.69%</td>\n",
       "      <td>Shs Float</td>\n",
       "      <td>489.44M</td>\n",
       "      <td>Perf Month</td>\n",
       "      <td>41.50%</td>\n",
       "    </tr>\n",
       "    <tr>\n",
       "      <th>2</th>\n",
       "      <td>Income</td>\n",
       "      <td>2.83B</td>\n",
       "      <td>PEG</td>\n",
       "      <td>-</td>\n",
       "      <td>EPS next Q</td>\n",
       "      <td>-1.72</td>\n",
       "      <td>Inst Own</td>\n",
       "      <td>77.50%</td>\n",
       "      <td>Short Float</td>\n",
       "      <td>6.53%</td>\n",
       "      <td>Perf Quarter</td>\n",
       "      <td>6.11%</td>\n",
       "    </tr>\n",
       "    <tr>\n",
       "      <th>3</th>\n",
       "      <td>Sales</td>\n",
       "      <td>11.98B</td>\n",
       "      <td>P/S</td>\n",
       "      <td>0.91</td>\n",
       "      <td>EPS this Y</td>\n",
       "      <td>378.50%</td>\n",
       "      <td>Inst Trans</td>\n",
       "      <td>-11.85%</td>\n",
       "      <td>Short Ratio</td>\n",
       "      <td>0.99</td>\n",
       "      <td>Perf Half Y</td>\n",
       "      <td>-31.43%</td>\n",
       "    </tr>\n",
       "    <tr>\n",
       "      <th>4</th>\n",
       "      <td>Book/sh</td>\n",
       "      <td>16.50</td>\n",
       "      <td>P/B</td>\n",
       "      <td>1.34</td>\n",
       "      <td>EPS next Y</td>\n",
       "      <td>47.10%</td>\n",
       "      <td>ROA</td>\n",
       "      <td>8.40%</td>\n",
       "      <td>Target Price</td>\n",
       "      <td>18.04</td>\n",
       "      <td>Perf Year</td>\n",
       "      <td>-19.55%</td>\n",
       "    </tr>\n",
       "    <tr>\n",
       "      <th>5</th>\n",
       "      <td>Cash/sh</td>\n",
       "      <td>12.20</td>\n",
       "      <td>P/C</td>\n",
       "      <td>1.81</td>\n",
       "      <td>EPS next 5Y</td>\n",
       "      <td>-</td>\n",
       "      <td>ROE</td>\n",
       "      <td>39.70%</td>\n",
       "      <td>52W Range</td>\n",
       "      <td>5.90 - 34.63</td>\n",
       "      <td>Perf YTD</td>\n",
       "      <td>-33.69%</td>\n",
       "    </tr>\n",
       "    <tr>\n",
       "      <th>6</th>\n",
       "      <td>Dividend</td>\n",
       "      <td>0.01</td>\n",
       "      <td>P/FCF</td>\n",
       "      <td>130.46</td>\n",
       "      <td>EPS past 5Y</td>\n",
       "      <td>71.20%</td>\n",
       "      <td>ROI</td>\n",
       "      <td>17.40%</td>\n",
       "      <td>52W High</td>\n",
       "      <td>-36.31%</td>\n",
       "      <td>Beta</td>\n",
       "      <td>2.23</td>\n",
       "    </tr>\n",
       "    <tr>\n",
       "      <th>7</th>\n",
       "      <td>Dividend %</td>\n",
       "      <td>0.05%</td>\n",
       "      <td>Quick Ratio</td>\n",
       "      <td>2.90</td>\n",
       "      <td>Sales past 5Y</td>\n",
       "      <td>5.10%</td>\n",
       "      <td>Gross Margin</td>\n",
       "      <td>40.10%</td>\n",
       "      <td>52W Low</td>\n",
       "      <td>273.89%</td>\n",
       "      <td>ATR</td>\n",
       "      <td>1.51</td>\n",
       "    </tr>\n",
       "    <tr>\n",
       "      <th>8</th>\n",
       "      <td>Employees</td>\n",
       "      <td>52000</td>\n",
       "      <td>Current Ratio</td>\n",
       "      <td>2.90</td>\n",
       "      <td>Sales Q/Q</td>\n",
       "      <td>-29.10%</td>\n",
       "      <td>Oper. Margin</td>\n",
       "      <td>40.30%</td>\n",
       "      <td>RSI (14)</td>\n",
       "      <td>67.91</td>\n",
       "      <td>Volatility</td>\n",
       "      <td>9.00% 7.55%</td>\n",
       "    </tr>\n",
       "    <tr>\n",
       "      <th>9</th>\n",
       "      <td>Optionable</td>\n",
       "      <td>Yes</td>\n",
       "      <td>Debt/Eq</td>\n",
       "      <td>1.47</td>\n",
       "      <td>EPS Q/Q</td>\n",
       "      <td>-</td>\n",
       "      <td>Profit Margin</td>\n",
       "      <td>23.60%</td>\n",
       "      <td>Rel Volume</td>\n",
       "      <td>0.97</td>\n",
       "      <td>Prev Close</td>\n",
       "      <td>23.76</td>\n",
       "    </tr>\n",
       "    <tr>\n",
       "      <th>10</th>\n",
       "      <td>Shortable</td>\n",
       "      <td>Yes</td>\n",
       "      <td>LT Debt/Eq</td>\n",
       "      <td>1.46</td>\n",
       "      <td>Earnings</td>\n",
       "      <td>Apr 30 AMC</td>\n",
       "      <td>Payout</td>\n",
       "      <td>9.70%</td>\n",
       "      <td>Avg Volume</td>\n",
       "      <td>32.35M</td>\n",
       "      <td>Price</td>\n",
       "      <td>22.06</td>\n",
       "    </tr>\n",
       "    <tr>\n",
       "      <th>11</th>\n",
       "      <td>Recom</td>\n",
       "      <td>2.60</td>\n",
       "      <td>SMA20</td>\n",
       "      <td>29.37%</td>\n",
       "      <td>SMA50</td>\n",
       "      <td>45.26%</td>\n",
       "      <td>SMA200</td>\n",
       "      <td>-12.37%</td>\n",
       "      <td>Volume</td>\n",
       "      <td>31299322</td>\n",
       "      <td>Change</td>\n",
       "      <td>-7.15%</td>\n",
       "    </tr>\n",
       "  </tbody>\n",
       "</table>\n",
       "</div>"
      ],
      "text/plain": [
       "            0        1              2       3              4           5   \\\n",
       "0        Index  S&P 500            P/E    3.97      EPS (ttm)        5.56   \n",
       "1   Market Cap   10.88B    Forward P/E       -     EPS next Y       -0.92   \n",
       "2       Income    2.83B            PEG       -     EPS next Q       -1.72   \n",
       "3        Sales   11.98B            P/S    0.91     EPS this Y     378.50%   \n",
       "4      Book/sh    16.50            P/B    1.34     EPS next Y      47.10%   \n",
       "5      Cash/sh    12.20            P/C    1.81    EPS next 5Y           -   \n",
       "6     Dividend     0.01          P/FCF  130.46    EPS past 5Y      71.20%   \n",
       "7   Dividend %    0.05%    Quick Ratio    2.90  Sales past 5Y       5.10%   \n",
       "8    Employees    52000  Current Ratio    2.90      Sales Q/Q     -29.10%   \n",
       "9   Optionable      Yes        Debt/Eq    1.47        EPS Q/Q           -   \n",
       "10   Shortable      Yes     LT Debt/Eq    1.46       Earnings  Apr 30 AMC   \n",
       "11       Recom     2.60          SMA20  29.37%          SMA50      45.26%   \n",
       "\n",
       "               6        7             8             9             10  \\\n",
       "0     Insider Own    0.60%  Shs Outstand       495.42M     Perf Week   \n",
       "1   Insider Trans  138.69%     Shs Float       489.44M    Perf Month   \n",
       "2        Inst Own   77.50%   Short Float         6.53%  Perf Quarter   \n",
       "3      Inst Trans  -11.85%   Short Ratio          0.99   Perf Half Y   \n",
       "4             ROA    8.40%  Target Price         18.04     Perf Year   \n",
       "5             ROE   39.70%     52W Range  5.90 - 34.63      Perf YTD   \n",
       "6             ROI   17.40%      52W High       -36.31%          Beta   \n",
       "7    Gross Margin   40.10%       52W Low       273.89%           ATR   \n",
       "8    Oper. Margin   40.30%      RSI (14)         67.91    Volatility   \n",
       "9   Profit Margin   23.60%    Rel Volume          0.97    Prev Close   \n",
       "10         Payout    9.70%    Avg Volume        32.35M         Price   \n",
       "11         SMA200  -12.37%        Volume      31299322        Change   \n",
       "\n",
       "             11  \n",
       "0        21.21%  \n",
       "1        41.50%  \n",
       "2         6.11%  \n",
       "3       -31.43%  \n",
       "4       -19.55%  \n",
       "5       -33.69%  \n",
       "6          2.23  \n",
       "7          1.51  \n",
       "8   9.00% 7.55%  \n",
       "9         23.76  \n",
       "10        22.06  \n",
       "11       -7.15%  "
      ]
     },
     "execution_count": 48,
     "metadata": {},
     "output_type": "execute_result"
    }
   ],
   "source": [
    "ticker_financials"
   ]
  },
  {
   "cell_type": "markdown",
   "metadata": {},
   "source": [
    "## Comparable Industry Financials"
   ]
  },
  {
   "cell_type": "code",
   "execution_count": 49,
   "metadata": {},
   "outputs": [
    {
     "data": {
      "text/html": [
       "<div>\n",
       "<style scoped>\n",
       "    .dataframe tbody tr th:only-of-type {\n",
       "        vertical-align: middle;\n",
       "    }\n",
       "\n",
       "    .dataframe tbody tr th {\n",
       "        vertical-align: top;\n",
       "    }\n",
       "\n",
       "    .dataframe thead th {\n",
       "        text-align: right;\n",
       "    }\n",
       "</style>\n",
       "<table border=\"1\" class=\"dataframe\">\n",
       "  <thead>\n",
       "    <tr style=\"text-align: right;\">\n",
       "      <th></th>\n",
       "      <th>Market Cap</th>\n",
       "      <th>P/E</th>\n",
       "      <th>Fwd P/E</th>\n",
       "      <th>PEG</th>\n",
       "      <th>P/S</th>\n",
       "      <th>P/B</th>\n",
       "      <th>P/C</th>\n",
       "      <th>P/FCF</th>\n",
       "      <th>EPS this Y</th>\n",
       "      <th>EPS next Y</th>\n",
       "      <th>...</th>\n",
       "      <th>ROA</th>\n",
       "      <th>ROE</th>\n",
       "      <th>ROI</th>\n",
       "      <th>Curr R</th>\n",
       "      <th>Quick R</th>\n",
       "      <th>LTDebt/Eq</th>\n",
       "      <th>Debt/Eq</th>\n",
       "      <th>Gross M</th>\n",
       "      <th>Oper M</th>\n",
       "      <th>Profit M</th>\n",
       "    </tr>\n",
       "    <tr>\n",
       "      <th>Ticker</th>\n",
       "      <th></th>\n",
       "      <th></th>\n",
       "      <th></th>\n",
       "      <th></th>\n",
       "      <th></th>\n",
       "      <th></th>\n",
       "      <th></th>\n",
       "      <th></th>\n",
       "      <th></th>\n",
       "      <th></th>\n",
       "      <th></th>\n",
       "      <th></th>\n",
       "      <th></th>\n",
       "      <th></th>\n",
       "      <th></th>\n",
       "      <th></th>\n",
       "      <th></th>\n",
       "      <th></th>\n",
       "      <th></th>\n",
       "      <th></th>\n",
       "      <th></th>\n",
       "    </tr>\n",
       "  </thead>\n",
       "  <tbody>\n",
       "    <tr>\n",
       "      <th>BBX</th>\n",
       "      <td>178.25M</td>\n",
       "      <td>-</td>\n",
       "      <td>76.67</td>\n",
       "      <td>-</td>\n",
       "      <td>0.21</td>\n",
       "      <td>0.40</td>\n",
       "      <td>0.45</td>\n",
       "      <td>3.59</td>\n",
       "      <td>-47.30%</td>\n",
       "      <td>104.80%</td>\n",
       "      <td>...</td>\n",
       "      <td>-0.70%</td>\n",
       "      <td>-2.20%</td>\n",
       "      <td>-4.60%</td>\n",
       "      <td>-</td>\n",
       "      <td>-</td>\n",
       "      <td>1.58</td>\n",
       "      <td>1.58</td>\n",
       "      <td>63.70%</td>\n",
       "      <td>-10.40%</td>\n",
       "      <td>-1.50%</td>\n",
       "    </tr>\n",
       "    <tr>\n",
       "      <th>BXG</th>\n",
       "      <td>353.29M</td>\n",
       "      <td>20.94</td>\n",
       "      <td>10.85</td>\n",
       "      <td>-</td>\n",
       "      <td>0.48</td>\n",
       "      <td>1.05</td>\n",
       "      <td>1.46</td>\n",
       "      <td>-</td>\n",
       "      <td>-59.80%</td>\n",
       "      <td>212.12%</td>\n",
       "      <td>...</td>\n",
       "      <td>1.50%</td>\n",
       "      <td>4.90%</td>\n",
       "      <td>4.40%</td>\n",
       "      <td>-</td>\n",
       "      <td>-</td>\n",
       "      <td>1.81</td>\n",
       "      <td>1.81</td>\n",
       "      <td>76.80%</td>\n",
       "      <td>5.00%</td>\n",
       "      <td>2.70%</td>\n",
       "    </tr>\n",
       "    <tr>\n",
       "      <th>BYD</th>\n",
       "      <td>2.51B</td>\n",
       "      <td>-</td>\n",
       "      <td>72.23</td>\n",
       "      <td>-</td>\n",
       "      <td>0.79</td>\n",
       "      <td>2.42</td>\n",
       "      <td>3.02</td>\n",
       "      <td>11.84</td>\n",
       "      <td>38.80%</td>\n",
       "      <td>107.30%</td>\n",
       "      <td>...</td>\n",
       "      <td>-0.50%</td>\n",
       "      <td>-2.90%</td>\n",
       "      <td>7.80%</td>\n",
       "      <td>1.90</td>\n",
       "      <td>1.90</td>\n",
       "      <td>3.93</td>\n",
       "      <td>3.95</td>\n",
       "      <td>47.20%</td>\n",
       "      <td>5.70%</td>\n",
       "      <td>-1.10%</td>\n",
       "    </tr>\n",
       "    <tr>\n",
       "      <th>CNTY</th>\n",
       "      <td>160.84M</td>\n",
       "      <td>-</td>\n",
       "      <td>-</td>\n",
       "      <td>-</td>\n",
       "      <td>0.62</td>\n",
       "      <td>1.58</td>\n",
       "      <td>2.52</td>\n",
       "      <td>-</td>\n",
       "      <td>-674.10%</td>\n",
       "      <td>97.30%</td>\n",
       "      <td>...</td>\n",
       "      <td>-12.70%</td>\n",
       "      <td>-42.10%</td>\n",
       "      <td>-1.50%</td>\n",
       "      <td>1.50</td>\n",
       "      <td>1.40</td>\n",
       "      <td>4.40</td>\n",
       "      <td>4.50</td>\n",
       "      <td>46.60%</td>\n",
       "      <td>-15.60%</td>\n",
       "      <td>-25.40%</td>\n",
       "    </tr>\n",
       "    <tr>\n",
       "      <th>CZR</th>\n",
       "      <td>8.29B</td>\n",
       "      <td>-</td>\n",
       "      <td>-</td>\n",
       "      <td>-</td>\n",
       "      <td>0.98</td>\n",
       "      <td>3.67</td>\n",
       "      <td>3.10</td>\n",
       "      <td>-</td>\n",
       "      <td>-772.70%</td>\n",
       "      <td>42.70%</td>\n",
       "      <td>...</td>\n",
       "      <td>-3.10%</td>\n",
       "      <td>-33.20%</td>\n",
       "      <td>3.70%</td>\n",
       "      <td>1.20</td>\n",
       "      <td>1.20</td>\n",
       "      <td>8.37</td>\n",
       "      <td>8.77</td>\n",
       "      <td>51.90%</td>\n",
       "      <td>3.70%</td>\n",
       "      <td>-9.30%</td>\n",
       "    </tr>\n",
       "    <tr>\n",
       "      <th>ERI</th>\n",
       "      <td>3.25B</td>\n",
       "      <td>-</td>\n",
       "      <td>-</td>\n",
       "      <td>-</td>\n",
       "      <td>1.37</td>\n",
       "      <td>3.53</td>\n",
       "      <td>4.62</td>\n",
       "      <td>26.62</td>\n",
       "      <td>-15.30%</td>\n",
       "      <td>92.30%</td>\n",
       "      <td>...</td>\n",
       "      <td>-2.20%</td>\n",
       "      <td>-12.40%</td>\n",
       "      <td>7.70%</td>\n",
       "      <td>1.60</td>\n",
       "      <td>1.60</td>\n",
       "      <td>3.99</td>\n",
       "      <td>4.25</td>\n",
       "      <td>49.70%</td>\n",
       "      <td>6.60%</td>\n",
       "      <td>-5.60%</td>\n",
       "    </tr>\n",
       "    <tr>\n",
       "      <th>FLL</th>\n",
       "      <td>54.44M</td>\n",
       "      <td>-</td>\n",
       "      <td>-</td>\n",
       "      <td>-</td>\n",
       "      <td>0.35</td>\n",
       "      <td>1.06</td>\n",
       "      <td>2.24</td>\n",
       "      <td>-</td>\n",
       "      <td>-28.40%</td>\n",
       "      <td>100.00%</td>\n",
       "      <td>...</td>\n",
       "      <td>-4.10%</td>\n",
       "      <td>-15.20%</td>\n",
       "      <td>3.70%</td>\n",
       "      <td>1.40</td>\n",
       "      <td>1.30</td>\n",
       "      <td>2.06</td>\n",
       "      <td>2.09</td>\n",
       "      <td>43.10%</td>\n",
       "      <td>1.00%</td>\n",
       "      <td>-5.50%</td>\n",
       "    </tr>\n",
       "    <tr>\n",
       "      <th>GDEN</th>\n",
       "      <td>367.88M</td>\n",
       "      <td>-</td>\n",
       "      <td>-</td>\n",
       "      <td>-</td>\n",
       "      <td>0.39</td>\n",
       "      <td>1.47</td>\n",
       "      <td>1.22</td>\n",
       "      <td>-</td>\n",
       "      <td>-92.40%</td>\n",
       "      <td>65.50%</td>\n",
       "      <td>...</td>\n",
       "      <td>-3.70%</td>\n",
       "      <td>-22.40%</td>\n",
       "      <td>2.70%</td>\n",
       "      <td>2.60</td>\n",
       "      <td>2.60</td>\n",
       "      <td>5.14</td>\n",
       "      <td>5.17</td>\n",
       "      <td>39.50%</td>\n",
       "      <td>1.20%</td>\n",
       "      <td>-6.80%</td>\n",
       "    </tr>\n",
       "    <tr>\n",
       "      <th>HGV</th>\n",
       "      <td>2.07B</td>\n",
       "      <td>12.77</td>\n",
       "      <td>12.68</td>\n",
       "      <td>0.90</td>\n",
       "      <td>1.19</td>\n",
       "      <td>3.79</td>\n",
       "      <td>3.09</td>\n",
       "      <td>13.80</td>\n",
       "      <td>-19.10%</td>\n",
       "      <td>930.53%</td>\n",
       "      <td>...</td>\n",
       "      <td>5.30%</td>\n",
       "      <td>32.50%</td>\n",
       "      <td>12.00%</td>\n",
       "      <td>-</td>\n",
       "      <td>-</td>\n",
       "      <td>3.82</td>\n",
       "      <td>3.82</td>\n",
       "      <td>23.20%</td>\n",
       "      <td>14.00%</td>\n",
       "      <td>9.70%</td>\n",
       "    </tr>\n",
       "    <tr>\n",
       "      <th>LVS</th>\n",
       "      <td>40.50B</td>\n",
       "      <td>19.53</td>\n",
       "      <td>21.41</td>\n",
       "      <td>-</td>\n",
       "      <td>3.41</td>\n",
       "      <td>9.13</td>\n",
       "      <td>15.57</td>\n",
       "      <td>-</td>\n",
       "      <td>11.40%</td>\n",
       "      <td>6375.00%</td>\n",
       "      <td>...</td>\n",
       "      <td>9.50%</td>\n",
       "      <td>41.10%</td>\n",
       "      <td>21.30%</td>\n",
       "      <td>1.40</td>\n",
       "      <td>1.40</td>\n",
       "      <td>2.73</td>\n",
       "      <td>2.74</td>\n",
       "      <td>49.30%</td>\n",
       "      <td>27.90%</td>\n",
       "      <td>17.80%</td>\n",
       "    </tr>\n",
       "    <tr>\n",
       "      <th>MCRI</th>\n",
       "      <td>766.90M</td>\n",
       "      <td>29.46</td>\n",
       "      <td>18.98</td>\n",
       "      <td>2.10</td>\n",
       "      <td>3.18</td>\n",
       "      <td>2.25</td>\n",
       "      <td>12.68</td>\n",
       "      <td>-</td>\n",
       "      <td>-7.20%</td>\n",
       "      <td>775.80%</td>\n",
       "      <td>...</td>\n",
       "      <td>6.00%</td>\n",
       "      <td>10.10%</td>\n",
       "      <td>5.90%</td>\n",
       "      <td>1.00</td>\n",
       "      <td>0.90</td>\n",
       "      <td>0.51</td>\n",
       "      <td>0.57</td>\n",
       "      <td>50.60%</td>\n",
       "      <td>17.00%</td>\n",
       "      <td>13.60%</td>\n",
       "    </tr>\n",
       "    <tr>\n",
       "      <th>MGM</th>\n",
       "      <td>10.88B</td>\n",
       "      <td>3.97</td>\n",
       "      <td>-</td>\n",
       "      <td>-</td>\n",
       "      <td>0.91</td>\n",
       "      <td>1.34</td>\n",
       "      <td>1.81</td>\n",
       "      <td>130.46</td>\n",
       "      <td>378.50%</td>\n",
       "      <td>47.10%</td>\n",
       "      <td>...</td>\n",
       "      <td>8.40%</td>\n",
       "      <td>39.70%</td>\n",
       "      <td>17.40%</td>\n",
       "      <td>2.90</td>\n",
       "      <td>2.90</td>\n",
       "      <td>1.46</td>\n",
       "      <td>1.47</td>\n",
       "      <td>40.10%</td>\n",
       "      <td>40.30%</td>\n",
       "      <td>23.60%</td>\n",
       "    </tr>\n",
       "    <tr>\n",
       "      <th>MLCO</th>\n",
       "      <td>8.82B</td>\n",
       "      <td>-</td>\n",
       "      <td>28.99</td>\n",
       "      <td>-</td>\n",
       "      <td>1.70</td>\n",
       "      <td>4.61</td>\n",
       "      <td>5.78</td>\n",
       "      <td>-</td>\n",
       "      <td>15.20%</td>\n",
       "      <td>145.10%</td>\n",
       "      <td>...</td>\n",
       "      <td>-</td>\n",
       "      <td>-</td>\n",
       "      <td>10.30%</td>\n",
       "      <td>1.50</td>\n",
       "      <td>1.50</td>\n",
       "      <td>2.56</td>\n",
       "      <td>2.58</td>\n",
       "      <td>34.20%</td>\n",
       "      <td>-</td>\n",
       "      <td>-</td>\n",
       "    </tr>\n",
       "    <tr>\n",
       "      <th>MSC</th>\n",
       "      <td>1.20B</td>\n",
       "      <td>28.54</td>\n",
       "      <td>-</td>\n",
       "      <td>-</td>\n",
       "      <td>1.91</td>\n",
       "      <td>1.12</td>\n",
       "      <td>4.71</td>\n",
       "      <td>-</td>\n",
       "      <td>223.10%</td>\n",
       "      <td>83.60%</td>\n",
       "      <td>...</td>\n",
       "      <td>-</td>\n",
       "      <td>-</td>\n",
       "      <td>7.50%</td>\n",
       "      <td>3.60</td>\n",
       "      <td>3.50</td>\n",
       "      <td>1.30</td>\n",
       "      <td>0.00</td>\n",
       "      <td>78.20%</td>\n",
       "      <td>12.20%</td>\n",
       "      <td>-</td>\n",
       "    </tr>\n",
       "    <tr>\n",
       "      <th>MTN</th>\n",
       "      <td>7.99B</td>\n",
       "      <td>25.82</td>\n",
       "      <td>37.57</td>\n",
       "      <td>-</td>\n",
       "      <td>3.34</td>\n",
       "      <td>5.34</td>\n",
       "      <td>16.55</td>\n",
       "      <td>-</td>\n",
       "      <td>-4.50%</td>\n",
       "      <td>105.44%</td>\n",
       "      <td>...</td>\n",
       "      <td>3.30%</td>\n",
       "      <td>11.50%</td>\n",
       "      <td>13.00%</td>\n",
       "      <td>1.40</td>\n",
       "      <td>1.20</td>\n",
       "      <td>1.66</td>\n",
       "      <td>1.71</td>\n",
       "      <td>42.40%</td>\n",
       "      <td>11.40%</td>\n",
       "      <td>6.80%</td>\n",
       "    </tr>\n",
       "    <tr>\n",
       "      <th>PENN</th>\n",
       "      <td>4.58B</td>\n",
       "      <td>-</td>\n",
       "      <td>-</td>\n",
       "      <td>-</td>\n",
       "      <td>0.89</td>\n",
       "      <td>2.99</td>\n",
       "      <td>6.27</td>\n",
       "      <td>9.57</td>\n",
       "      <td>-60.00%</td>\n",
       "      <td>99.00%</td>\n",
       "      <td>...</td>\n",
       "      <td>-4.30%</td>\n",
       "      <td>-34.90%</td>\n",
       "      <td>6.10%</td>\n",
       "      <td>1.60</td>\n",
       "      <td>1.60</td>\n",
       "      <td>5.69</td>\n",
       "      <td>5.78</td>\n",
       "      <td>44.60%</td>\n",
       "      <td>-3.30%</td>\n",
       "      <td>-11.80%</td>\n",
       "    </tr>\n",
       "    <tr>\n",
       "      <th>PLYA</th>\n",
       "      <td>569.41M</td>\n",
       "      <td>-</td>\n",
       "      <td>-</td>\n",
       "      <td>-</td>\n",
       "      <td>0.92</td>\n",
       "      <td>0.65</td>\n",
       "      <td>8.18</td>\n",
       "      <td>-</td>\n",
       "      <td>-121.60%</td>\n",
       "      <td>71.60%</td>\n",
       "      <td>...</td>\n",
       "      <td>-3.20%</td>\n",
       "      <td>-8.50%</td>\n",
       "      <td>2.30%</td>\n",
       "      <td>-</td>\n",
       "      <td>-</td>\n",
       "      <td>1.38</td>\n",
       "      <td>1.38</td>\n",
       "      <td>38.50%</td>\n",
       "      <td>-2.90%</td>\n",
       "      <td>-11.30%</td>\n",
       "    </tr>\n",
       "    <tr>\n",
       "      <th>RRR</th>\n",
       "      <td>1.68B</td>\n",
       "      <td>-</td>\n",
       "      <td>-</td>\n",
       "      <td>-</td>\n",
       "      <td>0.94</td>\n",
       "      <td>3.00</td>\n",
       "      <td>1.54</td>\n",
       "      <td>4.74</td>\n",
       "      <td>-103.60%</td>\n",
       "      <td>86.90%</td>\n",
       "      <td>...</td>\n",
       "      <td>-3.90%</td>\n",
       "      <td>-35.80%</td>\n",
       "      <td>4.70%</td>\n",
       "      <td>4.90</td>\n",
       "      <td>4.80</td>\n",
       "      <td>11.50</td>\n",
       "      <td>11.58</td>\n",
       "      <td>46.90%</td>\n",
       "      <td>5.10%</td>\n",
       "      <td>-9.30%</td>\n",
       "    </tr>\n",
       "    <tr>\n",
       "      <th>TRWH</th>\n",
       "      <td>758.29M</td>\n",
       "      <td>33.55</td>\n",
       "      <td>15.80</td>\n",
       "      <td>-</td>\n",
       "      <td>1.48</td>\n",
       "      <td>4.43</td>\n",
       "      <td>2.10</td>\n",
       "      <td>9.95</td>\n",
       "      <td>-22.00%</td>\n",
       "      <td>198.10%</td>\n",
       "      <td>...</td>\n",
       "      <td>2.50%</td>\n",
       "      <td>10.80%</td>\n",
       "      <td>10.40%</td>\n",
       "      <td>5.10</td>\n",
       "      <td>5.00</td>\n",
       "      <td>5.44</td>\n",
       "      <td>5.46</td>\n",
       "      <td>62.70%</td>\n",
       "      <td>15.50%</td>\n",
       "      <td>5.60%</td>\n",
       "    </tr>\n",
       "    <tr>\n",
       "      <th>VAC</th>\n",
       "      <td>4.07B</td>\n",
       "      <td>1751.43</td>\n",
       "      <td>16.08</td>\n",
       "      <td>-</td>\n",
       "      <td>0.95</td>\n",
       "      <td>1.48</td>\n",
       "      <td>6.25</td>\n",
       "      <td>43.30</td>\n",
       "      <td>88.30%</td>\n",
       "      <td>114.04%</td>\n",
       "      <td>...</td>\n",
       "      <td>0.10%</td>\n",
       "      <td>0.30%</td>\n",
       "      <td>3.70%</td>\n",
       "      <td>-</td>\n",
       "      <td>-</td>\n",
       "      <td>1.70</td>\n",
       "      <td>1.70</td>\n",
       "      <td>50.90%</td>\n",
       "      <td>4.80%</td>\n",
       "      <td>0.20%</td>\n",
       "    </tr>\n",
       "    <tr>\n",
       "      <th>WYNN</th>\n",
       "      <td>10.40B</td>\n",
       "      <td>-</td>\n",
       "      <td>203.89</td>\n",
       "      <td>-</td>\n",
       "      <td>1.76</td>\n",
       "      <td>8.83</td>\n",
       "      <td>-</td>\n",
       "      <td>-</td>\n",
       "      <td>-32.20%</td>\n",
       "      <td>104.50%</td>\n",
       "      <td>...</td>\n",
       "      <td>-2.80%</td>\n",
       "      <td>-22.10%</td>\n",
       "      <td>5.70%</td>\n",
       "      <td>1.80</td>\n",
       "      <td>1.80</td>\n",
       "      <td>8.96</td>\n",
       "      <td>9.15</td>\n",
       "      <td>35.80%</td>\n",
       "      <td>6.10%</td>\n",
       "      <td>-6.50%</td>\n",
       "    </tr>\n",
       "  </tbody>\n",
       "</table>\n",
       "<p>21 rows × 26 columns</p>\n",
       "</div>"
      ],
      "text/plain": [
       "0      Market Cap      P/E Fwd P/E   PEG   P/S   P/B    P/C   P/FCF  \\\n",
       "Ticker                                                                \n",
       "BBX       178.25M        -   76.67     -  0.21  0.40   0.45    3.59   \n",
       "BXG       353.29M    20.94   10.85     -  0.48  1.05   1.46       -   \n",
       "BYD         2.51B        -   72.23     -  0.79  2.42   3.02   11.84   \n",
       "CNTY      160.84M        -       -     -  0.62  1.58   2.52       -   \n",
       "CZR         8.29B        -       -     -  0.98  3.67   3.10       -   \n",
       "ERI         3.25B        -       -     -  1.37  3.53   4.62   26.62   \n",
       "FLL        54.44M        -       -     -  0.35  1.06   2.24       -   \n",
       "GDEN      367.88M        -       -     -  0.39  1.47   1.22       -   \n",
       "HGV         2.07B    12.77   12.68  0.90  1.19  3.79   3.09   13.80   \n",
       "LVS        40.50B    19.53   21.41     -  3.41  9.13  15.57       -   \n",
       "MCRI      766.90M    29.46   18.98  2.10  3.18  2.25  12.68       -   \n",
       "MGM        10.88B     3.97       -     -  0.91  1.34   1.81  130.46   \n",
       "MLCO        8.82B        -   28.99     -  1.70  4.61   5.78       -   \n",
       "MSC         1.20B    28.54       -     -  1.91  1.12   4.71       -   \n",
       "MTN         7.99B    25.82   37.57     -  3.34  5.34  16.55       -   \n",
       "PENN        4.58B        -       -     -  0.89  2.99   6.27    9.57   \n",
       "PLYA      569.41M        -       -     -  0.92  0.65   8.18       -   \n",
       "RRR         1.68B        -       -     -  0.94  3.00   1.54    4.74   \n",
       "TRWH      758.29M    33.55   15.80     -  1.48  4.43   2.10    9.95   \n",
       "VAC         4.07B  1751.43   16.08     -  0.95  1.48   6.25   43.30   \n",
       "WYNN       10.40B        -  203.89     -  1.76  8.83      -       -   \n",
       "\n",
       "0      EPS this Y EPS next Y  ...      ROA      ROE     ROI Curr R Quick R  \\\n",
       "Ticker                        ...                                            \n",
       "BBX       -47.30%    104.80%  ...   -0.70%   -2.20%  -4.60%      -       -   \n",
       "BXG       -59.80%    212.12%  ...    1.50%    4.90%   4.40%      -       -   \n",
       "BYD        38.80%    107.30%  ...   -0.50%   -2.90%   7.80%   1.90    1.90   \n",
       "CNTY     -674.10%     97.30%  ...  -12.70%  -42.10%  -1.50%   1.50    1.40   \n",
       "CZR      -772.70%     42.70%  ...   -3.10%  -33.20%   3.70%   1.20    1.20   \n",
       "ERI       -15.30%     92.30%  ...   -2.20%  -12.40%   7.70%   1.60    1.60   \n",
       "FLL       -28.40%    100.00%  ...   -4.10%  -15.20%   3.70%   1.40    1.30   \n",
       "GDEN      -92.40%     65.50%  ...   -3.70%  -22.40%   2.70%   2.60    2.60   \n",
       "HGV       -19.10%    930.53%  ...    5.30%   32.50%  12.00%      -       -   \n",
       "LVS        11.40%   6375.00%  ...    9.50%   41.10%  21.30%   1.40    1.40   \n",
       "MCRI       -7.20%    775.80%  ...    6.00%   10.10%   5.90%   1.00    0.90   \n",
       "MGM       378.50%     47.10%  ...    8.40%   39.70%  17.40%   2.90    2.90   \n",
       "MLCO       15.20%    145.10%  ...        -        -  10.30%   1.50    1.50   \n",
       "MSC       223.10%     83.60%  ...        -        -   7.50%   3.60    3.50   \n",
       "MTN        -4.50%    105.44%  ...    3.30%   11.50%  13.00%   1.40    1.20   \n",
       "PENN      -60.00%     99.00%  ...   -4.30%  -34.90%   6.10%   1.60    1.60   \n",
       "PLYA     -121.60%     71.60%  ...   -3.20%   -8.50%   2.30%      -       -   \n",
       "RRR      -103.60%     86.90%  ...   -3.90%  -35.80%   4.70%   4.90    4.80   \n",
       "TRWH      -22.00%    198.10%  ...    2.50%   10.80%  10.40%   5.10    5.00   \n",
       "VAC        88.30%    114.04%  ...    0.10%    0.30%   3.70%      -       -   \n",
       "WYNN      -32.20%    104.50%  ...   -2.80%  -22.10%   5.70%   1.80    1.80   \n",
       "\n",
       "0      LTDebt/Eq Debt/Eq Gross M   Oper M Profit M  \n",
       "Ticker                                              \n",
       "BBX         1.58    1.58  63.70%  -10.40%   -1.50%  \n",
       "BXG         1.81    1.81  76.80%    5.00%    2.70%  \n",
       "BYD         3.93    3.95  47.20%    5.70%   -1.10%  \n",
       "CNTY        4.40    4.50  46.60%  -15.60%  -25.40%  \n",
       "CZR         8.37    8.77  51.90%    3.70%   -9.30%  \n",
       "ERI         3.99    4.25  49.70%    6.60%   -5.60%  \n",
       "FLL         2.06    2.09  43.10%    1.00%   -5.50%  \n",
       "GDEN        5.14    5.17  39.50%    1.20%   -6.80%  \n",
       "HGV         3.82    3.82  23.20%   14.00%    9.70%  \n",
       "LVS         2.73    2.74  49.30%   27.90%   17.80%  \n",
       "MCRI        0.51    0.57  50.60%   17.00%   13.60%  \n",
       "MGM         1.46    1.47  40.10%   40.30%   23.60%  \n",
       "MLCO        2.56    2.58  34.20%        -        -  \n",
       "MSC         1.30    0.00  78.20%   12.20%        -  \n",
       "MTN         1.66    1.71  42.40%   11.40%    6.80%  \n",
       "PENN        5.69    5.78  44.60%   -3.30%  -11.80%  \n",
       "PLYA        1.38    1.38  38.50%   -2.90%  -11.30%  \n",
       "RRR        11.50   11.58  46.90%    5.10%   -9.30%  \n",
       "TRWH        5.44    5.46  62.70%   15.50%    5.60%  \n",
       "VAC         1.70    1.70  50.90%    4.80%    0.20%  \n",
       "WYNN        8.96    9.15  35.80%    6.10%   -6.50%  \n",
       "\n",
       "[21 rows x 26 columns]"
      ]
     },
     "execution_count": 49,
     "metadata": {},
     "output_type": "execute_result"
    }
   ],
   "source": [
    "comp_data = get_comp_data(ind)\n",
    "comp_data"
   ]
  },
  {
   "cell_type": "code",
   "execution_count": 50,
   "metadata": {},
   "outputs": [
    {
     "data": {
      "text/html": [
       "<script>\n",
       "code_show=true; \n",
       "function code_toggle() {\n",
       "    if (code_show){\n",
       "        $('div.cell.code_cell.rendered.selected div.input').hide();\n",
       "    } else {\n",
       "        $('div.cell.code_cell.rendered.selected div.input').show();\n",
       "    }\n",
       "    code_show = !code_show\n",
       "} \n",
       "$( document ).ready(code_toggle);\n",
       "</script>\n",
       "To show/hide this cell's raw code input, click <a href=\"javascript:code_toggle()\">here</a>."
      ],
      "text/plain": [
       "<IPython.core.display.HTML object>"
      ]
     },
     "metadata": {},
     "output_type": "display_data"
    },
    {
     "name": "stdout",
     "output_type": "stream",
     "text": [
      "Large Cap Comparables for MGM\n"
     ]
    },
    {
     "data": {
      "text/html": [
       "<div>\n",
       "<style scoped>\n",
       "    .dataframe tbody tr th:only-of-type {\n",
       "        vertical-align: middle;\n",
       "    }\n",
       "\n",
       "    .dataframe tbody tr th {\n",
       "        vertical-align: top;\n",
       "    }\n",
       "\n",
       "    .dataframe thead th {\n",
       "        text-align: right;\n",
       "    }\n",
       "</style>\n",
       "<table border=\"1\" class=\"dataframe\">\n",
       "  <thead>\n",
       "    <tr style=\"text-align: right;\">\n",
       "      <th></th>\n",
       "      <th>Market Cap</th>\n",
       "      <th>P/E</th>\n",
       "      <th>Fwd P/E</th>\n",
       "      <th>PEG</th>\n",
       "      <th>P/S</th>\n",
       "      <th>P/B</th>\n",
       "      <th>P/C</th>\n",
       "      <th>P/FCF</th>\n",
       "      <th>EPS this Y</th>\n",
       "      <th>EPS next Y</th>\n",
       "      <th>...</th>\n",
       "      <th>ROA</th>\n",
       "      <th>ROE</th>\n",
       "      <th>ROI</th>\n",
       "      <th>Curr R</th>\n",
       "      <th>Quick R</th>\n",
       "      <th>LTDebt/Eq</th>\n",
       "      <th>Debt/Eq</th>\n",
       "      <th>Gross M</th>\n",
       "      <th>Oper M</th>\n",
       "      <th>Profit M</th>\n",
       "    </tr>\n",
       "    <tr>\n",
       "      <th>Ticker</th>\n",
       "      <th></th>\n",
       "      <th></th>\n",
       "      <th></th>\n",
       "      <th></th>\n",
       "      <th></th>\n",
       "      <th></th>\n",
       "      <th></th>\n",
       "      <th></th>\n",
       "      <th></th>\n",
       "      <th></th>\n",
       "      <th></th>\n",
       "      <th></th>\n",
       "      <th></th>\n",
       "      <th></th>\n",
       "      <th></th>\n",
       "      <th></th>\n",
       "      <th></th>\n",
       "      <th></th>\n",
       "      <th></th>\n",
       "      <th></th>\n",
       "      <th></th>\n",
       "    </tr>\n",
       "  </thead>\n",
       "  <tbody>\n",
       "    <tr>\n",
       "      <th>LVS</th>\n",
       "      <td>40.50B</td>\n",
       "      <td>19.53</td>\n",
       "      <td>21.41</td>\n",
       "      <td>0.0</td>\n",
       "      <td>3.41</td>\n",
       "      <td>9.13</td>\n",
       "      <td>15.57</td>\n",
       "      <td>0.00</td>\n",
       "      <td>11.4</td>\n",
       "      <td>6375.0</td>\n",
       "      <td>...</td>\n",
       "      <td>9.5</td>\n",
       "      <td>41.1</td>\n",
       "      <td>21.3</td>\n",
       "      <td>1.4</td>\n",
       "      <td>1.4</td>\n",
       "      <td>2.73</td>\n",
       "      <td>2.74</td>\n",
       "      <td>49.3</td>\n",
       "      <td>27.9</td>\n",
       "      <td>17.8</td>\n",
       "    </tr>\n",
       "    <tr>\n",
       "      <th>MGM</th>\n",
       "      <td>10.88B</td>\n",
       "      <td>3.97</td>\n",
       "      <td>0.00</td>\n",
       "      <td>0.0</td>\n",
       "      <td>0.91</td>\n",
       "      <td>1.34</td>\n",
       "      <td>1.81</td>\n",
       "      <td>130.46</td>\n",
       "      <td>378.5</td>\n",
       "      <td>47.1</td>\n",
       "      <td>...</td>\n",
       "      <td>8.4</td>\n",
       "      <td>39.7</td>\n",
       "      <td>17.4</td>\n",
       "      <td>2.9</td>\n",
       "      <td>2.9</td>\n",
       "      <td>1.46</td>\n",
       "      <td>1.47</td>\n",
       "      <td>40.1</td>\n",
       "      <td>40.3</td>\n",
       "      <td>23.6</td>\n",
       "    </tr>\n",
       "    <tr>\n",
       "      <th>WYNN</th>\n",
       "      <td>10.40B</td>\n",
       "      <td>0.00</td>\n",
       "      <td>203.89</td>\n",
       "      <td>0.0</td>\n",
       "      <td>1.76</td>\n",
       "      <td>8.83</td>\n",
       "      <td>0.00</td>\n",
       "      <td>0.00</td>\n",
       "      <td>-32.2</td>\n",
       "      <td>104.5</td>\n",
       "      <td>...</td>\n",
       "      <td>-2.8</td>\n",
       "      <td>-22.1</td>\n",
       "      <td>5.7</td>\n",
       "      <td>1.8</td>\n",
       "      <td>1.8</td>\n",
       "      <td>8.96</td>\n",
       "      <td>9.15</td>\n",
       "      <td>35.8</td>\n",
       "      <td>6.1</td>\n",
       "      <td>-6.5</td>\n",
       "    </tr>\n",
       "  </tbody>\n",
       "</table>\n",
       "<p>3 rows × 26 columns</p>\n",
       "</div>"
      ],
      "text/plain": [
       "0      Market Cap    P/E  Fwd P/E  PEG   P/S   P/B    P/C   P/FCF  EPS this Y  \\\n",
       "Ticker                                                                          \n",
       "LVS        40.50B  19.53    21.41  0.0  3.41  9.13  15.57    0.00        11.4   \n",
       "MGM        10.88B   3.97     0.00  0.0  0.91  1.34   1.81  130.46       378.5   \n",
       "WYNN       10.40B   0.00   203.89  0.0  1.76  8.83   0.00    0.00       -32.2   \n",
       "\n",
       "0       EPS next Y  ...  ROA   ROE   ROI  Curr R  Quick R  LTDebt/Eq  Debt/Eq  \\\n",
       "Ticker              ...                                                         \n",
       "LVS         6375.0  ...  9.5  41.1  21.3     1.4      1.4       2.73     2.74   \n",
       "MGM           47.1  ...  8.4  39.7  17.4     2.9      2.9       1.46     1.47   \n",
       "WYNN         104.5  ... -2.8 -22.1   5.7     1.8      1.8       8.96     9.15   \n",
       "\n",
       "0       Gross M  Oper M  Profit M  \n",
       "Ticker                             \n",
       "LVS        49.3    27.9      17.8  \n",
       "MGM        40.1    40.3      23.6  \n",
       "WYNN       35.8     6.1      -6.5  \n",
       "\n",
       "[3 rows x 26 columns]"
      ]
     },
     "execution_count": 50,
     "metadata": {},
     "output_type": "execute_result"
    }
   ],
   "source": [
    "# Small cap: Under $1 Billion\n",
    "# Mid Cap: $2 to $10 Billion\n",
    "# Large Cap: Over $10 Billion\n",
    "\n",
    "# Format all values in the above table to float for calculations and assign cap groupings\n",
    "format_data_to_floats(comp_data)\n",
    "caps = assign_cap_groupings(comp_data)\n",
    "\n",
    "# Find the cap grouping of our ticker\n",
    "for index, c in enumerate(caps.values()):\n",
    "    if ticker in c:\n",
    "        tick_cap = list(caps.keys())[index]\n",
    "\n",
    "display(tag)\n",
    "\n",
    "# Print only the companies in the same cap group as our ticker\n",
    "# caps[tick_cap] will return the list of comparable tickers\n",
    "print(\"{} Comparables for {}\".format(tick_cap, ticker))\n",
    "comp_data.loc[caps[tick_cap]]"
   ]
  },
  {
   "cell_type": "markdown",
   "metadata": {},
   "source": [
    "## Compare Security Against Industry Averages"
   ]
  },
  {
   "cell_type": "code",
   "execution_count": 51,
   "metadata": {},
   "outputs": [
    {
     "data": {
      "text/html": [
       "<script>\n",
       "code_show=true; \n",
       "function code_toggle() {\n",
       "    if (code_show){\n",
       "        $('div.cell.code_cell.rendered.selected div.input').hide();\n",
       "    } else {\n",
       "        $('div.cell.code_cell.rendered.selected div.input').show();\n",
       "    }\n",
       "    code_show = !code_show\n",
       "} \n",
       "$( document ).ready(code_toggle);\n",
       "</script>\n",
       "To show/hide this cell's raw code input, click <a href=\"javascript:code_toggle()\">here</a>."
      ],
      "text/plain": [
       "<IPython.core.display.HTML object>"
      ]
     },
     "metadata": {},
     "output_type": "display_data"
    },
    {
     "data": {
      "application/vnd.plotly.v1+json": {
       "config": {
        "plotlyServerURL": "https://plot.ly"
       },
       "data": [
        {
         "marker": {
          "color": "#1f77b4"
         },
         "name": "MGM",
         "type": "bar",
         "x": [
          "P/E",
          "Fwd P/E",
          "PEG",
          "P/S",
          "P/B",
          "P/C",
          "P/FCF"
         ],
         "xaxis": "x",
         "y": [
          3.97,
          0,
          0,
          0.91,
          1.34,
          1.81,
          130.46
         ],
         "yaxis": "y"
        },
        {
         "marker": {
          "color": "#ff7f0e"
         },
         "name": "Industry Avg",
         "type": "bar",
         "x": [
          "P/E",
          "Fwd P/E",
          "PEG",
          "P/S",
          "P/B",
          "P/C",
          "P/FCF"
         ],
         "xaxis": "x",
         "y": [
          91.7147619047619,
          24.530952380952378,
          0.14285714285714285,
          1.3223809523809524,
          3.0542857142857143,
          4.9123809523809525,
          12.08904761904762
         ],
         "yaxis": "y"
        },
        {
         "marker": {
          "color": "#1f77b4"
         },
         "name": "MGM",
         "textposition": "auto",
         "type": "bar",
         "x": [
          "Curr R",
          "Quick R",
          "LTDebt/Eq",
          "Debt/Eq"
         ],
         "xaxis": "x2",
         "y": [
          2.9,
          2.9,
          1.46,
          1.47
         ],
         "yaxis": "y2"
        },
        {
         "marker": {
          "color": "#9467bd"
         },
         "name": "Ind Avg",
         "textposition": "auto",
         "type": "bar",
         "x": [
          "Curr R",
          "Quick R",
          "LTDebt/Eq",
          "Debt/Eq"
         ],
         "xaxis": "x2",
         "y": [
          1.6857142857142857,
          1.6476190476190473,
          3.8090476190476195,
          3.8123809523809533
         ],
         "yaxis": "y2"
        },
        {
         "marker": {
          "color": "#1f77b4"
         },
         "name": "MGM",
         "textposition": "auto",
         "type": "bar",
         "x": [
          "Gross M",
          "Oper M",
          "Profit M"
         ],
         "xaxis": "x3",
         "y": [
          40.1,
          40.3,
          23.6
         ],
         "yaxis": "y3"
        },
        {
         "marker": {
          "color": "#bcbd22"
         },
         "name": "Ind Avg",
         "textposition": "auto",
         "type": "bar",
         "x": [
          "Gross M",
          "Oper M",
          "Profit M"
         ],
         "xaxis": "x3",
         "y": [
          48.37619047619047,
          6.9190476190476184,
          -0.6714285714285714
         ],
         "yaxis": "y3"
        }
       ],
       "layout": {
        "annotations": [
         {
          "font": {
           "size": 16
          },
          "showarrow": false,
          "text": "Financial Ratios",
          "x": 0.5,
          "xanchor": "center",
          "xref": "paper",
          "y": 1,
          "yanchor": "bottom",
          "yref": "paper"
         },
         {
          "font": {
           "size": 16
          },
          "showarrow": false,
          "text": "Debt",
          "x": 0.5,
          "xanchor": "center",
          "xref": "paper",
          "y": 0.6111111111111112,
          "yanchor": "bottom",
          "yref": "paper"
         },
         {
          "font": {
           "size": 16
          },
          "showarrow": false,
          "text": "Margins",
          "x": 0.5,
          "xanchor": "center",
          "xref": "paper",
          "y": 0.22222222222222224,
          "yanchor": "bottom",
          "yref": "paper"
         }
        ],
        "autosize": false,
        "bargap": 0.15,
        "bargroupgap": 0.1,
        "barmode": "group",
        "height": 1000,
        "showlegend": false,
        "template": {
         "data": {
          "bar": [
           {
            "error_x": {
             "color": "#2a3f5f"
            },
            "error_y": {
             "color": "#2a3f5f"
            },
            "marker": {
             "line": {
              "color": "#E5ECF6",
              "width": 0.5
             }
            },
            "type": "bar"
           }
          ],
          "barpolar": [
           {
            "marker": {
             "line": {
              "color": "#E5ECF6",
              "width": 0.5
             }
            },
            "type": "barpolar"
           }
          ],
          "carpet": [
           {
            "aaxis": {
             "endlinecolor": "#2a3f5f",
             "gridcolor": "white",
             "linecolor": "white",
             "minorgridcolor": "white",
             "startlinecolor": "#2a3f5f"
            },
            "baxis": {
             "endlinecolor": "#2a3f5f",
             "gridcolor": "white",
             "linecolor": "white",
             "minorgridcolor": "white",
             "startlinecolor": "#2a3f5f"
            },
            "type": "carpet"
           }
          ],
          "choropleth": [
           {
            "colorbar": {
             "outlinewidth": 0,
             "ticks": ""
            },
            "type": "choropleth"
           }
          ],
          "contour": [
           {
            "colorbar": {
             "outlinewidth": 0,
             "ticks": ""
            },
            "colorscale": [
             [
              0,
              "#0d0887"
             ],
             [
              0.1111111111111111,
              "#46039f"
             ],
             [
              0.2222222222222222,
              "#7201a8"
             ],
             [
              0.3333333333333333,
              "#9c179e"
             ],
             [
              0.4444444444444444,
              "#bd3786"
             ],
             [
              0.5555555555555556,
              "#d8576b"
             ],
             [
              0.6666666666666666,
              "#ed7953"
             ],
             [
              0.7777777777777778,
              "#fb9f3a"
             ],
             [
              0.8888888888888888,
              "#fdca26"
             ],
             [
              1,
              "#f0f921"
             ]
            ],
            "type": "contour"
           }
          ],
          "contourcarpet": [
           {
            "colorbar": {
             "outlinewidth": 0,
             "ticks": ""
            },
            "type": "contourcarpet"
           }
          ],
          "heatmap": [
           {
            "colorbar": {
             "outlinewidth": 0,
             "ticks": ""
            },
            "colorscale": [
             [
              0,
              "#0d0887"
             ],
             [
              0.1111111111111111,
              "#46039f"
             ],
             [
              0.2222222222222222,
              "#7201a8"
             ],
             [
              0.3333333333333333,
              "#9c179e"
             ],
             [
              0.4444444444444444,
              "#bd3786"
             ],
             [
              0.5555555555555556,
              "#d8576b"
             ],
             [
              0.6666666666666666,
              "#ed7953"
             ],
             [
              0.7777777777777778,
              "#fb9f3a"
             ],
             [
              0.8888888888888888,
              "#fdca26"
             ],
             [
              1,
              "#f0f921"
             ]
            ],
            "type": "heatmap"
           }
          ],
          "heatmapgl": [
           {
            "colorbar": {
             "outlinewidth": 0,
             "ticks": ""
            },
            "colorscale": [
             [
              0,
              "#0d0887"
             ],
             [
              0.1111111111111111,
              "#46039f"
             ],
             [
              0.2222222222222222,
              "#7201a8"
             ],
             [
              0.3333333333333333,
              "#9c179e"
             ],
             [
              0.4444444444444444,
              "#bd3786"
             ],
             [
              0.5555555555555556,
              "#d8576b"
             ],
             [
              0.6666666666666666,
              "#ed7953"
             ],
             [
              0.7777777777777778,
              "#fb9f3a"
             ],
             [
              0.8888888888888888,
              "#fdca26"
             ],
             [
              1,
              "#f0f921"
             ]
            ],
            "type": "heatmapgl"
           }
          ],
          "histogram": [
           {
            "marker": {
             "colorbar": {
              "outlinewidth": 0,
              "ticks": ""
             }
            },
            "type": "histogram"
           }
          ],
          "histogram2d": [
           {
            "colorbar": {
             "outlinewidth": 0,
             "ticks": ""
            },
            "colorscale": [
             [
              0,
              "#0d0887"
             ],
             [
              0.1111111111111111,
              "#46039f"
             ],
             [
              0.2222222222222222,
              "#7201a8"
             ],
             [
              0.3333333333333333,
              "#9c179e"
             ],
             [
              0.4444444444444444,
              "#bd3786"
             ],
             [
              0.5555555555555556,
              "#d8576b"
             ],
             [
              0.6666666666666666,
              "#ed7953"
             ],
             [
              0.7777777777777778,
              "#fb9f3a"
             ],
             [
              0.8888888888888888,
              "#fdca26"
             ],
             [
              1,
              "#f0f921"
             ]
            ],
            "type": "histogram2d"
           }
          ],
          "histogram2dcontour": [
           {
            "colorbar": {
             "outlinewidth": 0,
             "ticks": ""
            },
            "colorscale": [
             [
              0,
              "#0d0887"
             ],
             [
              0.1111111111111111,
              "#46039f"
             ],
             [
              0.2222222222222222,
              "#7201a8"
             ],
             [
              0.3333333333333333,
              "#9c179e"
             ],
             [
              0.4444444444444444,
              "#bd3786"
             ],
             [
              0.5555555555555556,
              "#d8576b"
             ],
             [
              0.6666666666666666,
              "#ed7953"
             ],
             [
              0.7777777777777778,
              "#fb9f3a"
             ],
             [
              0.8888888888888888,
              "#fdca26"
             ],
             [
              1,
              "#f0f921"
             ]
            ],
            "type": "histogram2dcontour"
           }
          ],
          "mesh3d": [
           {
            "colorbar": {
             "outlinewidth": 0,
             "ticks": ""
            },
            "type": "mesh3d"
           }
          ],
          "parcoords": [
           {
            "line": {
             "colorbar": {
              "outlinewidth": 0,
              "ticks": ""
             }
            },
            "type": "parcoords"
           }
          ],
          "pie": [
           {
            "automargin": true,
            "type": "pie"
           }
          ],
          "scatter": [
           {
            "marker": {
             "colorbar": {
              "outlinewidth": 0,
              "ticks": ""
             }
            },
            "type": "scatter"
           }
          ],
          "scatter3d": [
           {
            "line": {
             "colorbar": {
              "outlinewidth": 0,
              "ticks": ""
             }
            },
            "marker": {
             "colorbar": {
              "outlinewidth": 0,
              "ticks": ""
             }
            },
            "type": "scatter3d"
           }
          ],
          "scattercarpet": [
           {
            "marker": {
             "colorbar": {
              "outlinewidth": 0,
              "ticks": ""
             }
            },
            "type": "scattercarpet"
           }
          ],
          "scattergeo": [
           {
            "marker": {
             "colorbar": {
              "outlinewidth": 0,
              "ticks": ""
             }
            },
            "type": "scattergeo"
           }
          ],
          "scattergl": [
           {
            "marker": {
             "colorbar": {
              "outlinewidth": 0,
              "ticks": ""
             }
            },
            "type": "scattergl"
           }
          ],
          "scattermapbox": [
           {
            "marker": {
             "colorbar": {
              "outlinewidth": 0,
              "ticks": ""
             }
            },
            "type": "scattermapbox"
           }
          ],
          "scatterpolar": [
           {
            "marker": {
             "colorbar": {
              "outlinewidth": 0,
              "ticks": ""
             }
            },
            "type": "scatterpolar"
           }
          ],
          "scatterpolargl": [
           {
            "marker": {
             "colorbar": {
              "outlinewidth": 0,
              "ticks": ""
             }
            },
            "type": "scatterpolargl"
           }
          ],
          "scatterternary": [
           {
            "marker": {
             "colorbar": {
              "outlinewidth": 0,
              "ticks": ""
             }
            },
            "type": "scatterternary"
           }
          ],
          "surface": [
           {
            "colorbar": {
             "outlinewidth": 0,
             "ticks": ""
            },
            "colorscale": [
             [
              0,
              "#0d0887"
             ],
             [
              0.1111111111111111,
              "#46039f"
             ],
             [
              0.2222222222222222,
              "#7201a8"
             ],
             [
              0.3333333333333333,
              "#9c179e"
             ],
             [
              0.4444444444444444,
              "#bd3786"
             ],
             [
              0.5555555555555556,
              "#d8576b"
             ],
             [
              0.6666666666666666,
              "#ed7953"
             ],
             [
              0.7777777777777778,
              "#fb9f3a"
             ],
             [
              0.8888888888888888,
              "#fdca26"
             ],
             [
              1,
              "#f0f921"
             ]
            ],
            "type": "surface"
           }
          ],
          "table": [
           {
            "cells": {
             "fill": {
              "color": "#EBF0F8"
             },
             "line": {
              "color": "white"
             }
            },
            "header": {
             "fill": {
              "color": "#C8D4E3"
             },
             "line": {
              "color": "white"
             }
            },
            "type": "table"
           }
          ]
         },
         "layout": {
          "annotationdefaults": {
           "arrowcolor": "#2a3f5f",
           "arrowhead": 0,
           "arrowwidth": 1
          },
          "coloraxis": {
           "colorbar": {
            "outlinewidth": 0,
            "ticks": ""
           }
          },
          "colorscale": {
           "diverging": [
            [
             0,
             "#8e0152"
            ],
            [
             0.1,
             "#c51b7d"
            ],
            [
             0.2,
             "#de77ae"
            ],
            [
             0.3,
             "#f1b6da"
            ],
            [
             0.4,
             "#fde0ef"
            ],
            [
             0.5,
             "#f7f7f7"
            ],
            [
             0.6,
             "#e6f5d0"
            ],
            [
             0.7,
             "#b8e186"
            ],
            [
             0.8,
             "#7fbc41"
            ],
            [
             0.9,
             "#4d9221"
            ],
            [
             1,
             "#276419"
            ]
           ],
           "sequential": [
            [
             0,
             "#0d0887"
            ],
            [
             0.1111111111111111,
             "#46039f"
            ],
            [
             0.2222222222222222,
             "#7201a8"
            ],
            [
             0.3333333333333333,
             "#9c179e"
            ],
            [
             0.4444444444444444,
             "#bd3786"
            ],
            [
             0.5555555555555556,
             "#d8576b"
            ],
            [
             0.6666666666666666,
             "#ed7953"
            ],
            [
             0.7777777777777778,
             "#fb9f3a"
            ],
            [
             0.8888888888888888,
             "#fdca26"
            ],
            [
             1,
             "#f0f921"
            ]
           ],
           "sequentialminus": [
            [
             0,
             "#0d0887"
            ],
            [
             0.1111111111111111,
             "#46039f"
            ],
            [
             0.2222222222222222,
             "#7201a8"
            ],
            [
             0.3333333333333333,
             "#9c179e"
            ],
            [
             0.4444444444444444,
             "#bd3786"
            ],
            [
             0.5555555555555556,
             "#d8576b"
            ],
            [
             0.6666666666666666,
             "#ed7953"
            ],
            [
             0.7777777777777778,
             "#fb9f3a"
            ],
            [
             0.8888888888888888,
             "#fdca26"
            ],
            [
             1,
             "#f0f921"
            ]
           ]
          },
          "colorway": [
           "#636efa",
           "#EF553B",
           "#00cc96",
           "#ab63fa",
           "#FFA15A",
           "#19d3f3",
           "#FF6692",
           "#B6E880",
           "#FF97FF",
           "#FECB52"
          ],
          "font": {
           "color": "#2a3f5f"
          },
          "geo": {
           "bgcolor": "white",
           "lakecolor": "white",
           "landcolor": "#E5ECF6",
           "showlakes": true,
           "showland": true,
           "subunitcolor": "white"
          },
          "hoverlabel": {
           "align": "left"
          },
          "hovermode": "closest",
          "mapbox": {
           "style": "light"
          },
          "paper_bgcolor": "white",
          "plot_bgcolor": "#E5ECF6",
          "polar": {
           "angularaxis": {
            "gridcolor": "white",
            "linecolor": "white",
            "ticks": ""
           },
           "bgcolor": "#E5ECF6",
           "radialaxis": {
            "gridcolor": "white",
            "linecolor": "white",
            "ticks": ""
           }
          },
          "scene": {
           "xaxis": {
            "backgroundcolor": "#E5ECF6",
            "gridcolor": "white",
            "gridwidth": 2,
            "linecolor": "white",
            "showbackground": true,
            "ticks": "",
            "zerolinecolor": "white"
           },
           "yaxis": {
            "backgroundcolor": "#E5ECF6",
            "gridcolor": "white",
            "gridwidth": 2,
            "linecolor": "white",
            "showbackground": true,
            "ticks": "",
            "zerolinecolor": "white"
           },
           "zaxis": {
            "backgroundcolor": "#E5ECF6",
            "gridcolor": "white",
            "gridwidth": 2,
            "linecolor": "white",
            "showbackground": true,
            "ticks": "",
            "zerolinecolor": "white"
           }
          },
          "shapedefaults": {
           "line": {
            "color": "#2a3f5f"
           }
          },
          "ternary": {
           "aaxis": {
            "gridcolor": "white",
            "linecolor": "white",
            "ticks": ""
           },
           "baxis": {
            "gridcolor": "white",
            "linecolor": "white",
            "ticks": ""
           },
           "bgcolor": "#E5ECF6",
           "caxis": {
            "gridcolor": "white",
            "linecolor": "white",
            "ticks": ""
           }
          },
          "title": {
           "x": 0.05
          },
          "xaxis": {
           "automargin": true,
           "gridcolor": "white",
           "linecolor": "white",
           "ticks": "",
           "title": {
            "standoff": 15
           },
           "zerolinecolor": "white",
           "zerolinewidth": 2
          },
          "yaxis": {
           "automargin": true,
           "gridcolor": "white",
           "linecolor": "white",
           "ticks": "",
           "title": {
            "standoff": 15
           },
           "zerolinecolor": "white",
           "zerolinewidth": 2
          }
         }
        },
        "title": {
         "text": "MGM vs Industry Avgs"
        },
        "width": 1000,
        "xaxis": {
         "anchor": "y",
         "domain": [
          0,
          1
         ],
         "tickfont": {
          "size": 14
         }
        },
        "xaxis2": {
         "anchor": "y2",
         "domain": [
          0,
          1
         ]
        },
        "xaxis3": {
         "anchor": "y3",
         "domain": [
          0,
          1
         ]
        },
        "yaxis": {
         "anchor": "x",
         "domain": [
          0.7777777777777778,
          1
         ],
         "tickfont": {
          "size": 14
         },
         "title": {
          "font": {
           "size": 16
          }
         }
        },
        "yaxis2": {
         "anchor": "x2",
         "domain": [
          0.3888888888888889,
          0.6111111111111112
         ]
        },
        "yaxis3": {
         "anchor": "x3",
         "domain": [
          0,
          0.22222222222222224
         ]
        }
       }
      },
      "text/html": [
       "<div>\n",
       "        \n",
       "        \n",
       "            <div id=\"39fbd998-b787-4b83-b665-e5ae22a68359\" class=\"plotly-graph-div\" style=\"height:1000px; width:1000px;\"></div>\n",
       "            <script type=\"text/javascript\">\n",
       "                require([\"plotly\"], function(Plotly) {\n",
       "                    window.PLOTLYENV=window.PLOTLYENV || {};\n",
       "                    \n",
       "                if (document.getElementById(\"39fbd998-b787-4b83-b665-e5ae22a68359\")) {\n",
       "                    Plotly.newPlot(\n",
       "                        '39fbd998-b787-4b83-b665-e5ae22a68359',\n",
       "                        [{\"marker\": {\"color\": \"#1f77b4\"}, \"name\": \"MGM\", \"type\": \"bar\", \"x\": [\"P/E\", \"Fwd P/E\", \"PEG\", \"P/S\", \"P/B\", \"P/C\", \"P/FCF\"], \"xaxis\": \"x\", \"y\": [3.97, 0.0, 0.0, 0.91, 1.34, 1.81, 130.46], \"yaxis\": \"y\"}, {\"marker\": {\"color\": \"#ff7f0e\"}, \"name\": \"Industry Avg\", \"type\": \"bar\", \"x\": [\"P/E\", \"Fwd P/E\", \"PEG\", \"P/S\", \"P/B\", \"P/C\", \"P/FCF\"], \"xaxis\": \"x\", \"y\": [91.7147619047619, 24.530952380952378, 0.14285714285714285, 1.3223809523809524, 3.0542857142857143, 4.9123809523809525, 12.08904761904762], \"yaxis\": \"y\"}, {\"marker\": {\"color\": \"#1f77b4\"}, \"name\": \"MGM\", \"textposition\": \"auto\", \"type\": \"bar\", \"x\": [\"Curr R\", \"Quick R\", \"LTDebt/Eq\", \"Debt/Eq\"], \"xaxis\": \"x2\", \"y\": [2.9, 2.9, 1.46, 1.47], \"yaxis\": \"y2\"}, {\"marker\": {\"color\": \"#9467bd\"}, \"name\": \"Ind Avg\", \"textposition\": \"auto\", \"type\": \"bar\", \"x\": [\"Curr R\", \"Quick R\", \"LTDebt/Eq\", \"Debt/Eq\"], \"xaxis\": \"x2\", \"y\": [1.6857142857142857, 1.6476190476190473, 3.8090476190476195, 3.8123809523809533], \"yaxis\": \"y2\"}, {\"marker\": {\"color\": \"#1f77b4\"}, \"name\": \"MGM\", \"textposition\": \"auto\", \"type\": \"bar\", \"x\": [\"Gross M\", \"Oper M\", \"Profit M\"], \"xaxis\": \"x3\", \"y\": [40.1, 40.3, 23.6], \"yaxis\": \"y3\"}, {\"marker\": {\"color\": \"#bcbd22\"}, \"name\": \"Ind Avg\", \"textposition\": \"auto\", \"type\": \"bar\", \"x\": [\"Gross M\", \"Oper M\", \"Profit M\"], \"xaxis\": \"x3\", \"y\": [48.37619047619047, 6.9190476190476184, -0.6714285714285714], \"yaxis\": \"y3\"}],\n",
       "                        {\"annotations\": [{\"font\": {\"size\": 16}, \"showarrow\": false, \"text\": \"Financial Ratios\", \"x\": 0.5, \"xanchor\": \"center\", \"xref\": \"paper\", \"y\": 1.0, \"yanchor\": \"bottom\", \"yref\": \"paper\"}, {\"font\": {\"size\": 16}, \"showarrow\": false, \"text\": \"Debt\", \"x\": 0.5, \"xanchor\": \"center\", \"xref\": \"paper\", \"y\": 0.6111111111111112, \"yanchor\": \"bottom\", \"yref\": \"paper\"}, {\"font\": {\"size\": 16}, \"showarrow\": false, \"text\": \"Margins\", \"x\": 0.5, \"xanchor\": \"center\", \"xref\": \"paper\", \"y\": 0.22222222222222224, \"yanchor\": \"bottom\", \"yref\": \"paper\"}], \"autosize\": false, \"bargap\": 0.15, \"bargroupgap\": 0.1, \"barmode\": \"group\", \"height\": 1000, \"showlegend\": false, \"template\": {\"data\": {\"bar\": [{\"error_x\": {\"color\": \"#2a3f5f\"}, \"error_y\": {\"color\": \"#2a3f5f\"}, \"marker\": {\"line\": {\"color\": \"#E5ECF6\", \"width\": 0.5}}, \"type\": \"bar\"}], \"barpolar\": [{\"marker\": {\"line\": {\"color\": \"#E5ECF6\", \"width\": 0.5}}, \"type\": \"barpolar\"}], \"carpet\": [{\"aaxis\": {\"endlinecolor\": \"#2a3f5f\", \"gridcolor\": \"white\", \"linecolor\": \"white\", \"minorgridcolor\": \"white\", \"startlinecolor\": \"#2a3f5f\"}, \"baxis\": {\"endlinecolor\": \"#2a3f5f\", \"gridcolor\": \"white\", \"linecolor\": \"white\", \"minorgridcolor\": \"white\", \"startlinecolor\": \"#2a3f5f\"}, \"type\": \"carpet\"}], \"choropleth\": [{\"colorbar\": {\"outlinewidth\": 0, \"ticks\": \"\"}, \"type\": \"choropleth\"}], \"contour\": [{\"colorbar\": {\"outlinewidth\": 0, \"ticks\": \"\"}, \"colorscale\": [[0.0, \"#0d0887\"], [0.1111111111111111, \"#46039f\"], [0.2222222222222222, \"#7201a8\"], [0.3333333333333333, \"#9c179e\"], [0.4444444444444444, \"#bd3786\"], [0.5555555555555556, \"#d8576b\"], [0.6666666666666666, \"#ed7953\"], [0.7777777777777778, \"#fb9f3a\"], [0.8888888888888888, \"#fdca26\"], [1.0, \"#f0f921\"]], \"type\": \"contour\"}], \"contourcarpet\": [{\"colorbar\": {\"outlinewidth\": 0, \"ticks\": \"\"}, \"type\": \"contourcarpet\"}], \"heatmap\": [{\"colorbar\": {\"outlinewidth\": 0, \"ticks\": \"\"}, \"colorscale\": [[0.0, \"#0d0887\"], [0.1111111111111111, \"#46039f\"], [0.2222222222222222, \"#7201a8\"], [0.3333333333333333, \"#9c179e\"], [0.4444444444444444, \"#bd3786\"], [0.5555555555555556, \"#d8576b\"], [0.6666666666666666, \"#ed7953\"], [0.7777777777777778, \"#fb9f3a\"], [0.8888888888888888, \"#fdca26\"], [1.0, \"#f0f921\"]], \"type\": \"heatmap\"}], \"heatmapgl\": [{\"colorbar\": {\"outlinewidth\": 0, \"ticks\": \"\"}, \"colorscale\": [[0.0, \"#0d0887\"], [0.1111111111111111, \"#46039f\"], [0.2222222222222222, \"#7201a8\"], [0.3333333333333333, \"#9c179e\"], [0.4444444444444444, \"#bd3786\"], [0.5555555555555556, \"#d8576b\"], [0.6666666666666666, \"#ed7953\"], [0.7777777777777778, \"#fb9f3a\"], [0.8888888888888888, \"#fdca26\"], [1.0, \"#f0f921\"]], \"type\": \"heatmapgl\"}], \"histogram\": [{\"marker\": {\"colorbar\": {\"outlinewidth\": 0, \"ticks\": \"\"}}, \"type\": \"histogram\"}], \"histogram2d\": [{\"colorbar\": {\"outlinewidth\": 0, \"ticks\": \"\"}, \"colorscale\": [[0.0, \"#0d0887\"], [0.1111111111111111, \"#46039f\"], [0.2222222222222222, \"#7201a8\"], [0.3333333333333333, \"#9c179e\"], [0.4444444444444444, \"#bd3786\"], [0.5555555555555556, \"#d8576b\"], [0.6666666666666666, \"#ed7953\"], [0.7777777777777778, \"#fb9f3a\"], [0.8888888888888888, \"#fdca26\"], [1.0, \"#f0f921\"]], \"type\": \"histogram2d\"}], \"histogram2dcontour\": [{\"colorbar\": {\"outlinewidth\": 0, \"ticks\": \"\"}, \"colorscale\": [[0.0, \"#0d0887\"], [0.1111111111111111, \"#46039f\"], [0.2222222222222222, \"#7201a8\"], [0.3333333333333333, \"#9c179e\"], [0.4444444444444444, \"#bd3786\"], [0.5555555555555556, \"#d8576b\"], [0.6666666666666666, \"#ed7953\"], [0.7777777777777778, \"#fb9f3a\"], [0.8888888888888888, \"#fdca26\"], [1.0, \"#f0f921\"]], \"type\": \"histogram2dcontour\"}], \"mesh3d\": [{\"colorbar\": {\"outlinewidth\": 0, \"ticks\": \"\"}, \"type\": \"mesh3d\"}], \"parcoords\": [{\"line\": {\"colorbar\": {\"outlinewidth\": 0, \"ticks\": \"\"}}, \"type\": \"parcoords\"}], \"pie\": [{\"automargin\": true, \"type\": \"pie\"}], \"scatter\": [{\"marker\": {\"colorbar\": {\"outlinewidth\": 0, \"ticks\": \"\"}}, \"type\": \"scatter\"}], \"scatter3d\": [{\"line\": {\"colorbar\": {\"outlinewidth\": 0, \"ticks\": \"\"}}, \"marker\": {\"colorbar\": {\"outlinewidth\": 0, \"ticks\": \"\"}}, \"type\": \"scatter3d\"}], \"scattercarpet\": [{\"marker\": {\"colorbar\": {\"outlinewidth\": 0, \"ticks\": \"\"}}, \"type\": \"scattercarpet\"}], \"scattergeo\": [{\"marker\": {\"colorbar\": {\"outlinewidth\": 0, \"ticks\": \"\"}}, \"type\": \"scattergeo\"}], \"scattergl\": [{\"marker\": {\"colorbar\": {\"outlinewidth\": 0, \"ticks\": \"\"}}, \"type\": \"scattergl\"}], \"scattermapbox\": [{\"marker\": {\"colorbar\": {\"outlinewidth\": 0, \"ticks\": \"\"}}, \"type\": \"scattermapbox\"}], \"scatterpolar\": [{\"marker\": {\"colorbar\": {\"outlinewidth\": 0, \"ticks\": \"\"}}, \"type\": \"scatterpolar\"}], \"scatterpolargl\": [{\"marker\": {\"colorbar\": {\"outlinewidth\": 0, \"ticks\": \"\"}}, \"type\": \"scatterpolargl\"}], \"scatterternary\": [{\"marker\": {\"colorbar\": {\"outlinewidth\": 0, \"ticks\": \"\"}}, \"type\": \"scatterternary\"}], \"surface\": [{\"colorbar\": {\"outlinewidth\": 0, \"ticks\": \"\"}, \"colorscale\": [[0.0, \"#0d0887\"], [0.1111111111111111, \"#46039f\"], [0.2222222222222222, \"#7201a8\"], [0.3333333333333333, \"#9c179e\"], [0.4444444444444444, \"#bd3786\"], [0.5555555555555556, \"#d8576b\"], [0.6666666666666666, \"#ed7953\"], [0.7777777777777778, \"#fb9f3a\"], [0.8888888888888888, \"#fdca26\"], [1.0, \"#f0f921\"]], \"type\": \"surface\"}], \"table\": [{\"cells\": {\"fill\": {\"color\": \"#EBF0F8\"}, \"line\": {\"color\": \"white\"}}, \"header\": {\"fill\": {\"color\": \"#C8D4E3\"}, \"line\": {\"color\": \"white\"}}, \"type\": \"table\"}]}, \"layout\": {\"annotationdefaults\": {\"arrowcolor\": \"#2a3f5f\", \"arrowhead\": 0, \"arrowwidth\": 1}, \"coloraxis\": {\"colorbar\": {\"outlinewidth\": 0, \"ticks\": \"\"}}, \"colorscale\": {\"diverging\": [[0, \"#8e0152\"], [0.1, \"#c51b7d\"], [0.2, \"#de77ae\"], [0.3, \"#f1b6da\"], [0.4, \"#fde0ef\"], [0.5, \"#f7f7f7\"], [0.6, \"#e6f5d0\"], [0.7, \"#b8e186\"], [0.8, \"#7fbc41\"], [0.9, \"#4d9221\"], [1, \"#276419\"]], \"sequential\": [[0.0, \"#0d0887\"], [0.1111111111111111, \"#46039f\"], [0.2222222222222222, \"#7201a8\"], [0.3333333333333333, \"#9c179e\"], [0.4444444444444444, \"#bd3786\"], [0.5555555555555556, \"#d8576b\"], [0.6666666666666666, \"#ed7953\"], [0.7777777777777778, \"#fb9f3a\"], [0.8888888888888888, \"#fdca26\"], [1.0, \"#f0f921\"]], \"sequentialminus\": [[0.0, \"#0d0887\"], [0.1111111111111111, \"#46039f\"], [0.2222222222222222, \"#7201a8\"], [0.3333333333333333, \"#9c179e\"], [0.4444444444444444, \"#bd3786\"], [0.5555555555555556, \"#d8576b\"], [0.6666666666666666, \"#ed7953\"], [0.7777777777777778, \"#fb9f3a\"], [0.8888888888888888, \"#fdca26\"], [1.0, \"#f0f921\"]]}, \"colorway\": [\"#636efa\", \"#EF553B\", \"#00cc96\", \"#ab63fa\", \"#FFA15A\", \"#19d3f3\", \"#FF6692\", \"#B6E880\", \"#FF97FF\", \"#FECB52\"], \"font\": {\"color\": \"#2a3f5f\"}, \"geo\": {\"bgcolor\": \"white\", \"lakecolor\": \"white\", \"landcolor\": \"#E5ECF6\", \"showlakes\": true, \"showland\": true, \"subunitcolor\": \"white\"}, \"hoverlabel\": {\"align\": \"left\"}, \"hovermode\": \"closest\", \"mapbox\": {\"style\": \"light\"}, \"paper_bgcolor\": \"white\", \"plot_bgcolor\": \"#E5ECF6\", \"polar\": {\"angularaxis\": {\"gridcolor\": \"white\", \"linecolor\": \"white\", \"ticks\": \"\"}, \"bgcolor\": \"#E5ECF6\", \"radialaxis\": {\"gridcolor\": \"white\", \"linecolor\": \"white\", \"ticks\": \"\"}}, \"scene\": {\"xaxis\": {\"backgroundcolor\": \"#E5ECF6\", \"gridcolor\": \"white\", \"gridwidth\": 2, \"linecolor\": \"white\", \"showbackground\": true, \"ticks\": \"\", \"zerolinecolor\": \"white\"}, \"yaxis\": {\"backgroundcolor\": \"#E5ECF6\", \"gridcolor\": \"white\", \"gridwidth\": 2, \"linecolor\": \"white\", \"showbackground\": true, \"ticks\": \"\", \"zerolinecolor\": \"white\"}, \"zaxis\": {\"backgroundcolor\": \"#E5ECF6\", \"gridcolor\": \"white\", \"gridwidth\": 2, \"linecolor\": \"white\", \"showbackground\": true, \"ticks\": \"\", \"zerolinecolor\": \"white\"}}, \"shapedefaults\": {\"line\": {\"color\": \"#2a3f5f\"}}, \"ternary\": {\"aaxis\": {\"gridcolor\": \"white\", \"linecolor\": \"white\", \"ticks\": \"\"}, \"baxis\": {\"gridcolor\": \"white\", \"linecolor\": \"white\", \"ticks\": \"\"}, \"bgcolor\": \"#E5ECF6\", \"caxis\": {\"gridcolor\": \"white\", \"linecolor\": \"white\", \"ticks\": \"\"}}, \"title\": {\"x\": 0.05}, \"xaxis\": {\"automargin\": true, \"gridcolor\": \"white\", \"linecolor\": \"white\", \"ticks\": \"\", \"title\": {\"standoff\": 15}, \"zerolinecolor\": \"white\", \"zerolinewidth\": 2}, \"yaxis\": {\"automargin\": true, \"gridcolor\": \"white\", \"linecolor\": \"white\", \"ticks\": \"\", \"title\": {\"standoff\": 15}, \"zerolinecolor\": \"white\", \"zerolinewidth\": 2}}}, \"title\": {\"text\": \"MGM vs Industry Avgs\"}, \"width\": 1000, \"xaxis\": {\"anchor\": \"y\", \"domain\": [0.0, 1.0], \"tickfont\": {\"size\": 14}}, \"xaxis2\": {\"anchor\": \"y2\", \"domain\": [0.0, 1.0]}, \"xaxis3\": {\"anchor\": \"y3\", \"domain\": [0.0, 1.0]}, \"yaxis\": {\"anchor\": \"x\", \"domain\": [0.7777777777777778, 1.0], \"tickfont\": {\"size\": 14}, \"title\": {\"font\": {\"size\": 16}}}, \"yaxis2\": {\"anchor\": \"x2\", \"domain\": [0.3888888888888889, 0.6111111111111112]}, \"yaxis3\": {\"anchor\": \"x3\", \"domain\": [0.0, 0.22222222222222224]}},\n",
       "                        {\"responsive\": true}\n",
       "                    ).then(function(){\n",
       "                            \n",
       "var gd = document.getElementById('39fbd998-b787-4b83-b665-e5ae22a68359');\n",
       "var x = new MutationObserver(function (mutations, observer) {{\n",
       "        var display = window.getComputedStyle(gd).display;\n",
       "        if (!display || display === 'none') {{\n",
       "            console.log([gd, 'removed!']);\n",
       "            Plotly.purge(gd);\n",
       "            observer.disconnect();\n",
       "        }}\n",
       "}});\n",
       "\n",
       "// Listen for the removal of the full notebook cells\n",
       "var notebookContainer = gd.closest('#notebook-container');\n",
       "if (notebookContainer) {{\n",
       "    x.observe(notebookContainer, {childList: true});\n",
       "}}\n",
       "\n",
       "// Listen for the clearing of the current output cell\n",
       "var outputEl = gd.closest('.output');\n",
       "if (outputEl) {{\n",
       "    x.observe(outputEl, {childList: true});\n",
       "}}\n",
       "\n",
       "                        })\n",
       "                };\n",
       "                });\n",
       "            </script>\n",
       "        </div>"
      ]
     },
     "metadata": {},
     "output_type": "display_data"
    }
   ],
   "source": [
    "ratio_start, ratio_end = 1, 7\n",
    "debt_start, debt_end = 18,22\n",
    "margin_start, margin_end = 22,26\n",
    "\n",
    "# generate list of financials for ticker in question\n",
    "tick_data = list(comp_data.loc[ticker])\n",
    "del tick_data[0]\n",
    "\n",
    "# calculate the industry averages from the comparable data and store in a df\n",
    "averages = get_industry_averages(comp_data)\n",
    "\n",
    "# perform analysis to compare the ticker against the industry peers for later discussion\n",
    "beat_number, sentiment, finrat_beats, dbt_beats, marg_beats = calculate_beats(tick_data, averages)\n",
    "\n",
    "display(tag)\n",
    "\n",
    "tick_index = list(comp_data.index).index(ticker)  \n",
    "\n",
    "# all code below this creates and fancies up the plotly graphs\n",
    "fig = go.Figure()\n",
    "\n",
    "fig = make_subplots(rows=3, cols=1, start_cell=\"top-left\", subplot_titles=(\"Financial Ratios\", \"Debt\", \"Margins\"))\n",
    "\n",
    "\n",
    "fig.add_trace(go.Bar(x=averages['Type'][:ratio_end],\n",
    "                y=tick_data[:ratio_end],\n",
    "                name=ticker,\n",
    "                marker_color='#1f77b4'),\n",
    "              row=1, col=1)\n",
    "\n",
    "fig.add_trace(go.Bar(x=averages['Type'][:ratio_end],\n",
    "                y=averages['Avg'][:ratio_end],\n",
    "                name='Industry Avg',\n",
    "                marker_color='#ff7f0e'), \n",
    "              row=1, col=1)\n",
    "\n",
    "fig.add_trace(go.Bar(name=ticker, x=averages['Type'][debt_start:debt_end],\n",
    "                     y=tick_data[debt_start:debt_end], \n",
    "                     textposition='auto',\n",
    "                     marker_color='#1f77b4'),\n",
    "              row=2, col=1)\n",
    "\n",
    "fig.add_trace(go.Bar(name=\"Ind Avg\", x=averages['Type'][debt_start:debt_end],\n",
    "                     y=averages['Avg'][debt_start:debt_end], \n",
    "                     textposition='auto',\n",
    "                     marker_color='#9467bd'),\n",
    "              row=2, col=1)\n",
    "\n",
    "fig.add_trace(go.Bar(name=ticker, x=averages['Type'][margin_start:margin_end],\n",
    "                     y=tick_data[margin_start:margin_end], \n",
    "                     textposition='auto',\n",
    "                     marker_color='#1f77b4'),\n",
    "              row=3, col=1)\n",
    "\n",
    "fig.add_trace(go.Bar(name=\"Ind Avg\", x=averages['Type'][margin_start:margin_end],\n",
    "                     y=averages['Avg'][margin_start:margin_end], \n",
    "                     textposition='auto',\n",
    "                     marker_color='#bcbd22'),\n",
    "              row=3, col=1)\n",
    "\n",
    "fig.update_layout(\n",
    "    title='{} vs Industry Avgs'.format(ticker),\n",
    "    xaxis_tickfont_size=14,\n",
    "    yaxis=dict(\n",
    "        titlefont_size=16,\n",
    "        tickfont_size=14,\n",
    "    ),\n",
    "    barmode='group',\n",
    "    bargap=0.15, # gap between bars of adjacent location coordinates.\n",
    "    bargroupgap=0.1 # gap between bars of the same location coordinate.\n",
    ")\n",
    "\n",
    "fig.update_layout(\n",
    "    autosize=False,\n",
    "    width=1000,\n",
    "    height=1000,\n",
    "    showlegend=False)\n",
    "\n",
    "fig.show()"
   ]
  },
  {
   "cell_type": "markdown",
   "metadata": {},
   "source": [
    "# Comp Analysis\n",
    "\n",
    "Drill down further to see how the security stacks up directly to each of its industry peers\n",
    "\n",
    "## Financial Ratios\n",
    "\n",
    "Low ratios comparable to competitors can be an indicator of value. The lower the ratio, the cheaper the stock is. Unless of course, the value is zero, which is often because the company is not generating positive earnings or cash flow so you are unable to calculate the ratio."
   ]
  },
  {
   "cell_type": "code",
   "execution_count": 52,
   "metadata": {},
   "outputs": [
    {
     "data": {
      "text/html": [
       "<script>\n",
       "code_show=true; \n",
       "function code_toggle() {\n",
       "    if (code_show){\n",
       "        $('div.cell.code_cell.rendered.selected div.input').hide();\n",
       "    } else {\n",
       "        $('div.cell.code_cell.rendered.selected div.input').show();\n",
       "    }\n",
       "    code_show = !code_show\n",
       "} \n",
       "$( document ).ready(code_toggle);\n",
       "</script>\n",
       "To show/hide this cell's raw code input, click <a href=\"javascript:code_toggle()\">here</a>."
      ],
      "text/plain": [
       "<IPython.core.display.HTML object>"
      ]
     },
     "metadata": {},
     "output_type": "display_data"
    },
    {
     "data": {
      "application/vnd.plotly.v1+json": {
       "config": {
        "plotlyServerURL": "https://plot.ly"
       },
       "data": [
        {
         "marker": {
          "color": [
           "#1f77b4",
           "#1f77b4",
           "#1f77b4",
           "#1f77b4",
           "#1f77b4",
           "#1f77b4",
           "#1f77b4",
           "#1f77b4",
           "#1f77b4",
           "#1f77b4",
           "#1f77b4",
           "gold",
           "#1f77b4",
           "#1f77b4",
           "#1f77b4",
           "#1f77b4",
           "#1f77b4",
           "#1f77b4",
           "#1f77b4",
           "#1f77b4",
           "#1f77b4"
          ]
         },
         "name": "P/E",
         "text": [
          0,
          20.94,
          0,
          0,
          0,
          0,
          0,
          0,
          12.77,
          19.53,
          29.46,
          3.97,
          0,
          28.54,
          25.82,
          0,
          0,
          0,
          33.55,
          1751.43,
          0
         ],
         "textposition": "outside",
         "type": "bar",
         "x": [
          "BBX",
          "BXG",
          "BYD",
          "CNTY",
          "CZR",
          "ERI",
          "FLL",
          "GDEN",
          "HGV",
          "LVS",
          "MCRI",
          "MGM",
          "MLCO",
          "MSC",
          "MTN",
          "PENN",
          "PLYA",
          "RRR",
          "TRWH",
          "VAC",
          "WYNN"
         ],
         "xaxis": "x",
         "y": [
          0,
          20.94,
          0,
          0,
          0,
          0,
          0,
          0,
          12.77,
          19.53,
          29.46,
          3.97,
          0,
          28.54,
          25.82,
          0,
          0,
          0,
          33.55,
          1751.43,
          0
         ],
         "yaxis": "y"
        },
        {
         "marker": {
          "color": [
           "#ff7f0e",
           "#ff7f0e",
           "#ff7f0e",
           "#ff7f0e",
           "#ff7f0e",
           "#ff7f0e",
           "#ff7f0e",
           "#ff7f0e",
           "#ff7f0e",
           "#ff7f0e",
           "#ff7f0e",
           "gold",
           "#ff7f0e",
           "#ff7f0e",
           "#ff7f0e",
           "#ff7f0e",
           "#ff7f0e",
           "#ff7f0e",
           "#ff7f0e",
           "#ff7f0e",
           "#ff7f0e"
          ]
         },
         "name": "Fwd P/E",
         "text": [
          76.67,
          10.85,
          72.23,
          0,
          0,
          0,
          0,
          0,
          12.68,
          21.41,
          18.98,
          0,
          28.99,
          0,
          37.57,
          0,
          0,
          0,
          15.8,
          16.08,
          203.89
         ],
         "textposition": "outside",
         "type": "bar",
         "x": [
          "BBX",
          "BXG",
          "BYD",
          "CNTY",
          "CZR",
          "ERI",
          "FLL",
          "GDEN",
          "HGV",
          "LVS",
          "MCRI",
          "MGM",
          "MLCO",
          "MSC",
          "MTN",
          "PENN",
          "PLYA",
          "RRR",
          "TRWH",
          "VAC",
          "WYNN"
         ],
         "xaxis": "x2",
         "y": [
          76.67,
          10.85,
          72.23,
          0,
          0,
          0,
          0,
          0,
          12.68,
          21.41,
          18.98,
          0,
          28.99,
          0,
          37.57,
          0,
          0,
          0,
          15.8,
          16.08,
          203.89
         ],
         "yaxis": "y2"
        },
        {
         "marker": {
          "color": [
           "#2ca02c",
           "#2ca02c",
           "#2ca02c",
           "#2ca02c",
           "#2ca02c",
           "#2ca02c",
           "#2ca02c",
           "#2ca02c",
           "#2ca02c",
           "#2ca02c",
           "#2ca02c",
           "gold",
           "#2ca02c",
           "#2ca02c",
           "#2ca02c",
           "#2ca02c",
           "#2ca02c",
           "#2ca02c",
           "#2ca02c",
           "#2ca02c",
           "#2ca02c"
          ]
         },
         "name": "P/S",
         "text": [
          0.21,
          0.48,
          0.79,
          0.62,
          0.98,
          1.37,
          0.35,
          0.39,
          1.19,
          3.41,
          3.18,
          0.91,
          1.7,
          1.91,
          3.34,
          0.89,
          0.92,
          0.94,
          1.48,
          0.95,
          1.76
         ],
         "textposition": "outside",
         "type": "bar",
         "x": [
          "BBX",
          "BXG",
          "BYD",
          "CNTY",
          "CZR",
          "ERI",
          "FLL",
          "GDEN",
          "HGV",
          "LVS",
          "MCRI",
          "MGM",
          "MLCO",
          "MSC",
          "MTN",
          "PENN",
          "PLYA",
          "RRR",
          "TRWH",
          "VAC",
          "WYNN"
         ],
         "xaxis": "x3",
         "y": [
          0.21,
          0.48,
          0.79,
          0.62,
          0.98,
          1.37,
          0.35,
          0.39,
          1.19,
          3.41,
          3.18,
          0.91,
          1.7,
          1.91,
          3.34,
          0.89,
          0.92,
          0.94,
          1.48,
          0.95,
          1.76
         ],
         "yaxis": "y3"
        },
        {
         "marker": {
          "color": [
           "#d62728",
           "#d62728",
           "#d62728",
           "#d62728",
           "#d62728",
           "#d62728",
           "#d62728",
           "#d62728",
           "#d62728",
           "#d62728",
           "#d62728",
           "gold",
           "#d62728",
           "#d62728",
           "#d62728",
           "#d62728",
           "#d62728",
           "#d62728",
           "#d62728",
           "#d62728",
           "#d62728"
          ]
         },
         "name": "P/B",
         "text": [
          0.4,
          1.05,
          2.42,
          1.58,
          3.67,
          3.53,
          1.06,
          1.47,
          3.79,
          9.13,
          2.25,
          1.34,
          4.61,
          1.12,
          5.34,
          2.99,
          0.65,
          3,
          4.43,
          1.48,
          8.83
         ],
         "textposition": "outside",
         "type": "bar",
         "x": [
          "BBX",
          "BXG",
          "BYD",
          "CNTY",
          "CZR",
          "ERI",
          "FLL",
          "GDEN",
          "HGV",
          "LVS",
          "MCRI",
          "MGM",
          "MLCO",
          "MSC",
          "MTN",
          "PENN",
          "PLYA",
          "RRR",
          "TRWH",
          "VAC",
          "WYNN"
         ],
         "xaxis": "x4",
         "y": [
          0.4,
          1.05,
          2.42,
          1.58,
          3.67,
          3.53,
          1.06,
          1.47,
          3.79,
          9.13,
          2.25,
          1.34,
          4.61,
          1.12,
          5.34,
          2.99,
          0.65,
          3,
          4.43,
          1.48,
          8.83
         ],
         "yaxis": "y4"
        },
        {
         "marker": {
          "color": [
           "#9467bd",
           "#9467bd",
           "#9467bd",
           "#9467bd",
           "#9467bd",
           "#9467bd",
           "#9467bd",
           "#9467bd",
           "#9467bd",
           "#9467bd",
           "#9467bd",
           "gold",
           "#9467bd",
           "#9467bd",
           "#9467bd",
           "#9467bd",
           "#9467bd",
           "#9467bd",
           "#9467bd",
           "#9467bd",
           "#9467bd"
          ]
         },
         "name": "P/C",
         "text": [
          0.45,
          1.46,
          3.02,
          2.52,
          3.1,
          4.62,
          2.24,
          1.22,
          3.09,
          15.57,
          12.68,
          1.81,
          5.78,
          4.71,
          16.55,
          6.27,
          8.18,
          1.54,
          2.1,
          6.25,
          0
         ],
         "textposition": "outside",
         "type": "bar",
         "x": [
          "BBX",
          "BXG",
          "BYD",
          "CNTY",
          "CZR",
          "ERI",
          "FLL",
          "GDEN",
          "HGV",
          "LVS",
          "MCRI",
          "MGM",
          "MLCO",
          "MSC",
          "MTN",
          "PENN",
          "PLYA",
          "RRR",
          "TRWH",
          "VAC",
          "WYNN"
         ],
         "xaxis": "x5",
         "y": [
          0.45,
          1.46,
          3.02,
          2.52,
          3.1,
          4.62,
          2.24,
          1.22,
          3.09,
          15.57,
          12.68,
          1.81,
          5.78,
          4.71,
          16.55,
          6.27,
          8.18,
          1.54,
          2.1,
          6.25,
          0
         ],
         "yaxis": "y5"
        },
        {
         "marker": {
          "color": [
           "#8c564b",
           "#8c564b",
           "#8c564b",
           "#8c564b",
           "#8c564b",
           "#8c564b",
           "#8c564b",
           "#8c564b",
           "#8c564b",
           "#8c564b",
           "#8c564b",
           "gold",
           "#8c564b",
           "#8c564b",
           "#8c564b",
           "#8c564b",
           "#8c564b",
           "#8c564b",
           "#8c564b",
           "#8c564b",
           "#8c564b"
          ]
         },
         "name": "P/FCF",
         "text": [
          3.59,
          0,
          11.84,
          0,
          0,
          26.62,
          0,
          0,
          13.8,
          0,
          0,
          130.46,
          0,
          0,
          0,
          9.57,
          0,
          4.74,
          9.95,
          43.3,
          0
         ],
         "textposition": "outside",
         "type": "bar",
         "x": [
          "BBX",
          "BXG",
          "BYD",
          "CNTY",
          "CZR",
          "ERI",
          "FLL",
          "GDEN",
          "HGV",
          "LVS",
          "MCRI",
          "MGM",
          "MLCO",
          "MSC",
          "MTN",
          "PENN",
          "PLYA",
          "RRR",
          "TRWH",
          "VAC",
          "WYNN"
         ],
         "xaxis": "x6",
         "y": [
          3.59,
          0,
          11.84,
          0,
          0,
          26.62,
          0,
          0,
          13.8,
          0,
          0,
          130.46,
          0,
          0,
          0,
          9.57,
          0,
          4.74,
          9.95,
          43.3,
          0
         ],
         "yaxis": "y6"
        }
       ],
       "layout": {
        "annotations": [
         {
          "font": {
           "size": 16
          },
          "showarrow": false,
          "text": "P/E",
          "x": 0.225,
          "xanchor": "center",
          "xref": "paper",
          "y": 1,
          "yanchor": "bottom",
          "yref": "paper"
         },
         {
          "font": {
           "size": 16
          },
          "showarrow": false,
          "text": "Fwd P/E",
          "x": 0.775,
          "xanchor": "center",
          "xref": "paper",
          "y": 1,
          "yanchor": "bottom",
          "yref": "paper"
         },
         {
          "font": {
           "size": 16
          },
          "showarrow": false,
          "text": "P/S",
          "x": 0.225,
          "xanchor": "center",
          "xref": "paper",
          "y": 0.6111111111111112,
          "yanchor": "bottom",
          "yref": "paper"
         },
         {
          "font": {
           "size": 16
          },
          "showarrow": false,
          "text": "P/B",
          "x": 0.775,
          "xanchor": "center",
          "xref": "paper",
          "y": 0.6111111111111112,
          "yanchor": "bottom",
          "yref": "paper"
         },
         {
          "font": {
           "size": 16
          },
          "showarrow": false,
          "text": "P/C",
          "x": 0.225,
          "xanchor": "center",
          "xref": "paper",
          "y": 0.22222222222222224,
          "yanchor": "bottom",
          "yref": "paper"
         },
         {
          "font": {
           "size": 16
          },
          "showarrow": false,
          "text": "P/FCF",
          "x": 0.775,
          "xanchor": "center",
          "xref": "paper",
          "y": 0.22222222222222224,
          "yanchor": "bottom",
          "yref": "paper"
         }
        ],
        "autosize": false,
        "height": 1200,
        "showlegend": false,
        "template": {
         "data": {
          "bar": [
           {
            "error_x": {
             "color": "#2a3f5f"
            },
            "error_y": {
             "color": "#2a3f5f"
            },
            "marker": {
             "line": {
              "color": "#E5ECF6",
              "width": 0.5
             }
            },
            "type": "bar"
           }
          ],
          "barpolar": [
           {
            "marker": {
             "line": {
              "color": "#E5ECF6",
              "width": 0.5
             }
            },
            "type": "barpolar"
           }
          ],
          "carpet": [
           {
            "aaxis": {
             "endlinecolor": "#2a3f5f",
             "gridcolor": "white",
             "linecolor": "white",
             "minorgridcolor": "white",
             "startlinecolor": "#2a3f5f"
            },
            "baxis": {
             "endlinecolor": "#2a3f5f",
             "gridcolor": "white",
             "linecolor": "white",
             "minorgridcolor": "white",
             "startlinecolor": "#2a3f5f"
            },
            "type": "carpet"
           }
          ],
          "choropleth": [
           {
            "colorbar": {
             "outlinewidth": 0,
             "ticks": ""
            },
            "type": "choropleth"
           }
          ],
          "contour": [
           {
            "colorbar": {
             "outlinewidth": 0,
             "ticks": ""
            },
            "colorscale": [
             [
              0,
              "#0d0887"
             ],
             [
              0.1111111111111111,
              "#46039f"
             ],
             [
              0.2222222222222222,
              "#7201a8"
             ],
             [
              0.3333333333333333,
              "#9c179e"
             ],
             [
              0.4444444444444444,
              "#bd3786"
             ],
             [
              0.5555555555555556,
              "#d8576b"
             ],
             [
              0.6666666666666666,
              "#ed7953"
             ],
             [
              0.7777777777777778,
              "#fb9f3a"
             ],
             [
              0.8888888888888888,
              "#fdca26"
             ],
             [
              1,
              "#f0f921"
             ]
            ],
            "type": "contour"
           }
          ],
          "contourcarpet": [
           {
            "colorbar": {
             "outlinewidth": 0,
             "ticks": ""
            },
            "type": "contourcarpet"
           }
          ],
          "heatmap": [
           {
            "colorbar": {
             "outlinewidth": 0,
             "ticks": ""
            },
            "colorscale": [
             [
              0,
              "#0d0887"
             ],
             [
              0.1111111111111111,
              "#46039f"
             ],
             [
              0.2222222222222222,
              "#7201a8"
             ],
             [
              0.3333333333333333,
              "#9c179e"
             ],
             [
              0.4444444444444444,
              "#bd3786"
             ],
             [
              0.5555555555555556,
              "#d8576b"
             ],
             [
              0.6666666666666666,
              "#ed7953"
             ],
             [
              0.7777777777777778,
              "#fb9f3a"
             ],
             [
              0.8888888888888888,
              "#fdca26"
             ],
             [
              1,
              "#f0f921"
             ]
            ],
            "type": "heatmap"
           }
          ],
          "heatmapgl": [
           {
            "colorbar": {
             "outlinewidth": 0,
             "ticks": ""
            },
            "colorscale": [
             [
              0,
              "#0d0887"
             ],
             [
              0.1111111111111111,
              "#46039f"
             ],
             [
              0.2222222222222222,
              "#7201a8"
             ],
             [
              0.3333333333333333,
              "#9c179e"
             ],
             [
              0.4444444444444444,
              "#bd3786"
             ],
             [
              0.5555555555555556,
              "#d8576b"
             ],
             [
              0.6666666666666666,
              "#ed7953"
             ],
             [
              0.7777777777777778,
              "#fb9f3a"
             ],
             [
              0.8888888888888888,
              "#fdca26"
             ],
             [
              1,
              "#f0f921"
             ]
            ],
            "type": "heatmapgl"
           }
          ],
          "histogram": [
           {
            "marker": {
             "colorbar": {
              "outlinewidth": 0,
              "ticks": ""
             }
            },
            "type": "histogram"
           }
          ],
          "histogram2d": [
           {
            "colorbar": {
             "outlinewidth": 0,
             "ticks": ""
            },
            "colorscale": [
             [
              0,
              "#0d0887"
             ],
             [
              0.1111111111111111,
              "#46039f"
             ],
             [
              0.2222222222222222,
              "#7201a8"
             ],
             [
              0.3333333333333333,
              "#9c179e"
             ],
             [
              0.4444444444444444,
              "#bd3786"
             ],
             [
              0.5555555555555556,
              "#d8576b"
             ],
             [
              0.6666666666666666,
              "#ed7953"
             ],
             [
              0.7777777777777778,
              "#fb9f3a"
             ],
             [
              0.8888888888888888,
              "#fdca26"
             ],
             [
              1,
              "#f0f921"
             ]
            ],
            "type": "histogram2d"
           }
          ],
          "histogram2dcontour": [
           {
            "colorbar": {
             "outlinewidth": 0,
             "ticks": ""
            },
            "colorscale": [
             [
              0,
              "#0d0887"
             ],
             [
              0.1111111111111111,
              "#46039f"
             ],
             [
              0.2222222222222222,
              "#7201a8"
             ],
             [
              0.3333333333333333,
              "#9c179e"
             ],
             [
              0.4444444444444444,
              "#bd3786"
             ],
             [
              0.5555555555555556,
              "#d8576b"
             ],
             [
              0.6666666666666666,
              "#ed7953"
             ],
             [
              0.7777777777777778,
              "#fb9f3a"
             ],
             [
              0.8888888888888888,
              "#fdca26"
             ],
             [
              1,
              "#f0f921"
             ]
            ],
            "type": "histogram2dcontour"
           }
          ],
          "mesh3d": [
           {
            "colorbar": {
             "outlinewidth": 0,
             "ticks": ""
            },
            "type": "mesh3d"
           }
          ],
          "parcoords": [
           {
            "line": {
             "colorbar": {
              "outlinewidth": 0,
              "ticks": ""
             }
            },
            "type": "parcoords"
           }
          ],
          "pie": [
           {
            "automargin": true,
            "type": "pie"
           }
          ],
          "scatter": [
           {
            "marker": {
             "colorbar": {
              "outlinewidth": 0,
              "ticks": ""
             }
            },
            "type": "scatter"
           }
          ],
          "scatter3d": [
           {
            "line": {
             "colorbar": {
              "outlinewidth": 0,
              "ticks": ""
             }
            },
            "marker": {
             "colorbar": {
              "outlinewidth": 0,
              "ticks": ""
             }
            },
            "type": "scatter3d"
           }
          ],
          "scattercarpet": [
           {
            "marker": {
             "colorbar": {
              "outlinewidth": 0,
              "ticks": ""
             }
            },
            "type": "scattercarpet"
           }
          ],
          "scattergeo": [
           {
            "marker": {
             "colorbar": {
              "outlinewidth": 0,
              "ticks": ""
             }
            },
            "type": "scattergeo"
           }
          ],
          "scattergl": [
           {
            "marker": {
             "colorbar": {
              "outlinewidth": 0,
              "ticks": ""
             }
            },
            "type": "scattergl"
           }
          ],
          "scattermapbox": [
           {
            "marker": {
             "colorbar": {
              "outlinewidth": 0,
              "ticks": ""
             }
            },
            "type": "scattermapbox"
           }
          ],
          "scatterpolar": [
           {
            "marker": {
             "colorbar": {
              "outlinewidth": 0,
              "ticks": ""
             }
            },
            "type": "scatterpolar"
           }
          ],
          "scatterpolargl": [
           {
            "marker": {
             "colorbar": {
              "outlinewidth": 0,
              "ticks": ""
             }
            },
            "type": "scatterpolargl"
           }
          ],
          "scatterternary": [
           {
            "marker": {
             "colorbar": {
              "outlinewidth": 0,
              "ticks": ""
             }
            },
            "type": "scatterternary"
           }
          ],
          "surface": [
           {
            "colorbar": {
             "outlinewidth": 0,
             "ticks": ""
            },
            "colorscale": [
             [
              0,
              "#0d0887"
             ],
             [
              0.1111111111111111,
              "#46039f"
             ],
             [
              0.2222222222222222,
              "#7201a8"
             ],
             [
              0.3333333333333333,
              "#9c179e"
             ],
             [
              0.4444444444444444,
              "#bd3786"
             ],
             [
              0.5555555555555556,
              "#d8576b"
             ],
             [
              0.6666666666666666,
              "#ed7953"
             ],
             [
              0.7777777777777778,
              "#fb9f3a"
             ],
             [
              0.8888888888888888,
              "#fdca26"
             ],
             [
              1,
              "#f0f921"
             ]
            ],
            "type": "surface"
           }
          ],
          "table": [
           {
            "cells": {
             "fill": {
              "color": "#EBF0F8"
             },
             "line": {
              "color": "white"
             }
            },
            "header": {
             "fill": {
              "color": "#C8D4E3"
             },
             "line": {
              "color": "white"
             }
            },
            "type": "table"
           }
          ]
         },
         "layout": {
          "annotationdefaults": {
           "arrowcolor": "#2a3f5f",
           "arrowhead": 0,
           "arrowwidth": 1
          },
          "coloraxis": {
           "colorbar": {
            "outlinewidth": 0,
            "ticks": ""
           }
          },
          "colorscale": {
           "diverging": [
            [
             0,
             "#8e0152"
            ],
            [
             0.1,
             "#c51b7d"
            ],
            [
             0.2,
             "#de77ae"
            ],
            [
             0.3,
             "#f1b6da"
            ],
            [
             0.4,
             "#fde0ef"
            ],
            [
             0.5,
             "#f7f7f7"
            ],
            [
             0.6,
             "#e6f5d0"
            ],
            [
             0.7,
             "#b8e186"
            ],
            [
             0.8,
             "#7fbc41"
            ],
            [
             0.9,
             "#4d9221"
            ],
            [
             1,
             "#276419"
            ]
           ],
           "sequential": [
            [
             0,
             "#0d0887"
            ],
            [
             0.1111111111111111,
             "#46039f"
            ],
            [
             0.2222222222222222,
             "#7201a8"
            ],
            [
             0.3333333333333333,
             "#9c179e"
            ],
            [
             0.4444444444444444,
             "#bd3786"
            ],
            [
             0.5555555555555556,
             "#d8576b"
            ],
            [
             0.6666666666666666,
             "#ed7953"
            ],
            [
             0.7777777777777778,
             "#fb9f3a"
            ],
            [
             0.8888888888888888,
             "#fdca26"
            ],
            [
             1,
             "#f0f921"
            ]
           ],
           "sequentialminus": [
            [
             0,
             "#0d0887"
            ],
            [
             0.1111111111111111,
             "#46039f"
            ],
            [
             0.2222222222222222,
             "#7201a8"
            ],
            [
             0.3333333333333333,
             "#9c179e"
            ],
            [
             0.4444444444444444,
             "#bd3786"
            ],
            [
             0.5555555555555556,
             "#d8576b"
            ],
            [
             0.6666666666666666,
             "#ed7953"
            ],
            [
             0.7777777777777778,
             "#fb9f3a"
            ],
            [
             0.8888888888888888,
             "#fdca26"
            ],
            [
             1,
             "#f0f921"
            ]
           ]
          },
          "colorway": [
           "#636efa",
           "#EF553B",
           "#00cc96",
           "#ab63fa",
           "#FFA15A",
           "#19d3f3",
           "#FF6692",
           "#B6E880",
           "#FF97FF",
           "#FECB52"
          ],
          "font": {
           "color": "#2a3f5f"
          },
          "geo": {
           "bgcolor": "white",
           "lakecolor": "white",
           "landcolor": "#E5ECF6",
           "showlakes": true,
           "showland": true,
           "subunitcolor": "white"
          },
          "hoverlabel": {
           "align": "left"
          },
          "hovermode": "closest",
          "mapbox": {
           "style": "light"
          },
          "paper_bgcolor": "white",
          "plot_bgcolor": "#E5ECF6",
          "polar": {
           "angularaxis": {
            "gridcolor": "white",
            "linecolor": "white",
            "ticks": ""
           },
           "bgcolor": "#E5ECF6",
           "radialaxis": {
            "gridcolor": "white",
            "linecolor": "white",
            "ticks": ""
           }
          },
          "scene": {
           "xaxis": {
            "backgroundcolor": "#E5ECF6",
            "gridcolor": "white",
            "gridwidth": 2,
            "linecolor": "white",
            "showbackground": true,
            "ticks": "",
            "zerolinecolor": "white"
           },
           "yaxis": {
            "backgroundcolor": "#E5ECF6",
            "gridcolor": "white",
            "gridwidth": 2,
            "linecolor": "white",
            "showbackground": true,
            "ticks": "",
            "zerolinecolor": "white"
           },
           "zaxis": {
            "backgroundcolor": "#E5ECF6",
            "gridcolor": "white",
            "gridwidth": 2,
            "linecolor": "white",
            "showbackground": true,
            "ticks": "",
            "zerolinecolor": "white"
           }
          },
          "shapedefaults": {
           "line": {
            "color": "#2a3f5f"
           }
          },
          "ternary": {
           "aaxis": {
            "gridcolor": "white",
            "linecolor": "white",
            "ticks": ""
           },
           "baxis": {
            "gridcolor": "white",
            "linecolor": "white",
            "ticks": ""
           },
           "bgcolor": "#E5ECF6",
           "caxis": {
            "gridcolor": "white",
            "linecolor": "white",
            "ticks": ""
           }
          },
          "title": {
           "x": 0.05
          },
          "xaxis": {
           "automargin": true,
           "gridcolor": "white",
           "linecolor": "white",
           "ticks": "",
           "title": {
            "standoff": 15
           },
           "zerolinecolor": "white",
           "zerolinewidth": 2
          },
          "yaxis": {
           "automargin": true,
           "gridcolor": "white",
           "linecolor": "white",
           "ticks": "",
           "title": {
            "standoff": 15
           },
           "zerolinecolor": "white",
           "zerolinewidth": 2
          }
         }
        },
        "uniformtext": {
         "minsize": 18
        },
        "width": 1000,
        "xaxis": {
         "anchor": "y",
         "domain": [
          0,
          0.45
         ]
        },
        "xaxis2": {
         "anchor": "y2",
         "domain": [
          0.55,
          1
         ]
        },
        "xaxis3": {
         "anchor": "y3",
         "domain": [
          0,
          0.45
         ]
        },
        "xaxis4": {
         "anchor": "y4",
         "domain": [
          0.55,
          1
         ]
        },
        "xaxis5": {
         "anchor": "y5",
         "domain": [
          0,
          0.45
         ]
        },
        "xaxis6": {
         "anchor": "y6",
         "domain": [
          0.55,
          1
         ]
        },
        "yaxis": {
         "anchor": "x",
         "domain": [
          0.7777777777777778,
          1
         ]
        },
        "yaxis2": {
         "anchor": "x2",
         "domain": [
          0.7777777777777778,
          1
         ]
        },
        "yaxis3": {
         "anchor": "x3",
         "domain": [
          0.3888888888888889,
          0.6111111111111112
         ]
        },
        "yaxis4": {
         "anchor": "x4",
         "domain": [
          0.3888888888888889,
          0.6111111111111112
         ]
        },
        "yaxis5": {
         "anchor": "x5",
         "domain": [
          0,
          0.22222222222222224
         ]
        },
        "yaxis6": {
         "anchor": "x6",
         "domain": [
          0,
          0.22222222222222224
         ]
        }
       }
      },
      "text/html": [
       "<div>\n",
       "        \n",
       "        \n",
       "            <div id=\"29a9c30b-f0cd-4fae-b741-26129e1ac861\" class=\"plotly-graph-div\" style=\"height:1200px; width:1000px;\"></div>\n",
       "            <script type=\"text/javascript\">\n",
       "                require([\"plotly\"], function(Plotly) {\n",
       "                    window.PLOTLYENV=window.PLOTLYENV || {};\n",
       "                    \n",
       "                if (document.getElementById(\"29a9c30b-f0cd-4fae-b741-26129e1ac861\")) {\n",
       "                    Plotly.newPlot(\n",
       "                        '29a9c30b-f0cd-4fae-b741-26129e1ac861',\n",
       "                        [{\"marker\": {\"color\": [\"#1f77b4\", \"#1f77b4\", \"#1f77b4\", \"#1f77b4\", \"#1f77b4\", \"#1f77b4\", \"#1f77b4\", \"#1f77b4\", \"#1f77b4\", \"#1f77b4\", \"#1f77b4\", \"gold\", \"#1f77b4\", \"#1f77b4\", \"#1f77b4\", \"#1f77b4\", \"#1f77b4\", \"#1f77b4\", \"#1f77b4\", \"#1f77b4\", \"#1f77b4\"]}, \"name\": \"P/E\", \"text\": [0.0, 20.94, 0.0, 0.0, 0.0, 0.0, 0.0, 0.0, 12.77, 19.53, 29.46, 3.97, 0.0, 28.54, 25.82, 0.0, 0.0, 0.0, 33.55, 1751.43, 0.0], \"textposition\": \"outside\", \"type\": \"bar\", \"x\": [\"BBX\", \"BXG\", \"BYD\", \"CNTY\", \"CZR\", \"ERI\", \"FLL\", \"GDEN\", \"HGV\", \"LVS\", \"MCRI\", \"MGM\", \"MLCO\", \"MSC\", \"MTN\", \"PENN\", \"PLYA\", \"RRR\", \"TRWH\", \"VAC\", \"WYNN\"], \"xaxis\": \"x\", \"y\": [0.0, 20.94, 0.0, 0.0, 0.0, 0.0, 0.0, 0.0, 12.77, 19.53, 29.46, 3.97, 0.0, 28.54, 25.82, 0.0, 0.0, 0.0, 33.55, 1751.43, 0.0], \"yaxis\": \"y\"}, {\"marker\": {\"color\": [\"#ff7f0e\", \"#ff7f0e\", \"#ff7f0e\", \"#ff7f0e\", \"#ff7f0e\", \"#ff7f0e\", \"#ff7f0e\", \"#ff7f0e\", \"#ff7f0e\", \"#ff7f0e\", \"#ff7f0e\", \"gold\", \"#ff7f0e\", \"#ff7f0e\", \"#ff7f0e\", \"#ff7f0e\", \"#ff7f0e\", \"#ff7f0e\", \"#ff7f0e\", \"#ff7f0e\", \"#ff7f0e\"]}, \"name\": \"Fwd P/E\", \"text\": [76.67, 10.85, 72.23, 0.0, 0.0, 0.0, 0.0, 0.0, 12.68, 21.41, 18.98, 0.0, 28.99, 0.0, 37.57, 0.0, 0.0, 0.0, 15.8, 16.08, 203.89], \"textposition\": \"outside\", \"type\": \"bar\", \"x\": [\"BBX\", \"BXG\", \"BYD\", \"CNTY\", \"CZR\", \"ERI\", \"FLL\", \"GDEN\", \"HGV\", \"LVS\", \"MCRI\", \"MGM\", \"MLCO\", \"MSC\", \"MTN\", \"PENN\", \"PLYA\", \"RRR\", \"TRWH\", \"VAC\", \"WYNN\"], \"xaxis\": \"x2\", \"y\": [76.67, 10.85, 72.23, 0.0, 0.0, 0.0, 0.0, 0.0, 12.68, 21.41, 18.98, 0.0, 28.99, 0.0, 37.57, 0.0, 0.0, 0.0, 15.8, 16.08, 203.89], \"yaxis\": \"y2\"}, {\"marker\": {\"color\": [\"#2ca02c\", \"#2ca02c\", \"#2ca02c\", \"#2ca02c\", \"#2ca02c\", \"#2ca02c\", \"#2ca02c\", \"#2ca02c\", \"#2ca02c\", \"#2ca02c\", \"#2ca02c\", \"gold\", \"#2ca02c\", \"#2ca02c\", \"#2ca02c\", \"#2ca02c\", \"#2ca02c\", \"#2ca02c\", \"#2ca02c\", \"#2ca02c\", \"#2ca02c\"]}, \"name\": \"P/S\", \"text\": [0.21, 0.48, 0.79, 0.62, 0.98, 1.37, 0.35, 0.39, 1.19, 3.41, 3.18, 0.91, 1.7, 1.91, 3.34, 0.89, 0.92, 0.94, 1.48, 0.95, 1.76], \"textposition\": \"outside\", \"type\": \"bar\", \"x\": [\"BBX\", \"BXG\", \"BYD\", \"CNTY\", \"CZR\", \"ERI\", \"FLL\", \"GDEN\", \"HGV\", \"LVS\", \"MCRI\", \"MGM\", \"MLCO\", \"MSC\", \"MTN\", \"PENN\", \"PLYA\", \"RRR\", \"TRWH\", \"VAC\", \"WYNN\"], \"xaxis\": \"x3\", \"y\": [0.21, 0.48, 0.79, 0.62, 0.98, 1.37, 0.35, 0.39, 1.19, 3.41, 3.18, 0.91, 1.7, 1.91, 3.34, 0.89, 0.92, 0.94, 1.48, 0.95, 1.76], \"yaxis\": \"y3\"}, {\"marker\": {\"color\": [\"#d62728\", \"#d62728\", \"#d62728\", \"#d62728\", \"#d62728\", \"#d62728\", \"#d62728\", \"#d62728\", \"#d62728\", \"#d62728\", \"#d62728\", \"gold\", \"#d62728\", \"#d62728\", \"#d62728\", \"#d62728\", \"#d62728\", \"#d62728\", \"#d62728\", \"#d62728\", \"#d62728\"]}, \"name\": \"P/B\", \"text\": [0.4, 1.05, 2.42, 1.58, 3.67, 3.53, 1.06, 1.47, 3.79, 9.13, 2.25, 1.34, 4.61, 1.12, 5.34, 2.99, 0.65, 3.0, 4.43, 1.48, 8.83], \"textposition\": \"outside\", \"type\": \"bar\", \"x\": [\"BBX\", \"BXG\", \"BYD\", \"CNTY\", \"CZR\", \"ERI\", \"FLL\", \"GDEN\", \"HGV\", \"LVS\", \"MCRI\", \"MGM\", \"MLCO\", \"MSC\", \"MTN\", \"PENN\", \"PLYA\", \"RRR\", \"TRWH\", \"VAC\", \"WYNN\"], \"xaxis\": \"x4\", \"y\": [0.4, 1.05, 2.42, 1.58, 3.67, 3.53, 1.06, 1.47, 3.79, 9.13, 2.25, 1.34, 4.61, 1.12, 5.34, 2.99, 0.65, 3.0, 4.43, 1.48, 8.83], \"yaxis\": \"y4\"}, {\"marker\": {\"color\": [\"#9467bd\", \"#9467bd\", \"#9467bd\", \"#9467bd\", \"#9467bd\", \"#9467bd\", \"#9467bd\", \"#9467bd\", \"#9467bd\", \"#9467bd\", \"#9467bd\", \"gold\", \"#9467bd\", \"#9467bd\", \"#9467bd\", \"#9467bd\", \"#9467bd\", \"#9467bd\", \"#9467bd\", \"#9467bd\", \"#9467bd\"]}, \"name\": \"P/C\", \"text\": [0.45, 1.46, 3.02, 2.52, 3.1, 4.62, 2.24, 1.22, 3.09, 15.57, 12.68, 1.81, 5.78, 4.71, 16.55, 6.27, 8.18, 1.54, 2.1, 6.25, 0.0], \"textposition\": \"outside\", \"type\": \"bar\", \"x\": [\"BBX\", \"BXG\", \"BYD\", \"CNTY\", \"CZR\", \"ERI\", \"FLL\", \"GDEN\", \"HGV\", \"LVS\", \"MCRI\", \"MGM\", \"MLCO\", \"MSC\", \"MTN\", \"PENN\", \"PLYA\", \"RRR\", \"TRWH\", \"VAC\", \"WYNN\"], \"xaxis\": \"x5\", \"y\": [0.45, 1.46, 3.02, 2.52, 3.1, 4.62, 2.24, 1.22, 3.09, 15.57, 12.68, 1.81, 5.78, 4.71, 16.55, 6.27, 8.18, 1.54, 2.1, 6.25, 0.0], \"yaxis\": \"y5\"}, {\"marker\": {\"color\": [\"#8c564b\", \"#8c564b\", \"#8c564b\", \"#8c564b\", \"#8c564b\", \"#8c564b\", \"#8c564b\", \"#8c564b\", \"#8c564b\", \"#8c564b\", \"#8c564b\", \"gold\", \"#8c564b\", \"#8c564b\", \"#8c564b\", \"#8c564b\", \"#8c564b\", \"#8c564b\", \"#8c564b\", \"#8c564b\", \"#8c564b\"]}, \"name\": \"P/FCF\", \"text\": [3.59, 0.0, 11.84, 0.0, 0.0, 26.62, 0.0, 0.0, 13.8, 0.0, 0.0, 130.46, 0.0, 0.0, 0.0, 9.57, 0.0, 4.74, 9.95, 43.3, 0.0], \"textposition\": \"outside\", \"type\": \"bar\", \"x\": [\"BBX\", \"BXG\", \"BYD\", \"CNTY\", \"CZR\", \"ERI\", \"FLL\", \"GDEN\", \"HGV\", \"LVS\", \"MCRI\", \"MGM\", \"MLCO\", \"MSC\", \"MTN\", \"PENN\", \"PLYA\", \"RRR\", \"TRWH\", \"VAC\", \"WYNN\"], \"xaxis\": \"x6\", \"y\": [3.59, 0.0, 11.84, 0.0, 0.0, 26.62, 0.0, 0.0, 13.8, 0.0, 0.0, 130.46, 0.0, 0.0, 0.0, 9.57, 0.0, 4.74, 9.95, 43.3, 0.0], \"yaxis\": \"y6\"}],\n",
       "                        {\"annotations\": [{\"font\": {\"size\": 16}, \"showarrow\": false, \"text\": \"P/E\", \"x\": 0.225, \"xanchor\": \"center\", \"xref\": \"paper\", \"y\": 1.0, \"yanchor\": \"bottom\", \"yref\": \"paper\"}, {\"font\": {\"size\": 16}, \"showarrow\": false, \"text\": \"Fwd P/E\", \"x\": 0.775, \"xanchor\": \"center\", \"xref\": \"paper\", \"y\": 1.0, \"yanchor\": \"bottom\", \"yref\": \"paper\"}, {\"font\": {\"size\": 16}, \"showarrow\": false, \"text\": \"P/S\", \"x\": 0.225, \"xanchor\": \"center\", \"xref\": \"paper\", \"y\": 0.6111111111111112, \"yanchor\": \"bottom\", \"yref\": \"paper\"}, {\"font\": {\"size\": 16}, \"showarrow\": false, \"text\": \"P/B\", \"x\": 0.775, \"xanchor\": \"center\", \"xref\": \"paper\", \"y\": 0.6111111111111112, \"yanchor\": \"bottom\", \"yref\": \"paper\"}, {\"font\": {\"size\": 16}, \"showarrow\": false, \"text\": \"P/C\", \"x\": 0.225, \"xanchor\": \"center\", \"xref\": \"paper\", \"y\": 0.22222222222222224, \"yanchor\": \"bottom\", \"yref\": \"paper\"}, {\"font\": {\"size\": 16}, \"showarrow\": false, \"text\": \"P/FCF\", \"x\": 0.775, \"xanchor\": \"center\", \"xref\": \"paper\", \"y\": 0.22222222222222224, \"yanchor\": \"bottom\", \"yref\": \"paper\"}], \"autosize\": false, \"height\": 1200, \"showlegend\": false, \"template\": {\"data\": {\"bar\": [{\"error_x\": {\"color\": \"#2a3f5f\"}, \"error_y\": {\"color\": \"#2a3f5f\"}, \"marker\": {\"line\": {\"color\": \"#E5ECF6\", \"width\": 0.5}}, \"type\": \"bar\"}], \"barpolar\": [{\"marker\": {\"line\": {\"color\": \"#E5ECF6\", \"width\": 0.5}}, \"type\": \"barpolar\"}], \"carpet\": [{\"aaxis\": {\"endlinecolor\": \"#2a3f5f\", \"gridcolor\": \"white\", \"linecolor\": \"white\", \"minorgridcolor\": \"white\", \"startlinecolor\": \"#2a3f5f\"}, \"baxis\": {\"endlinecolor\": \"#2a3f5f\", \"gridcolor\": \"white\", \"linecolor\": \"white\", \"minorgridcolor\": \"white\", \"startlinecolor\": \"#2a3f5f\"}, \"type\": \"carpet\"}], \"choropleth\": [{\"colorbar\": {\"outlinewidth\": 0, \"ticks\": \"\"}, \"type\": \"choropleth\"}], \"contour\": [{\"colorbar\": {\"outlinewidth\": 0, \"ticks\": \"\"}, \"colorscale\": [[0.0, \"#0d0887\"], [0.1111111111111111, \"#46039f\"], [0.2222222222222222, \"#7201a8\"], [0.3333333333333333, \"#9c179e\"], [0.4444444444444444, \"#bd3786\"], [0.5555555555555556, \"#d8576b\"], [0.6666666666666666, \"#ed7953\"], [0.7777777777777778, \"#fb9f3a\"], [0.8888888888888888, \"#fdca26\"], [1.0, \"#f0f921\"]], \"type\": \"contour\"}], \"contourcarpet\": [{\"colorbar\": {\"outlinewidth\": 0, \"ticks\": \"\"}, \"type\": \"contourcarpet\"}], \"heatmap\": [{\"colorbar\": {\"outlinewidth\": 0, \"ticks\": \"\"}, \"colorscale\": [[0.0, \"#0d0887\"], [0.1111111111111111, \"#46039f\"], [0.2222222222222222, \"#7201a8\"], [0.3333333333333333, \"#9c179e\"], [0.4444444444444444, \"#bd3786\"], [0.5555555555555556, \"#d8576b\"], [0.6666666666666666, \"#ed7953\"], [0.7777777777777778, \"#fb9f3a\"], [0.8888888888888888, \"#fdca26\"], [1.0, \"#f0f921\"]], \"type\": \"heatmap\"}], \"heatmapgl\": [{\"colorbar\": {\"outlinewidth\": 0, \"ticks\": \"\"}, \"colorscale\": [[0.0, \"#0d0887\"], [0.1111111111111111, \"#46039f\"], [0.2222222222222222, \"#7201a8\"], [0.3333333333333333, \"#9c179e\"], [0.4444444444444444, \"#bd3786\"], [0.5555555555555556, \"#d8576b\"], [0.6666666666666666, \"#ed7953\"], [0.7777777777777778, \"#fb9f3a\"], [0.8888888888888888, \"#fdca26\"], [1.0, \"#f0f921\"]], \"type\": \"heatmapgl\"}], \"histogram\": [{\"marker\": {\"colorbar\": {\"outlinewidth\": 0, \"ticks\": \"\"}}, \"type\": \"histogram\"}], \"histogram2d\": [{\"colorbar\": {\"outlinewidth\": 0, \"ticks\": \"\"}, \"colorscale\": [[0.0, \"#0d0887\"], [0.1111111111111111, \"#46039f\"], [0.2222222222222222, \"#7201a8\"], [0.3333333333333333, \"#9c179e\"], [0.4444444444444444, \"#bd3786\"], [0.5555555555555556, \"#d8576b\"], [0.6666666666666666, \"#ed7953\"], [0.7777777777777778, \"#fb9f3a\"], [0.8888888888888888, \"#fdca26\"], [1.0, \"#f0f921\"]], \"type\": \"histogram2d\"}], \"histogram2dcontour\": [{\"colorbar\": {\"outlinewidth\": 0, \"ticks\": \"\"}, \"colorscale\": [[0.0, \"#0d0887\"], [0.1111111111111111, \"#46039f\"], [0.2222222222222222, \"#7201a8\"], [0.3333333333333333, \"#9c179e\"], [0.4444444444444444, \"#bd3786\"], [0.5555555555555556, \"#d8576b\"], [0.6666666666666666, \"#ed7953\"], [0.7777777777777778, \"#fb9f3a\"], [0.8888888888888888, \"#fdca26\"], [1.0, \"#f0f921\"]], \"type\": \"histogram2dcontour\"}], \"mesh3d\": [{\"colorbar\": {\"outlinewidth\": 0, \"ticks\": \"\"}, \"type\": \"mesh3d\"}], \"parcoords\": [{\"line\": {\"colorbar\": {\"outlinewidth\": 0, \"ticks\": \"\"}}, \"type\": \"parcoords\"}], \"pie\": [{\"automargin\": true, \"type\": \"pie\"}], \"scatter\": [{\"marker\": {\"colorbar\": {\"outlinewidth\": 0, \"ticks\": \"\"}}, \"type\": \"scatter\"}], \"scatter3d\": [{\"line\": {\"colorbar\": {\"outlinewidth\": 0, \"ticks\": \"\"}}, \"marker\": {\"colorbar\": {\"outlinewidth\": 0, \"ticks\": \"\"}}, \"type\": \"scatter3d\"}], \"scattercarpet\": [{\"marker\": {\"colorbar\": {\"outlinewidth\": 0, \"ticks\": \"\"}}, \"type\": \"scattercarpet\"}], \"scattergeo\": [{\"marker\": {\"colorbar\": {\"outlinewidth\": 0, \"ticks\": \"\"}}, \"type\": \"scattergeo\"}], \"scattergl\": [{\"marker\": {\"colorbar\": {\"outlinewidth\": 0, \"ticks\": \"\"}}, \"type\": \"scattergl\"}], \"scattermapbox\": [{\"marker\": {\"colorbar\": {\"outlinewidth\": 0, \"ticks\": \"\"}}, \"type\": \"scattermapbox\"}], \"scatterpolar\": [{\"marker\": {\"colorbar\": {\"outlinewidth\": 0, \"ticks\": \"\"}}, \"type\": \"scatterpolar\"}], \"scatterpolargl\": [{\"marker\": {\"colorbar\": {\"outlinewidth\": 0, \"ticks\": \"\"}}, \"type\": \"scatterpolargl\"}], \"scatterternary\": [{\"marker\": {\"colorbar\": {\"outlinewidth\": 0, \"ticks\": \"\"}}, \"type\": \"scatterternary\"}], \"surface\": [{\"colorbar\": {\"outlinewidth\": 0, \"ticks\": \"\"}, \"colorscale\": [[0.0, \"#0d0887\"], [0.1111111111111111, \"#46039f\"], [0.2222222222222222, \"#7201a8\"], [0.3333333333333333, \"#9c179e\"], [0.4444444444444444, \"#bd3786\"], [0.5555555555555556, \"#d8576b\"], [0.6666666666666666, \"#ed7953\"], [0.7777777777777778, \"#fb9f3a\"], [0.8888888888888888, \"#fdca26\"], [1.0, \"#f0f921\"]], \"type\": \"surface\"}], \"table\": [{\"cells\": {\"fill\": {\"color\": \"#EBF0F8\"}, \"line\": {\"color\": \"white\"}}, \"header\": {\"fill\": {\"color\": \"#C8D4E3\"}, \"line\": {\"color\": \"white\"}}, \"type\": \"table\"}]}, \"layout\": {\"annotationdefaults\": {\"arrowcolor\": \"#2a3f5f\", \"arrowhead\": 0, \"arrowwidth\": 1}, \"coloraxis\": {\"colorbar\": {\"outlinewidth\": 0, \"ticks\": \"\"}}, \"colorscale\": {\"diverging\": [[0, \"#8e0152\"], [0.1, \"#c51b7d\"], [0.2, \"#de77ae\"], [0.3, \"#f1b6da\"], [0.4, \"#fde0ef\"], [0.5, \"#f7f7f7\"], [0.6, \"#e6f5d0\"], [0.7, \"#b8e186\"], [0.8, \"#7fbc41\"], [0.9, \"#4d9221\"], [1, \"#276419\"]], \"sequential\": [[0.0, \"#0d0887\"], [0.1111111111111111, \"#46039f\"], [0.2222222222222222, \"#7201a8\"], [0.3333333333333333, \"#9c179e\"], [0.4444444444444444, \"#bd3786\"], [0.5555555555555556, \"#d8576b\"], [0.6666666666666666, \"#ed7953\"], [0.7777777777777778, \"#fb9f3a\"], [0.8888888888888888, \"#fdca26\"], [1.0, \"#f0f921\"]], \"sequentialminus\": [[0.0, \"#0d0887\"], [0.1111111111111111, \"#46039f\"], [0.2222222222222222, \"#7201a8\"], [0.3333333333333333, \"#9c179e\"], [0.4444444444444444, \"#bd3786\"], [0.5555555555555556, \"#d8576b\"], [0.6666666666666666, \"#ed7953\"], [0.7777777777777778, \"#fb9f3a\"], [0.8888888888888888, \"#fdca26\"], [1.0, \"#f0f921\"]]}, \"colorway\": [\"#636efa\", \"#EF553B\", \"#00cc96\", \"#ab63fa\", \"#FFA15A\", \"#19d3f3\", \"#FF6692\", \"#B6E880\", \"#FF97FF\", \"#FECB52\"], \"font\": {\"color\": \"#2a3f5f\"}, \"geo\": {\"bgcolor\": \"white\", \"lakecolor\": \"white\", \"landcolor\": \"#E5ECF6\", \"showlakes\": true, \"showland\": true, \"subunitcolor\": \"white\"}, \"hoverlabel\": {\"align\": \"left\"}, \"hovermode\": \"closest\", \"mapbox\": {\"style\": \"light\"}, \"paper_bgcolor\": \"white\", \"plot_bgcolor\": \"#E5ECF6\", \"polar\": {\"angularaxis\": {\"gridcolor\": \"white\", \"linecolor\": \"white\", \"ticks\": \"\"}, \"bgcolor\": \"#E5ECF6\", \"radialaxis\": {\"gridcolor\": \"white\", \"linecolor\": \"white\", \"ticks\": \"\"}}, \"scene\": {\"xaxis\": {\"backgroundcolor\": \"#E5ECF6\", \"gridcolor\": \"white\", \"gridwidth\": 2, \"linecolor\": \"white\", \"showbackground\": true, \"ticks\": \"\", \"zerolinecolor\": \"white\"}, \"yaxis\": {\"backgroundcolor\": \"#E5ECF6\", \"gridcolor\": \"white\", \"gridwidth\": 2, \"linecolor\": \"white\", \"showbackground\": true, \"ticks\": \"\", \"zerolinecolor\": \"white\"}, \"zaxis\": {\"backgroundcolor\": \"#E5ECF6\", \"gridcolor\": \"white\", \"gridwidth\": 2, \"linecolor\": \"white\", \"showbackground\": true, \"ticks\": \"\", \"zerolinecolor\": \"white\"}}, \"shapedefaults\": {\"line\": {\"color\": \"#2a3f5f\"}}, \"ternary\": {\"aaxis\": {\"gridcolor\": \"white\", \"linecolor\": \"white\", \"ticks\": \"\"}, \"baxis\": {\"gridcolor\": \"white\", \"linecolor\": \"white\", \"ticks\": \"\"}, \"bgcolor\": \"#E5ECF6\", \"caxis\": {\"gridcolor\": \"white\", \"linecolor\": \"white\", \"ticks\": \"\"}}, \"title\": {\"x\": 0.05}, \"xaxis\": {\"automargin\": true, \"gridcolor\": \"white\", \"linecolor\": \"white\", \"ticks\": \"\", \"title\": {\"standoff\": 15}, \"zerolinecolor\": \"white\", \"zerolinewidth\": 2}, \"yaxis\": {\"automargin\": true, \"gridcolor\": \"white\", \"linecolor\": \"white\", \"ticks\": \"\", \"title\": {\"standoff\": 15}, \"zerolinecolor\": \"white\", \"zerolinewidth\": 2}}}, \"uniformtext\": {\"minsize\": 18}, \"width\": 1000, \"xaxis\": {\"anchor\": \"y\", \"domain\": [0.0, 0.45]}, \"xaxis2\": {\"anchor\": \"y2\", \"domain\": [0.55, 1.0]}, \"xaxis3\": {\"anchor\": \"y3\", \"domain\": [0.0, 0.45]}, \"xaxis4\": {\"anchor\": \"y4\", \"domain\": [0.55, 1.0]}, \"xaxis5\": {\"anchor\": \"y5\", \"domain\": [0.0, 0.45]}, \"xaxis6\": {\"anchor\": \"y6\", \"domain\": [0.55, 1.0]}, \"yaxis\": {\"anchor\": \"x\", \"domain\": [0.7777777777777778, 1.0]}, \"yaxis2\": {\"anchor\": \"x2\", \"domain\": [0.7777777777777778, 1.0]}, \"yaxis3\": {\"anchor\": \"x3\", \"domain\": [0.3888888888888889, 0.6111111111111112]}, \"yaxis4\": {\"anchor\": \"x4\", \"domain\": [0.3888888888888889, 0.6111111111111112]}, \"yaxis5\": {\"anchor\": \"x5\", \"domain\": [0.0, 0.22222222222222224]}, \"yaxis6\": {\"anchor\": \"x6\", \"domain\": [0.0, 0.22222222222222224]}},\n",
       "                        {\"responsive\": true}\n",
       "                    ).then(function(){\n",
       "                            \n",
       "var gd = document.getElementById('29a9c30b-f0cd-4fae-b741-26129e1ac861');\n",
       "var x = new MutationObserver(function (mutations, observer) {{\n",
       "        var display = window.getComputedStyle(gd).display;\n",
       "        if (!display || display === 'none') {{\n",
       "            console.log([gd, 'removed!']);\n",
       "            Plotly.purge(gd);\n",
       "            observer.disconnect();\n",
       "        }}\n",
       "}});\n",
       "\n",
       "// Listen for the removal of the full notebook cells\n",
       "var notebookContainer = gd.closest('#notebook-container');\n",
       "if (notebookContainer) {{\n",
       "    x.observe(notebookContainer, {childList: true});\n",
       "}}\n",
       "\n",
       "// Listen for the clearing of the current output cell\n",
       "var outputEl = gd.closest('.output');\n",
       "if (outputEl) {{\n",
       "    x.observe(outputEl, {childList: true});\n",
       "}}\n",
       "\n",
       "                        })\n",
       "                };\n",
       "                });\n",
       "            </script>\n",
       "        </div>"
      ]
     },
     "metadata": {},
     "output_type": "display_data"
    }
   ],
   "source": [
    "display(tag)\n",
    "\n",
    "fig = make_subplots(rows=3, cols=2, start_cell=\"top-left\", subplot_titles=(\"P/E\", \"Fwd P/E\",\"P/S\", \"P/B\", \"P/C\",\"P/FCF\"))\n",
    "\n",
    "fig.add_trace(go.Bar(name=\"P/E\", x=comp_data.index, y=comp_data['P/E'], text=comp_data['P/E'], textposition='outside', marker_color=get_chart_color(tick_index,0)), row=1, col=1)\n",
    "fig.add_trace(go.Bar(name=\"Fwd P/E\", x=comp_data.index, y=comp_data['Fwd P/E'], text=comp_data['Fwd P/E'], textposition='auto', marker_color=get_chart_color(tick_index,1)), row=1, col=2)\n",
    "fig.add_trace(go.Bar(name=\"P/S\", x=comp_data.index, y=comp_data['P/S'], text=comp_data['P/S'], textposition='auto', marker_color=get_chart_color(tick_index,2)), row=2, col=1)\n",
    "fig.add_trace(go.Bar(name=\"P/B\", x=comp_data.index, y=comp_data['P/B'], text=comp_data['P/B'], textposition='auto', marker_color=get_chart_color(tick_index,3)), row=2, col=2)\n",
    "fig.add_trace(go.Bar(name=\"P/C\", x=comp_data.index, y=comp_data['P/C'], text=comp_data['P/C'], textposition='auto', marker_color=get_chart_color(tick_index,4)), row=3, col=1)\n",
    "fig.add_trace(go.Bar(name=\"P/FCF\", x=comp_data.index, y=comp_data['P/FCF'], text=comp_data['P/FCF'], textposition='auto', marker_color=get_chart_color(tick_index,5)), row=3, col=2)\n",
    "\n",
    "fig.update_traces(textposition='outside')\n",
    "fig.update_layout(uniformtext_minsize=18)\n",
    "\n",
    "fig.update_layout(\n",
    "    autosize=False,\n",
    "    width=1000,\n",
    "    height=1200,\n",
    "    showlegend=False)\n",
    "\n",
    "fig.show()"
   ]
  },
  {
   "cell_type": "markdown",
   "metadata": {},
   "source": [
    "## Debt\n",
    "\n",
    "Debt ratios such as the Current Ratio and Quick ratio are preferred to be higher because its an indication that the company has enough liquidity to be able to pay off and handle its debt. \n",
    "\n",
    "Conversely, lower Debt/Equity and LTDebt/Equity values are better because a company that has less debt comparable to its assets holds less risk of not being able to pay those debts and going bankrupt."
   ]
  },
  {
   "cell_type": "code",
   "execution_count": 53,
   "metadata": {},
   "outputs": [
    {
     "data": {
      "text/html": [
       "<script>\n",
       "code_show=true; \n",
       "function code_toggle() {\n",
       "    if (code_show){\n",
       "        $('div.cell.code_cell.rendered.selected div.input').hide();\n",
       "    } else {\n",
       "        $('div.cell.code_cell.rendered.selected div.input').show();\n",
       "    }\n",
       "    code_show = !code_show\n",
       "} \n",
       "$( document ).ready(code_toggle);\n",
       "</script>\n",
       "To show/hide this cell's raw code input, click <a href=\"javascript:code_toggle()\">here</a>."
      ],
      "text/plain": [
       "<IPython.core.display.HTML object>"
      ]
     },
     "metadata": {},
     "output_type": "display_data"
    },
    {
     "data": {
      "application/vnd.plotly.v1+json": {
       "config": {
        "plotlyServerURL": "https://plot.ly"
       },
       "data": [
        {
         "marker": {
          "color": [
           "#e377c2",
           "#e377c2",
           "#e377c2",
           "#e377c2",
           "#e377c2",
           "#e377c2",
           "#e377c2",
           "#e377c2",
           "#e377c2",
           "#e377c2",
           "#e377c2",
           "gold",
           "#e377c2",
           "#e377c2",
           "#e377c2",
           "#e377c2",
           "#e377c2",
           "#e377c2",
           "#e377c2",
           "#e377c2",
           "#e377c2"
          ]
         },
         "name": "Curr R",
         "text": [
          0,
          0,
          1.9,
          1.5,
          1.2,
          1.6,
          1.4,
          2.6,
          0,
          1.4,
          1,
          2.9,
          1.5,
          3.6,
          1.4,
          1.6,
          0,
          4.9,
          5.1,
          0,
          1.8
         ],
         "textposition": "outside",
         "type": "bar",
         "x": [
          "BBX",
          "BXG",
          "BYD",
          "CNTY",
          "CZR",
          "ERI",
          "FLL",
          "GDEN",
          "HGV",
          "LVS",
          "MCRI",
          "MGM",
          "MLCO",
          "MSC",
          "MTN",
          "PENN",
          "PLYA",
          "RRR",
          "TRWH",
          "VAC",
          "WYNN"
         ],
         "xaxis": "x",
         "y": [
          0,
          0,
          1.9,
          1.5,
          1.2,
          1.6,
          1.4,
          2.6,
          0,
          1.4,
          1,
          2.9,
          1.5,
          3.6,
          1.4,
          1.6,
          0,
          4.9,
          5.1,
          0,
          1.8
         ],
         "yaxis": "y"
        },
        {
         "marker": {
          "color": [
           "#7f7f7f",
           "#7f7f7f",
           "#7f7f7f",
           "#7f7f7f",
           "#7f7f7f",
           "#7f7f7f",
           "#7f7f7f",
           "#7f7f7f",
           "#7f7f7f",
           "#7f7f7f",
           "#7f7f7f",
           "gold",
           "#7f7f7f",
           "#7f7f7f",
           "#7f7f7f",
           "#7f7f7f",
           "#7f7f7f",
           "#7f7f7f",
           "#7f7f7f",
           "#7f7f7f",
           "#7f7f7f"
          ]
         },
         "name": "Quick R",
         "text": [
          0,
          0,
          1.9,
          1.4,
          1.2,
          1.6,
          1.3,
          2.6,
          0,
          1.4,
          0.9,
          2.9,
          1.5,
          3.5,
          1.2,
          1.6,
          0,
          4.8,
          5,
          0,
          1.8
         ],
         "textposition": "outside",
         "type": "bar",
         "x": [
          "BBX",
          "BXG",
          "BYD",
          "CNTY",
          "CZR",
          "ERI",
          "FLL",
          "GDEN",
          "HGV",
          "LVS",
          "MCRI",
          "MGM",
          "MLCO",
          "MSC",
          "MTN",
          "PENN",
          "PLYA",
          "RRR",
          "TRWH",
          "VAC",
          "WYNN"
         ],
         "xaxis": "x2",
         "y": [
          0,
          0,
          1.9,
          1.4,
          1.2,
          1.6,
          1.3,
          2.6,
          0,
          1.4,
          0.9,
          2.9,
          1.5,
          3.5,
          1.2,
          1.6,
          0,
          4.8,
          5,
          0,
          1.8
         ],
         "yaxis": "y2"
        },
        {
         "marker": {
          "color": [
           "#bcbd22",
           "#bcbd22",
           "#bcbd22",
           "#bcbd22",
           "#bcbd22",
           "#bcbd22",
           "#bcbd22",
           "#bcbd22",
           "#bcbd22",
           "#bcbd22",
           "#bcbd22",
           "gold",
           "#bcbd22",
           "#bcbd22",
           "#bcbd22",
           "#bcbd22",
           "#bcbd22",
           "#bcbd22",
           "#bcbd22",
           "#bcbd22",
           "#bcbd22"
          ]
         },
         "name": "Debt/Eq",
         "text": [
          1.58,
          1.81,
          3.95,
          4.5,
          8.77,
          4.25,
          2.09,
          5.17,
          3.82,
          2.74,
          0.57,
          1.47,
          2.58,
          0,
          1.71,
          5.78,
          1.38,
          11.58,
          5.46,
          1.7,
          9.15
         ],
         "textposition": "outside",
         "type": "bar",
         "x": [
          "BBX",
          "BXG",
          "BYD",
          "CNTY",
          "CZR",
          "ERI",
          "FLL",
          "GDEN",
          "HGV",
          "LVS",
          "MCRI",
          "MGM",
          "MLCO",
          "MSC",
          "MTN",
          "PENN",
          "PLYA",
          "RRR",
          "TRWH",
          "VAC",
          "WYNN"
         ],
         "xaxis": "x3",
         "y": [
          1.58,
          1.81,
          3.95,
          4.5,
          8.77,
          4.25,
          2.09,
          5.17,
          3.82,
          2.74,
          0.57,
          1.47,
          2.58,
          0,
          1.71,
          5.78,
          1.38,
          11.58,
          5.46,
          1.7,
          9.15
         ],
         "yaxis": "y3"
        },
        {
         "marker": {
          "color": [
           "#17becf",
           "#17becf",
           "#17becf",
           "#17becf",
           "#17becf",
           "#17becf",
           "#17becf",
           "#17becf",
           "#17becf",
           "#17becf",
           "#17becf",
           "gold",
           "#17becf",
           "#17becf",
           "#17becf",
           "#17becf",
           "#17becf",
           "#17becf",
           "#17becf",
           "#17becf",
           "#17becf"
          ]
         },
         "name": "LTDebt/Eq",
         "text": [
          1.58,
          1.81,
          3.93,
          4.4,
          8.37,
          3.99,
          2.06,
          5.14,
          3.82,
          2.73,
          0.51,
          1.46,
          2.56,
          1.3,
          1.66,
          5.69,
          1.38,
          11.5,
          5.44,
          1.7,
          8.96
         ],
         "textposition": "outside",
         "type": "bar",
         "x": [
          "BBX",
          "BXG",
          "BYD",
          "CNTY",
          "CZR",
          "ERI",
          "FLL",
          "GDEN",
          "HGV",
          "LVS",
          "MCRI",
          "MGM",
          "MLCO",
          "MSC",
          "MTN",
          "PENN",
          "PLYA",
          "RRR",
          "TRWH",
          "VAC",
          "WYNN"
         ],
         "xaxis": "x4",
         "y": [
          1.58,
          1.81,
          3.93,
          4.4,
          8.37,
          3.99,
          2.06,
          5.14,
          3.82,
          2.73,
          0.51,
          1.46,
          2.56,
          1.3,
          1.66,
          5.69,
          1.38,
          11.5,
          5.44,
          1.7,
          8.96
         ],
         "yaxis": "y4"
        }
       ],
       "layout": {
        "annotations": [
         {
          "font": {
           "size": 16
          },
          "showarrow": false,
          "text": "Current Ratio",
          "x": 0.225,
          "xanchor": "center",
          "xref": "paper",
          "y": 1,
          "yanchor": "bottom",
          "yref": "paper"
         },
         {
          "font": {
           "size": 16
          },
          "showarrow": false,
          "text": "Quick Ratio",
          "x": 0.775,
          "xanchor": "center",
          "xref": "paper",
          "y": 1,
          "yanchor": "bottom",
          "yref": "paper"
         },
         {
          "font": {
           "size": 16
          },
          "showarrow": false,
          "text": "Debt/Equity",
          "x": 0.225,
          "xanchor": "center",
          "xref": "paper",
          "y": 0.375,
          "yanchor": "bottom",
          "yref": "paper"
         },
         {
          "font": {
           "size": 16
          },
          "showarrow": false,
          "text": "LT Debt/Equity",
          "x": 0.775,
          "xanchor": "center",
          "xref": "paper",
          "y": 0.375,
          "yanchor": "bottom",
          "yref": "paper"
         }
        ],
        "autosize": true,
        "height": 1000,
        "showlegend": false,
        "template": {
         "data": {
          "bar": [
           {
            "error_x": {
             "color": "#2a3f5f"
            },
            "error_y": {
             "color": "#2a3f5f"
            },
            "marker": {
             "line": {
              "color": "#E5ECF6",
              "width": 0.5
             }
            },
            "type": "bar"
           }
          ],
          "barpolar": [
           {
            "marker": {
             "line": {
              "color": "#E5ECF6",
              "width": 0.5
             }
            },
            "type": "barpolar"
           }
          ],
          "carpet": [
           {
            "aaxis": {
             "endlinecolor": "#2a3f5f",
             "gridcolor": "white",
             "linecolor": "white",
             "minorgridcolor": "white",
             "startlinecolor": "#2a3f5f"
            },
            "baxis": {
             "endlinecolor": "#2a3f5f",
             "gridcolor": "white",
             "linecolor": "white",
             "minorgridcolor": "white",
             "startlinecolor": "#2a3f5f"
            },
            "type": "carpet"
           }
          ],
          "choropleth": [
           {
            "colorbar": {
             "outlinewidth": 0,
             "ticks": ""
            },
            "type": "choropleth"
           }
          ],
          "contour": [
           {
            "colorbar": {
             "outlinewidth": 0,
             "ticks": ""
            },
            "colorscale": [
             [
              0,
              "#0d0887"
             ],
             [
              0.1111111111111111,
              "#46039f"
             ],
             [
              0.2222222222222222,
              "#7201a8"
             ],
             [
              0.3333333333333333,
              "#9c179e"
             ],
             [
              0.4444444444444444,
              "#bd3786"
             ],
             [
              0.5555555555555556,
              "#d8576b"
             ],
             [
              0.6666666666666666,
              "#ed7953"
             ],
             [
              0.7777777777777778,
              "#fb9f3a"
             ],
             [
              0.8888888888888888,
              "#fdca26"
             ],
             [
              1,
              "#f0f921"
             ]
            ],
            "type": "contour"
           }
          ],
          "contourcarpet": [
           {
            "colorbar": {
             "outlinewidth": 0,
             "ticks": ""
            },
            "type": "contourcarpet"
           }
          ],
          "heatmap": [
           {
            "colorbar": {
             "outlinewidth": 0,
             "ticks": ""
            },
            "colorscale": [
             [
              0,
              "#0d0887"
             ],
             [
              0.1111111111111111,
              "#46039f"
             ],
             [
              0.2222222222222222,
              "#7201a8"
             ],
             [
              0.3333333333333333,
              "#9c179e"
             ],
             [
              0.4444444444444444,
              "#bd3786"
             ],
             [
              0.5555555555555556,
              "#d8576b"
             ],
             [
              0.6666666666666666,
              "#ed7953"
             ],
             [
              0.7777777777777778,
              "#fb9f3a"
             ],
             [
              0.8888888888888888,
              "#fdca26"
             ],
             [
              1,
              "#f0f921"
             ]
            ],
            "type": "heatmap"
           }
          ],
          "heatmapgl": [
           {
            "colorbar": {
             "outlinewidth": 0,
             "ticks": ""
            },
            "colorscale": [
             [
              0,
              "#0d0887"
             ],
             [
              0.1111111111111111,
              "#46039f"
             ],
             [
              0.2222222222222222,
              "#7201a8"
             ],
             [
              0.3333333333333333,
              "#9c179e"
             ],
             [
              0.4444444444444444,
              "#bd3786"
             ],
             [
              0.5555555555555556,
              "#d8576b"
             ],
             [
              0.6666666666666666,
              "#ed7953"
             ],
             [
              0.7777777777777778,
              "#fb9f3a"
             ],
             [
              0.8888888888888888,
              "#fdca26"
             ],
             [
              1,
              "#f0f921"
             ]
            ],
            "type": "heatmapgl"
           }
          ],
          "histogram": [
           {
            "marker": {
             "colorbar": {
              "outlinewidth": 0,
              "ticks": ""
             }
            },
            "type": "histogram"
           }
          ],
          "histogram2d": [
           {
            "colorbar": {
             "outlinewidth": 0,
             "ticks": ""
            },
            "colorscale": [
             [
              0,
              "#0d0887"
             ],
             [
              0.1111111111111111,
              "#46039f"
             ],
             [
              0.2222222222222222,
              "#7201a8"
             ],
             [
              0.3333333333333333,
              "#9c179e"
             ],
             [
              0.4444444444444444,
              "#bd3786"
             ],
             [
              0.5555555555555556,
              "#d8576b"
             ],
             [
              0.6666666666666666,
              "#ed7953"
             ],
             [
              0.7777777777777778,
              "#fb9f3a"
             ],
             [
              0.8888888888888888,
              "#fdca26"
             ],
             [
              1,
              "#f0f921"
             ]
            ],
            "type": "histogram2d"
           }
          ],
          "histogram2dcontour": [
           {
            "colorbar": {
             "outlinewidth": 0,
             "ticks": ""
            },
            "colorscale": [
             [
              0,
              "#0d0887"
             ],
             [
              0.1111111111111111,
              "#46039f"
             ],
             [
              0.2222222222222222,
              "#7201a8"
             ],
             [
              0.3333333333333333,
              "#9c179e"
             ],
             [
              0.4444444444444444,
              "#bd3786"
             ],
             [
              0.5555555555555556,
              "#d8576b"
             ],
             [
              0.6666666666666666,
              "#ed7953"
             ],
             [
              0.7777777777777778,
              "#fb9f3a"
             ],
             [
              0.8888888888888888,
              "#fdca26"
             ],
             [
              1,
              "#f0f921"
             ]
            ],
            "type": "histogram2dcontour"
           }
          ],
          "mesh3d": [
           {
            "colorbar": {
             "outlinewidth": 0,
             "ticks": ""
            },
            "type": "mesh3d"
           }
          ],
          "parcoords": [
           {
            "line": {
             "colorbar": {
              "outlinewidth": 0,
              "ticks": ""
             }
            },
            "type": "parcoords"
           }
          ],
          "pie": [
           {
            "automargin": true,
            "type": "pie"
           }
          ],
          "scatter": [
           {
            "marker": {
             "colorbar": {
              "outlinewidth": 0,
              "ticks": ""
             }
            },
            "type": "scatter"
           }
          ],
          "scatter3d": [
           {
            "line": {
             "colorbar": {
              "outlinewidth": 0,
              "ticks": ""
             }
            },
            "marker": {
             "colorbar": {
              "outlinewidth": 0,
              "ticks": ""
             }
            },
            "type": "scatter3d"
           }
          ],
          "scattercarpet": [
           {
            "marker": {
             "colorbar": {
              "outlinewidth": 0,
              "ticks": ""
             }
            },
            "type": "scattercarpet"
           }
          ],
          "scattergeo": [
           {
            "marker": {
             "colorbar": {
              "outlinewidth": 0,
              "ticks": ""
             }
            },
            "type": "scattergeo"
           }
          ],
          "scattergl": [
           {
            "marker": {
             "colorbar": {
              "outlinewidth": 0,
              "ticks": ""
             }
            },
            "type": "scattergl"
           }
          ],
          "scattermapbox": [
           {
            "marker": {
             "colorbar": {
              "outlinewidth": 0,
              "ticks": ""
             }
            },
            "type": "scattermapbox"
           }
          ],
          "scatterpolar": [
           {
            "marker": {
             "colorbar": {
              "outlinewidth": 0,
              "ticks": ""
             }
            },
            "type": "scatterpolar"
           }
          ],
          "scatterpolargl": [
           {
            "marker": {
             "colorbar": {
              "outlinewidth": 0,
              "ticks": ""
             }
            },
            "type": "scatterpolargl"
           }
          ],
          "scatterternary": [
           {
            "marker": {
             "colorbar": {
              "outlinewidth": 0,
              "ticks": ""
             }
            },
            "type": "scatterternary"
           }
          ],
          "surface": [
           {
            "colorbar": {
             "outlinewidth": 0,
             "ticks": ""
            },
            "colorscale": [
             [
              0,
              "#0d0887"
             ],
             [
              0.1111111111111111,
              "#46039f"
             ],
             [
              0.2222222222222222,
              "#7201a8"
             ],
             [
              0.3333333333333333,
              "#9c179e"
             ],
             [
              0.4444444444444444,
              "#bd3786"
             ],
             [
              0.5555555555555556,
              "#d8576b"
             ],
             [
              0.6666666666666666,
              "#ed7953"
             ],
             [
              0.7777777777777778,
              "#fb9f3a"
             ],
             [
              0.8888888888888888,
              "#fdca26"
             ],
             [
              1,
              "#f0f921"
             ]
            ],
            "type": "surface"
           }
          ],
          "table": [
           {
            "cells": {
             "fill": {
              "color": "#EBF0F8"
             },
             "line": {
              "color": "white"
             }
            },
            "header": {
             "fill": {
              "color": "#C8D4E3"
             },
             "line": {
              "color": "white"
             }
            },
            "type": "table"
           }
          ]
         },
         "layout": {
          "annotationdefaults": {
           "arrowcolor": "#2a3f5f",
           "arrowhead": 0,
           "arrowwidth": 1
          },
          "coloraxis": {
           "colorbar": {
            "outlinewidth": 0,
            "ticks": ""
           }
          },
          "colorscale": {
           "diverging": [
            [
             0,
             "#8e0152"
            ],
            [
             0.1,
             "#c51b7d"
            ],
            [
             0.2,
             "#de77ae"
            ],
            [
             0.3,
             "#f1b6da"
            ],
            [
             0.4,
             "#fde0ef"
            ],
            [
             0.5,
             "#f7f7f7"
            ],
            [
             0.6,
             "#e6f5d0"
            ],
            [
             0.7,
             "#b8e186"
            ],
            [
             0.8,
             "#7fbc41"
            ],
            [
             0.9,
             "#4d9221"
            ],
            [
             1,
             "#276419"
            ]
           ],
           "sequential": [
            [
             0,
             "#0d0887"
            ],
            [
             0.1111111111111111,
             "#46039f"
            ],
            [
             0.2222222222222222,
             "#7201a8"
            ],
            [
             0.3333333333333333,
             "#9c179e"
            ],
            [
             0.4444444444444444,
             "#bd3786"
            ],
            [
             0.5555555555555556,
             "#d8576b"
            ],
            [
             0.6666666666666666,
             "#ed7953"
            ],
            [
             0.7777777777777778,
             "#fb9f3a"
            ],
            [
             0.8888888888888888,
             "#fdca26"
            ],
            [
             1,
             "#f0f921"
            ]
           ],
           "sequentialminus": [
            [
             0,
             "#0d0887"
            ],
            [
             0.1111111111111111,
             "#46039f"
            ],
            [
             0.2222222222222222,
             "#7201a8"
            ],
            [
             0.3333333333333333,
             "#9c179e"
            ],
            [
             0.4444444444444444,
             "#bd3786"
            ],
            [
             0.5555555555555556,
             "#d8576b"
            ],
            [
             0.6666666666666666,
             "#ed7953"
            ],
            [
             0.7777777777777778,
             "#fb9f3a"
            ],
            [
             0.8888888888888888,
             "#fdca26"
            ],
            [
             1,
             "#f0f921"
            ]
           ]
          },
          "colorway": [
           "#636efa",
           "#EF553B",
           "#00cc96",
           "#ab63fa",
           "#FFA15A",
           "#19d3f3",
           "#FF6692",
           "#B6E880",
           "#FF97FF",
           "#FECB52"
          ],
          "font": {
           "color": "#2a3f5f"
          },
          "geo": {
           "bgcolor": "white",
           "lakecolor": "white",
           "landcolor": "#E5ECF6",
           "showlakes": true,
           "showland": true,
           "subunitcolor": "white"
          },
          "hoverlabel": {
           "align": "left"
          },
          "hovermode": "closest",
          "mapbox": {
           "style": "light"
          },
          "paper_bgcolor": "white",
          "plot_bgcolor": "#E5ECF6",
          "polar": {
           "angularaxis": {
            "gridcolor": "white",
            "linecolor": "white",
            "ticks": ""
           },
           "bgcolor": "#E5ECF6",
           "radialaxis": {
            "gridcolor": "white",
            "linecolor": "white",
            "ticks": ""
           }
          },
          "scene": {
           "xaxis": {
            "backgroundcolor": "#E5ECF6",
            "gridcolor": "white",
            "gridwidth": 2,
            "linecolor": "white",
            "showbackground": true,
            "ticks": "",
            "zerolinecolor": "white"
           },
           "yaxis": {
            "backgroundcolor": "#E5ECF6",
            "gridcolor": "white",
            "gridwidth": 2,
            "linecolor": "white",
            "showbackground": true,
            "ticks": "",
            "zerolinecolor": "white"
           },
           "zaxis": {
            "backgroundcolor": "#E5ECF6",
            "gridcolor": "white",
            "gridwidth": 2,
            "linecolor": "white",
            "showbackground": true,
            "ticks": "",
            "zerolinecolor": "white"
           }
          },
          "shapedefaults": {
           "line": {
            "color": "#2a3f5f"
           }
          },
          "ternary": {
           "aaxis": {
            "gridcolor": "white",
            "linecolor": "white",
            "ticks": ""
           },
           "baxis": {
            "gridcolor": "white",
            "linecolor": "white",
            "ticks": ""
           },
           "bgcolor": "#E5ECF6",
           "caxis": {
            "gridcolor": "white",
            "linecolor": "white",
            "ticks": ""
           }
          },
          "title": {
           "x": 0.05
          },
          "xaxis": {
           "automargin": true,
           "gridcolor": "white",
           "linecolor": "white",
           "ticks": "",
           "title": {
            "standoff": 15
           },
           "zerolinecolor": "white",
           "zerolinewidth": 2
          },
          "yaxis": {
           "automargin": true,
           "gridcolor": "white",
           "linecolor": "white",
           "ticks": "",
           "title": {
            "standoff": 15
           },
           "zerolinecolor": "white",
           "zerolinewidth": 2
          }
         }
        },
        "uniformtext": {
         "minsize": 8
        },
        "width": 1000,
        "xaxis": {
         "anchor": "y",
         "domain": [
          0,
          0.45
         ]
        },
        "xaxis2": {
         "anchor": "y2",
         "domain": [
          0.55,
          1
         ]
        },
        "xaxis3": {
         "anchor": "y3",
         "domain": [
          0,
          0.45
         ]
        },
        "xaxis4": {
         "anchor": "y4",
         "domain": [
          0.55,
          1
         ]
        },
        "yaxis": {
         "anchor": "x",
         "domain": [
          0.625,
          1
         ]
        },
        "yaxis2": {
         "anchor": "x2",
         "domain": [
          0.625,
          1
         ]
        },
        "yaxis3": {
         "anchor": "x3",
         "domain": [
          0,
          0.375
         ]
        },
        "yaxis4": {
         "anchor": "x4",
         "domain": [
          0,
          0.375
         ]
        }
       }
      },
      "text/html": [
       "<div>\n",
       "        \n",
       "        \n",
       "            <div id=\"f753a6e7-645c-4fe0-a981-e4e4af5dd6df\" class=\"plotly-graph-div\" style=\"height:1000px; width:1000px;\"></div>\n",
       "            <script type=\"text/javascript\">\n",
       "                require([\"plotly\"], function(Plotly) {\n",
       "                    window.PLOTLYENV=window.PLOTLYENV || {};\n",
       "                    \n",
       "                if (document.getElementById(\"f753a6e7-645c-4fe0-a981-e4e4af5dd6df\")) {\n",
       "                    Plotly.newPlot(\n",
       "                        'f753a6e7-645c-4fe0-a981-e4e4af5dd6df',\n",
       "                        [{\"marker\": {\"color\": [\"#e377c2\", \"#e377c2\", \"#e377c2\", \"#e377c2\", \"#e377c2\", \"#e377c2\", \"#e377c2\", \"#e377c2\", \"#e377c2\", \"#e377c2\", \"#e377c2\", \"gold\", \"#e377c2\", \"#e377c2\", \"#e377c2\", \"#e377c2\", \"#e377c2\", \"#e377c2\", \"#e377c2\", \"#e377c2\", \"#e377c2\"]}, \"name\": \"Curr R\", \"text\": [0.0, 0.0, 1.9, 1.5, 1.2, 1.6, 1.4, 2.6, 0.0, 1.4, 1.0, 2.9, 1.5, 3.6, 1.4, 1.6, 0.0, 4.9, 5.1, 0.0, 1.8], \"textposition\": \"outside\", \"type\": \"bar\", \"x\": [\"BBX\", \"BXG\", \"BYD\", \"CNTY\", \"CZR\", \"ERI\", \"FLL\", \"GDEN\", \"HGV\", \"LVS\", \"MCRI\", \"MGM\", \"MLCO\", \"MSC\", \"MTN\", \"PENN\", \"PLYA\", \"RRR\", \"TRWH\", \"VAC\", \"WYNN\"], \"xaxis\": \"x\", \"y\": [0.0, 0.0, 1.9, 1.5, 1.2, 1.6, 1.4, 2.6, 0.0, 1.4, 1.0, 2.9, 1.5, 3.6, 1.4, 1.6, 0.0, 4.9, 5.1, 0.0, 1.8], \"yaxis\": \"y\"}, {\"marker\": {\"color\": [\"#7f7f7f\", \"#7f7f7f\", \"#7f7f7f\", \"#7f7f7f\", \"#7f7f7f\", \"#7f7f7f\", \"#7f7f7f\", \"#7f7f7f\", \"#7f7f7f\", \"#7f7f7f\", \"#7f7f7f\", \"gold\", \"#7f7f7f\", \"#7f7f7f\", \"#7f7f7f\", \"#7f7f7f\", \"#7f7f7f\", \"#7f7f7f\", \"#7f7f7f\", \"#7f7f7f\", \"#7f7f7f\"]}, \"name\": \"Quick R\", \"text\": [0.0, 0.0, 1.9, 1.4, 1.2, 1.6, 1.3, 2.6, 0.0, 1.4, 0.9, 2.9, 1.5, 3.5, 1.2, 1.6, 0.0, 4.8, 5.0, 0.0, 1.8], \"textposition\": \"outside\", \"type\": \"bar\", \"x\": [\"BBX\", \"BXG\", \"BYD\", \"CNTY\", \"CZR\", \"ERI\", \"FLL\", \"GDEN\", \"HGV\", \"LVS\", \"MCRI\", \"MGM\", \"MLCO\", \"MSC\", \"MTN\", \"PENN\", \"PLYA\", \"RRR\", \"TRWH\", \"VAC\", \"WYNN\"], \"xaxis\": \"x2\", \"y\": [0.0, 0.0, 1.9, 1.4, 1.2, 1.6, 1.3, 2.6, 0.0, 1.4, 0.9, 2.9, 1.5, 3.5, 1.2, 1.6, 0.0, 4.8, 5.0, 0.0, 1.8], \"yaxis\": \"y2\"}, {\"marker\": {\"color\": [\"#bcbd22\", \"#bcbd22\", \"#bcbd22\", \"#bcbd22\", \"#bcbd22\", \"#bcbd22\", \"#bcbd22\", \"#bcbd22\", \"#bcbd22\", \"#bcbd22\", \"#bcbd22\", \"gold\", \"#bcbd22\", \"#bcbd22\", \"#bcbd22\", \"#bcbd22\", \"#bcbd22\", \"#bcbd22\", \"#bcbd22\", \"#bcbd22\", \"#bcbd22\"]}, \"name\": \"Debt/Eq\", \"text\": [1.58, 1.81, 3.95, 4.5, 8.77, 4.25, 2.09, 5.17, 3.82, 2.74, 0.57, 1.47, 2.58, 0.0, 1.71, 5.78, 1.38, 11.58, 5.46, 1.7, 9.15], \"textposition\": \"outside\", \"type\": \"bar\", \"x\": [\"BBX\", \"BXG\", \"BYD\", \"CNTY\", \"CZR\", \"ERI\", \"FLL\", \"GDEN\", \"HGV\", \"LVS\", \"MCRI\", \"MGM\", \"MLCO\", \"MSC\", \"MTN\", \"PENN\", \"PLYA\", \"RRR\", \"TRWH\", \"VAC\", \"WYNN\"], \"xaxis\": \"x3\", \"y\": [1.58, 1.81, 3.95, 4.5, 8.77, 4.25, 2.09, 5.17, 3.82, 2.74, 0.57, 1.47, 2.58, 0.0, 1.71, 5.78, 1.38, 11.58, 5.46, 1.7, 9.15], \"yaxis\": \"y3\"}, {\"marker\": {\"color\": [\"#17becf\", \"#17becf\", \"#17becf\", \"#17becf\", \"#17becf\", \"#17becf\", \"#17becf\", \"#17becf\", \"#17becf\", \"#17becf\", \"#17becf\", \"gold\", \"#17becf\", \"#17becf\", \"#17becf\", \"#17becf\", \"#17becf\", \"#17becf\", \"#17becf\", \"#17becf\", \"#17becf\"]}, \"name\": \"LTDebt/Eq\", \"text\": [1.58, 1.81, 3.93, 4.4, 8.37, 3.99, 2.06, 5.14, 3.82, 2.73, 0.51, 1.46, 2.56, 1.3, 1.66, 5.69, 1.38, 11.5, 5.44, 1.7, 8.96], \"textposition\": \"outside\", \"type\": \"bar\", \"x\": [\"BBX\", \"BXG\", \"BYD\", \"CNTY\", \"CZR\", \"ERI\", \"FLL\", \"GDEN\", \"HGV\", \"LVS\", \"MCRI\", \"MGM\", \"MLCO\", \"MSC\", \"MTN\", \"PENN\", \"PLYA\", \"RRR\", \"TRWH\", \"VAC\", \"WYNN\"], \"xaxis\": \"x4\", \"y\": [1.58, 1.81, 3.93, 4.4, 8.37, 3.99, 2.06, 5.14, 3.82, 2.73, 0.51, 1.46, 2.56, 1.3, 1.66, 5.69, 1.38, 11.5, 5.44, 1.7, 8.96], \"yaxis\": \"y4\"}],\n",
       "                        {\"annotations\": [{\"font\": {\"size\": 16}, \"showarrow\": false, \"text\": \"Current Ratio\", \"x\": 0.225, \"xanchor\": \"center\", \"xref\": \"paper\", \"y\": 1.0, \"yanchor\": \"bottom\", \"yref\": \"paper\"}, {\"font\": {\"size\": 16}, \"showarrow\": false, \"text\": \"Quick Ratio\", \"x\": 0.775, \"xanchor\": \"center\", \"xref\": \"paper\", \"y\": 1.0, \"yanchor\": \"bottom\", \"yref\": \"paper\"}, {\"font\": {\"size\": 16}, \"showarrow\": false, \"text\": \"Debt/Equity\", \"x\": 0.225, \"xanchor\": \"center\", \"xref\": \"paper\", \"y\": 0.375, \"yanchor\": \"bottom\", \"yref\": \"paper\"}, {\"font\": {\"size\": 16}, \"showarrow\": false, \"text\": \"LT Debt/Equity\", \"x\": 0.775, \"xanchor\": \"center\", \"xref\": \"paper\", \"y\": 0.375, \"yanchor\": \"bottom\", \"yref\": \"paper\"}], \"autosize\": true, \"height\": 1000, \"showlegend\": false, \"template\": {\"data\": {\"bar\": [{\"error_x\": {\"color\": \"#2a3f5f\"}, \"error_y\": {\"color\": \"#2a3f5f\"}, \"marker\": {\"line\": {\"color\": \"#E5ECF6\", \"width\": 0.5}}, \"type\": \"bar\"}], \"barpolar\": [{\"marker\": {\"line\": {\"color\": \"#E5ECF6\", \"width\": 0.5}}, \"type\": \"barpolar\"}], \"carpet\": [{\"aaxis\": {\"endlinecolor\": \"#2a3f5f\", \"gridcolor\": \"white\", \"linecolor\": \"white\", \"minorgridcolor\": \"white\", \"startlinecolor\": \"#2a3f5f\"}, \"baxis\": {\"endlinecolor\": \"#2a3f5f\", \"gridcolor\": \"white\", \"linecolor\": \"white\", \"minorgridcolor\": \"white\", \"startlinecolor\": \"#2a3f5f\"}, \"type\": \"carpet\"}], \"choropleth\": [{\"colorbar\": {\"outlinewidth\": 0, \"ticks\": \"\"}, \"type\": \"choropleth\"}], \"contour\": [{\"colorbar\": {\"outlinewidth\": 0, \"ticks\": \"\"}, \"colorscale\": [[0.0, \"#0d0887\"], [0.1111111111111111, \"#46039f\"], [0.2222222222222222, \"#7201a8\"], [0.3333333333333333, \"#9c179e\"], [0.4444444444444444, \"#bd3786\"], [0.5555555555555556, \"#d8576b\"], [0.6666666666666666, \"#ed7953\"], [0.7777777777777778, \"#fb9f3a\"], [0.8888888888888888, \"#fdca26\"], [1.0, \"#f0f921\"]], \"type\": \"contour\"}], \"contourcarpet\": [{\"colorbar\": {\"outlinewidth\": 0, \"ticks\": \"\"}, \"type\": \"contourcarpet\"}], \"heatmap\": [{\"colorbar\": {\"outlinewidth\": 0, \"ticks\": \"\"}, \"colorscale\": [[0.0, \"#0d0887\"], [0.1111111111111111, \"#46039f\"], [0.2222222222222222, \"#7201a8\"], [0.3333333333333333, \"#9c179e\"], [0.4444444444444444, \"#bd3786\"], [0.5555555555555556, \"#d8576b\"], [0.6666666666666666, \"#ed7953\"], [0.7777777777777778, \"#fb9f3a\"], [0.8888888888888888, \"#fdca26\"], [1.0, \"#f0f921\"]], \"type\": \"heatmap\"}], \"heatmapgl\": [{\"colorbar\": {\"outlinewidth\": 0, \"ticks\": \"\"}, \"colorscale\": [[0.0, \"#0d0887\"], [0.1111111111111111, \"#46039f\"], [0.2222222222222222, \"#7201a8\"], [0.3333333333333333, \"#9c179e\"], [0.4444444444444444, \"#bd3786\"], [0.5555555555555556, \"#d8576b\"], [0.6666666666666666, \"#ed7953\"], [0.7777777777777778, \"#fb9f3a\"], [0.8888888888888888, \"#fdca26\"], [1.0, \"#f0f921\"]], \"type\": \"heatmapgl\"}], \"histogram\": [{\"marker\": {\"colorbar\": {\"outlinewidth\": 0, \"ticks\": \"\"}}, \"type\": \"histogram\"}], \"histogram2d\": [{\"colorbar\": {\"outlinewidth\": 0, \"ticks\": \"\"}, \"colorscale\": [[0.0, \"#0d0887\"], [0.1111111111111111, \"#46039f\"], [0.2222222222222222, \"#7201a8\"], [0.3333333333333333, \"#9c179e\"], [0.4444444444444444, \"#bd3786\"], [0.5555555555555556, \"#d8576b\"], [0.6666666666666666, \"#ed7953\"], [0.7777777777777778, \"#fb9f3a\"], [0.8888888888888888, \"#fdca26\"], [1.0, \"#f0f921\"]], \"type\": \"histogram2d\"}], \"histogram2dcontour\": [{\"colorbar\": {\"outlinewidth\": 0, \"ticks\": \"\"}, \"colorscale\": [[0.0, \"#0d0887\"], [0.1111111111111111, \"#46039f\"], [0.2222222222222222, \"#7201a8\"], [0.3333333333333333, \"#9c179e\"], [0.4444444444444444, \"#bd3786\"], [0.5555555555555556, \"#d8576b\"], [0.6666666666666666, \"#ed7953\"], [0.7777777777777778, \"#fb9f3a\"], [0.8888888888888888, \"#fdca26\"], [1.0, \"#f0f921\"]], \"type\": \"histogram2dcontour\"}], \"mesh3d\": [{\"colorbar\": {\"outlinewidth\": 0, \"ticks\": \"\"}, \"type\": \"mesh3d\"}], \"parcoords\": [{\"line\": {\"colorbar\": {\"outlinewidth\": 0, \"ticks\": \"\"}}, \"type\": \"parcoords\"}], \"pie\": [{\"automargin\": true, \"type\": \"pie\"}], \"scatter\": [{\"marker\": {\"colorbar\": {\"outlinewidth\": 0, \"ticks\": \"\"}}, \"type\": \"scatter\"}], \"scatter3d\": [{\"line\": {\"colorbar\": {\"outlinewidth\": 0, \"ticks\": \"\"}}, \"marker\": {\"colorbar\": {\"outlinewidth\": 0, \"ticks\": \"\"}}, \"type\": \"scatter3d\"}], \"scattercarpet\": [{\"marker\": {\"colorbar\": {\"outlinewidth\": 0, \"ticks\": \"\"}}, \"type\": \"scattercarpet\"}], \"scattergeo\": [{\"marker\": {\"colorbar\": {\"outlinewidth\": 0, \"ticks\": \"\"}}, \"type\": \"scattergeo\"}], \"scattergl\": [{\"marker\": {\"colorbar\": {\"outlinewidth\": 0, \"ticks\": \"\"}}, \"type\": \"scattergl\"}], \"scattermapbox\": [{\"marker\": {\"colorbar\": {\"outlinewidth\": 0, \"ticks\": \"\"}}, \"type\": \"scattermapbox\"}], \"scatterpolar\": [{\"marker\": {\"colorbar\": {\"outlinewidth\": 0, \"ticks\": \"\"}}, \"type\": \"scatterpolar\"}], \"scatterpolargl\": [{\"marker\": {\"colorbar\": {\"outlinewidth\": 0, \"ticks\": \"\"}}, \"type\": \"scatterpolargl\"}], \"scatterternary\": [{\"marker\": {\"colorbar\": {\"outlinewidth\": 0, \"ticks\": \"\"}}, \"type\": \"scatterternary\"}], \"surface\": [{\"colorbar\": {\"outlinewidth\": 0, \"ticks\": \"\"}, \"colorscale\": [[0.0, \"#0d0887\"], [0.1111111111111111, \"#46039f\"], [0.2222222222222222, \"#7201a8\"], [0.3333333333333333, \"#9c179e\"], [0.4444444444444444, \"#bd3786\"], [0.5555555555555556, \"#d8576b\"], [0.6666666666666666, \"#ed7953\"], [0.7777777777777778, \"#fb9f3a\"], [0.8888888888888888, \"#fdca26\"], [1.0, \"#f0f921\"]], \"type\": \"surface\"}], \"table\": [{\"cells\": {\"fill\": {\"color\": \"#EBF0F8\"}, \"line\": {\"color\": \"white\"}}, \"header\": {\"fill\": {\"color\": \"#C8D4E3\"}, \"line\": {\"color\": \"white\"}}, \"type\": \"table\"}]}, \"layout\": {\"annotationdefaults\": {\"arrowcolor\": \"#2a3f5f\", \"arrowhead\": 0, \"arrowwidth\": 1}, \"coloraxis\": {\"colorbar\": {\"outlinewidth\": 0, \"ticks\": \"\"}}, \"colorscale\": {\"diverging\": [[0, \"#8e0152\"], [0.1, \"#c51b7d\"], [0.2, \"#de77ae\"], [0.3, \"#f1b6da\"], [0.4, \"#fde0ef\"], [0.5, \"#f7f7f7\"], [0.6, \"#e6f5d0\"], [0.7, \"#b8e186\"], [0.8, \"#7fbc41\"], [0.9, \"#4d9221\"], [1, \"#276419\"]], \"sequential\": [[0.0, \"#0d0887\"], [0.1111111111111111, \"#46039f\"], [0.2222222222222222, \"#7201a8\"], [0.3333333333333333, \"#9c179e\"], [0.4444444444444444, \"#bd3786\"], [0.5555555555555556, \"#d8576b\"], [0.6666666666666666, \"#ed7953\"], [0.7777777777777778, \"#fb9f3a\"], [0.8888888888888888, \"#fdca26\"], [1.0, \"#f0f921\"]], \"sequentialminus\": [[0.0, \"#0d0887\"], [0.1111111111111111, \"#46039f\"], [0.2222222222222222, \"#7201a8\"], [0.3333333333333333, \"#9c179e\"], [0.4444444444444444, \"#bd3786\"], [0.5555555555555556, \"#d8576b\"], [0.6666666666666666, \"#ed7953\"], [0.7777777777777778, \"#fb9f3a\"], [0.8888888888888888, \"#fdca26\"], [1.0, \"#f0f921\"]]}, \"colorway\": [\"#636efa\", \"#EF553B\", \"#00cc96\", \"#ab63fa\", \"#FFA15A\", \"#19d3f3\", \"#FF6692\", \"#B6E880\", \"#FF97FF\", \"#FECB52\"], \"font\": {\"color\": \"#2a3f5f\"}, \"geo\": {\"bgcolor\": \"white\", \"lakecolor\": \"white\", \"landcolor\": \"#E5ECF6\", \"showlakes\": true, \"showland\": true, \"subunitcolor\": \"white\"}, \"hoverlabel\": {\"align\": \"left\"}, \"hovermode\": \"closest\", \"mapbox\": {\"style\": \"light\"}, \"paper_bgcolor\": \"white\", \"plot_bgcolor\": \"#E5ECF6\", \"polar\": {\"angularaxis\": {\"gridcolor\": \"white\", \"linecolor\": \"white\", \"ticks\": \"\"}, \"bgcolor\": \"#E5ECF6\", \"radialaxis\": {\"gridcolor\": \"white\", \"linecolor\": \"white\", \"ticks\": \"\"}}, \"scene\": {\"xaxis\": {\"backgroundcolor\": \"#E5ECF6\", \"gridcolor\": \"white\", \"gridwidth\": 2, \"linecolor\": \"white\", \"showbackground\": true, \"ticks\": \"\", \"zerolinecolor\": \"white\"}, \"yaxis\": {\"backgroundcolor\": \"#E5ECF6\", \"gridcolor\": \"white\", \"gridwidth\": 2, \"linecolor\": \"white\", \"showbackground\": true, \"ticks\": \"\", \"zerolinecolor\": \"white\"}, \"zaxis\": {\"backgroundcolor\": \"#E5ECF6\", \"gridcolor\": \"white\", \"gridwidth\": 2, \"linecolor\": \"white\", \"showbackground\": true, \"ticks\": \"\", \"zerolinecolor\": \"white\"}}, \"shapedefaults\": {\"line\": {\"color\": \"#2a3f5f\"}}, \"ternary\": {\"aaxis\": {\"gridcolor\": \"white\", \"linecolor\": \"white\", \"ticks\": \"\"}, \"baxis\": {\"gridcolor\": \"white\", \"linecolor\": \"white\", \"ticks\": \"\"}, \"bgcolor\": \"#E5ECF6\", \"caxis\": {\"gridcolor\": \"white\", \"linecolor\": \"white\", \"ticks\": \"\"}}, \"title\": {\"x\": 0.05}, \"xaxis\": {\"automargin\": true, \"gridcolor\": \"white\", \"linecolor\": \"white\", \"ticks\": \"\", \"title\": {\"standoff\": 15}, \"zerolinecolor\": \"white\", \"zerolinewidth\": 2}, \"yaxis\": {\"automargin\": true, \"gridcolor\": \"white\", \"linecolor\": \"white\", \"ticks\": \"\", \"title\": {\"standoff\": 15}, \"zerolinecolor\": \"white\", \"zerolinewidth\": 2}}}, \"uniformtext\": {\"minsize\": 8}, \"width\": 1000, \"xaxis\": {\"anchor\": \"y\", \"domain\": [0.0, 0.45]}, \"xaxis2\": {\"anchor\": \"y2\", \"domain\": [0.55, 1.0]}, \"xaxis3\": {\"anchor\": \"y3\", \"domain\": [0.0, 0.45]}, \"xaxis4\": {\"anchor\": \"y4\", \"domain\": [0.55, 1.0]}, \"yaxis\": {\"anchor\": \"x\", \"domain\": [0.625, 1.0]}, \"yaxis2\": {\"anchor\": \"x2\", \"domain\": [0.625, 1.0]}, \"yaxis3\": {\"anchor\": \"x3\", \"domain\": [0.0, 0.375]}, \"yaxis4\": {\"anchor\": \"x4\", \"domain\": [0.0, 0.375]}},\n",
       "                        {\"responsive\": true}\n",
       "                    ).then(function(){\n",
       "                            \n",
       "var gd = document.getElementById('f753a6e7-645c-4fe0-a981-e4e4af5dd6df');\n",
       "var x = new MutationObserver(function (mutations, observer) {{\n",
       "        var display = window.getComputedStyle(gd).display;\n",
       "        if (!display || display === 'none') {{\n",
       "            console.log([gd, 'removed!']);\n",
       "            Plotly.purge(gd);\n",
       "            observer.disconnect();\n",
       "        }}\n",
       "}});\n",
       "\n",
       "// Listen for the removal of the full notebook cells\n",
       "var notebookContainer = gd.closest('#notebook-container');\n",
       "if (notebookContainer) {{\n",
       "    x.observe(notebookContainer, {childList: true});\n",
       "}}\n",
       "\n",
       "// Listen for the clearing of the current output cell\n",
       "var outputEl = gd.closest('.output');\n",
       "if (outputEl) {{\n",
       "    x.observe(outputEl, {childList: true});\n",
       "}}\n",
       "\n",
       "                        })\n",
       "                };\n",
       "                });\n",
       "            </script>\n",
       "        </div>"
      ]
     },
     "metadata": {},
     "output_type": "display_data"
    }
   ],
   "source": [
    "display(tag)\n",
    "\n",
    "fig = make_subplots(rows=2, cols=2, start_cell=\"top-left\", subplot_titles=(\"Current Ratio\", \"Quick Ratio\",\"Debt/Equity\", \"LT Debt/Equity\",))\n",
    "\n",
    "fig.add_trace(go.Bar(name=\"Curr R\", x=comp_data.index, y=comp_data['Curr R'], text=comp_data['Curr R'], textposition='outside', marker_color=get_chart_color(tick_index,6)), row=1, col=1)\n",
    "fig.add_trace(go.Bar(name=\"Quick R\", x=comp_data.index, y=comp_data['Quick R'], text=comp_data['Quick R'], textposition='auto', marker_color=get_chart_color(tick_index,7)), row=1, col=2)\n",
    "fig.add_trace(go.Bar(name=\"Debt/Eq\", x=comp_data.index, y=comp_data['Debt/Eq'], text=comp_data['Debt/Eq'], textposition='auto', marker_color=get_chart_color(tick_index,8)), row=2, col=1)\n",
    "fig.add_trace(go.Bar(name=\"LTDebt/Eq\", x=comp_data.index, y=comp_data['LTDebt/Eq'], text=comp_data['LTDebt/Eq'], textposition='auto', marker_color=get_chart_color(tick_index,9)), row=2, col=2)\n",
    "\n",
    "fig.update_traces(textposition='outside')\n",
    "fig.update_layout(uniformtext_minsize=8)\n",
    "\n",
    "fig.update_layout(\n",
    "    autosize=True,\n",
    "    width=1000,\n",
    "    height=1000,\n",
    "    showlegend=False)\n",
    "\n",
    "fig.show()"
   ]
  },
  {
   "cell_type": "markdown",
   "metadata": {},
   "source": [
    "## Margins and Dividend\n",
    "\n",
    "As far as margins go, it is better to see higher margins and dividends because it demonstrates that the company is able to cover costs more effectively and generate profits, which ultimately benefits the investor."
   ]
  },
  {
   "cell_type": "code",
   "execution_count": 54,
   "metadata": {},
   "outputs": [
    {
     "data": {
      "text/html": [
       "<script>\n",
       "code_show=true; \n",
       "function code_toggle() {\n",
       "    if (code_show){\n",
       "        $('div.cell.code_cell.rendered.selected div.input').hide();\n",
       "    } else {\n",
       "        $('div.cell.code_cell.rendered.selected div.input').show();\n",
       "    }\n",
       "    code_show = !code_show\n",
       "} \n",
       "$( document ).ready(code_toggle);\n",
       "</script>\n",
       "To show/hide this cell's raw code input, click <a href=\"javascript:code_toggle()\">here</a>."
      ],
      "text/plain": [
       "<IPython.core.display.HTML object>"
      ]
     },
     "metadata": {},
     "output_type": "display_data"
    },
    {
     "data": {
      "application/vnd.plotly.v1+json": {
       "config": {
        "plotlyServerURL": "https://plot.ly"
       },
       "data": [
        {
         "marker": {
          "color": [
           "#ff7f0e",
           "#ff7f0e",
           "#ff7f0e",
           "#ff7f0e",
           "#ff7f0e",
           "#ff7f0e",
           "#ff7f0e",
           "#ff7f0e",
           "#ff7f0e",
           "#ff7f0e",
           "#ff7f0e",
           "gold",
           "#ff7f0e",
           "#ff7f0e",
           "#ff7f0e",
           "#ff7f0e",
           "#ff7f0e",
           "#ff7f0e",
           "#ff7f0e",
           "#ff7f0e",
           "#ff7f0e"
          ]
         },
         "name": "Gross Margin",
         "text": [
          63.7,
          76.8,
          47.2,
          46.6,
          51.9,
          49.7,
          43.1,
          39.5,
          23.2,
          49.3,
          50.6,
          40.1,
          34.2,
          78.2,
          42.4,
          44.6,
          38.5,
          46.9,
          62.7,
          50.9,
          35.8
         ],
         "textposition": "outside",
         "type": "bar",
         "x": [
          "BBX",
          "BXG",
          "BYD",
          "CNTY",
          "CZR",
          "ERI",
          "FLL",
          "GDEN",
          "HGV",
          "LVS",
          "MCRI",
          "MGM",
          "MLCO",
          "MSC",
          "MTN",
          "PENN",
          "PLYA",
          "RRR",
          "TRWH",
          "VAC",
          "WYNN"
         ],
         "xaxis": "x",
         "y": [
          63.7,
          76.8,
          47.2,
          46.6,
          51.9,
          49.7,
          43.1,
          39.5,
          23.2,
          49.3,
          50.6,
          40.1,
          34.2,
          78.2,
          42.4,
          44.6,
          38.5,
          46.9,
          62.7,
          50.9,
          35.8
         ],
         "yaxis": "y"
        },
        {
         "marker": {
          "color": [
           "#2ca02c",
           "#2ca02c",
           "#2ca02c",
           "#2ca02c",
           "#2ca02c",
           "#2ca02c",
           "#2ca02c",
           "#2ca02c",
           "#2ca02c",
           "#2ca02c",
           "#2ca02c",
           "gold",
           "#2ca02c",
           "#2ca02c",
           "#2ca02c",
           "#2ca02c",
           "#2ca02c",
           "#2ca02c",
           "#2ca02c",
           "#2ca02c",
           "#2ca02c"
          ]
         },
         "name": "Operating Margin",
         "text": [
          -10.4,
          5,
          5.7,
          -15.6,
          3.7,
          6.6,
          1,
          1.2,
          14,
          27.9,
          17,
          40.3,
          0,
          12.2,
          11.4,
          -3.3,
          -2.9,
          5.1,
          15.5,
          4.8,
          6.1
         ],
         "textposition": "outside",
         "type": "bar",
         "x": [
          "BBX",
          "BXG",
          "BYD",
          "CNTY",
          "CZR",
          "ERI",
          "FLL",
          "GDEN",
          "HGV",
          "LVS",
          "MCRI",
          "MGM",
          "MLCO",
          "MSC",
          "MTN",
          "PENN",
          "PLYA",
          "RRR",
          "TRWH",
          "VAC",
          "WYNN"
         ],
         "xaxis": "x2",
         "y": [
          -10.4,
          5,
          5.7,
          -15.6,
          3.7,
          6.6,
          1,
          1.2,
          14,
          27.9,
          17,
          40.3,
          0,
          12.2,
          11.4,
          -3.3,
          -2.9,
          5.1,
          15.5,
          4.8,
          6.1
         ],
         "yaxis": "y2"
        },
        {
         "marker": {
          "color": [
           "#d62728",
           "#d62728",
           "#d62728",
           "#d62728",
           "#d62728",
           "#d62728",
           "#d62728",
           "#d62728",
           "#d62728",
           "#d62728",
           "#d62728",
           "gold",
           "#d62728",
           "#d62728",
           "#d62728",
           "#d62728",
           "#d62728",
           "#d62728",
           "#d62728",
           "#d62728",
           "#d62728"
          ]
         },
         "name": "Profit Margin",
         "text": [
          -1.5,
          2.7,
          -1.1,
          -25.4,
          -9.3,
          -5.6,
          -5.5,
          -6.8,
          9.7,
          17.8,
          13.6,
          23.6,
          0,
          0,
          6.8,
          -11.8,
          -11.3,
          -9.3,
          5.6,
          0.2,
          -6.5
         ],
         "textposition": "outside",
         "type": "bar",
         "x": [
          "BBX",
          "BXG",
          "BYD",
          "CNTY",
          "CZR",
          "ERI",
          "FLL",
          "GDEN",
          "HGV",
          "LVS",
          "MCRI",
          "MGM",
          "MLCO",
          "MSC",
          "MTN",
          "PENN",
          "PLYA",
          "RRR",
          "TRWH",
          "VAC",
          "WYNN"
         ],
         "xaxis": "x3",
         "y": [
          -1.5,
          2.7,
          -1.1,
          -25.4,
          -9.3,
          -5.6,
          -5.5,
          -6.8,
          9.7,
          17.8,
          13.6,
          23.6,
          0,
          0,
          6.8,
          -11.8,
          -11.3,
          -9.3,
          5.6,
          0.2,
          -6.5
         ],
         "yaxis": "y3"
        },
        {
         "marker": {
          "color": [
           "#9467bd",
           "#9467bd",
           "#9467bd",
           "#9467bd",
           "#9467bd",
           "#9467bd",
           "#9467bd",
           "#9467bd",
           "#9467bd",
           "#9467bd",
           "#9467bd",
           "gold",
           "#9467bd",
           "#9467bd",
           "#9467bd",
           "#9467bd",
           "#9467bd",
           "#9467bd",
           "#9467bd",
           "#9467bd",
           "#9467bd"
          ]
         },
         "name": "Dividend",
         "text": [
          2.17,
          0,
          0,
          0,
          0,
          0,
          0,
          0,
          0,
          0,
          0,
          0.05,
          2.68,
          0,
          0,
          0,
          0,
          2.7,
          1.67,
          2.2,
          0
         ],
         "textposition": "outside",
         "type": "bar",
         "x": [
          "BBX",
          "BXG",
          "BYD",
          "CNTY",
          "CZR",
          "ERI",
          "FLL",
          "GDEN",
          "HGV",
          "LVS",
          "MCRI",
          "MGM",
          "MLCO",
          "MSC",
          "MTN",
          "PENN",
          "PLYA",
          "RRR",
          "TRWH",
          "VAC",
          "WYNN"
         ],
         "xaxis": "x4",
         "y": [
          2.17,
          0,
          0,
          0,
          0,
          0,
          0,
          0,
          0,
          0,
          0,
          0.05,
          2.68,
          0,
          0,
          0,
          0,
          2.7,
          1.67,
          2.2,
          0
         ],
         "yaxis": "y4"
        }
       ],
       "layout": {
        "annotations": [
         {
          "font": {
           "size": 16
          },
          "showarrow": false,
          "text": "Gross Margin",
          "x": 0.225,
          "xanchor": "center",
          "xref": "paper",
          "y": 1,
          "yanchor": "bottom",
          "yref": "paper"
         },
         {
          "font": {
           "size": 16
          },
          "showarrow": false,
          "text": "Operating",
          "x": 0.775,
          "xanchor": "center",
          "xref": "paper",
          "y": 1,
          "yanchor": "bottom",
          "yref": "paper"
         },
         {
          "font": {
           "size": 16
          },
          "showarrow": false,
          "text": "Profit",
          "x": 0.225,
          "xanchor": "center",
          "xref": "paper",
          "y": 0.375,
          "yanchor": "bottom",
          "yref": "paper"
         },
         {
          "font": {
           "size": 16
          },
          "showarrow": false,
          "text": "Dividend",
          "x": 0.775,
          "xanchor": "center",
          "xref": "paper",
          "y": 0.375,
          "yanchor": "bottom",
          "yref": "paper"
         }
        ],
        "autosize": true,
        "height": 1000,
        "showlegend": false,
        "template": {
         "data": {
          "bar": [
           {
            "error_x": {
             "color": "#2a3f5f"
            },
            "error_y": {
             "color": "#2a3f5f"
            },
            "marker": {
             "line": {
              "color": "#E5ECF6",
              "width": 0.5
             }
            },
            "type": "bar"
           }
          ],
          "barpolar": [
           {
            "marker": {
             "line": {
              "color": "#E5ECF6",
              "width": 0.5
             }
            },
            "type": "barpolar"
           }
          ],
          "carpet": [
           {
            "aaxis": {
             "endlinecolor": "#2a3f5f",
             "gridcolor": "white",
             "linecolor": "white",
             "minorgridcolor": "white",
             "startlinecolor": "#2a3f5f"
            },
            "baxis": {
             "endlinecolor": "#2a3f5f",
             "gridcolor": "white",
             "linecolor": "white",
             "minorgridcolor": "white",
             "startlinecolor": "#2a3f5f"
            },
            "type": "carpet"
           }
          ],
          "choropleth": [
           {
            "colorbar": {
             "outlinewidth": 0,
             "ticks": ""
            },
            "type": "choropleth"
           }
          ],
          "contour": [
           {
            "colorbar": {
             "outlinewidth": 0,
             "ticks": ""
            },
            "colorscale": [
             [
              0,
              "#0d0887"
             ],
             [
              0.1111111111111111,
              "#46039f"
             ],
             [
              0.2222222222222222,
              "#7201a8"
             ],
             [
              0.3333333333333333,
              "#9c179e"
             ],
             [
              0.4444444444444444,
              "#bd3786"
             ],
             [
              0.5555555555555556,
              "#d8576b"
             ],
             [
              0.6666666666666666,
              "#ed7953"
             ],
             [
              0.7777777777777778,
              "#fb9f3a"
             ],
             [
              0.8888888888888888,
              "#fdca26"
             ],
             [
              1,
              "#f0f921"
             ]
            ],
            "type": "contour"
           }
          ],
          "contourcarpet": [
           {
            "colorbar": {
             "outlinewidth": 0,
             "ticks": ""
            },
            "type": "contourcarpet"
           }
          ],
          "heatmap": [
           {
            "colorbar": {
             "outlinewidth": 0,
             "ticks": ""
            },
            "colorscale": [
             [
              0,
              "#0d0887"
             ],
             [
              0.1111111111111111,
              "#46039f"
             ],
             [
              0.2222222222222222,
              "#7201a8"
             ],
             [
              0.3333333333333333,
              "#9c179e"
             ],
             [
              0.4444444444444444,
              "#bd3786"
             ],
             [
              0.5555555555555556,
              "#d8576b"
             ],
             [
              0.6666666666666666,
              "#ed7953"
             ],
             [
              0.7777777777777778,
              "#fb9f3a"
             ],
             [
              0.8888888888888888,
              "#fdca26"
             ],
             [
              1,
              "#f0f921"
             ]
            ],
            "type": "heatmap"
           }
          ],
          "heatmapgl": [
           {
            "colorbar": {
             "outlinewidth": 0,
             "ticks": ""
            },
            "colorscale": [
             [
              0,
              "#0d0887"
             ],
             [
              0.1111111111111111,
              "#46039f"
             ],
             [
              0.2222222222222222,
              "#7201a8"
             ],
             [
              0.3333333333333333,
              "#9c179e"
             ],
             [
              0.4444444444444444,
              "#bd3786"
             ],
             [
              0.5555555555555556,
              "#d8576b"
             ],
             [
              0.6666666666666666,
              "#ed7953"
             ],
             [
              0.7777777777777778,
              "#fb9f3a"
             ],
             [
              0.8888888888888888,
              "#fdca26"
             ],
             [
              1,
              "#f0f921"
             ]
            ],
            "type": "heatmapgl"
           }
          ],
          "histogram": [
           {
            "marker": {
             "colorbar": {
              "outlinewidth": 0,
              "ticks": ""
             }
            },
            "type": "histogram"
           }
          ],
          "histogram2d": [
           {
            "colorbar": {
             "outlinewidth": 0,
             "ticks": ""
            },
            "colorscale": [
             [
              0,
              "#0d0887"
             ],
             [
              0.1111111111111111,
              "#46039f"
             ],
             [
              0.2222222222222222,
              "#7201a8"
             ],
             [
              0.3333333333333333,
              "#9c179e"
             ],
             [
              0.4444444444444444,
              "#bd3786"
             ],
             [
              0.5555555555555556,
              "#d8576b"
             ],
             [
              0.6666666666666666,
              "#ed7953"
             ],
             [
              0.7777777777777778,
              "#fb9f3a"
             ],
             [
              0.8888888888888888,
              "#fdca26"
             ],
             [
              1,
              "#f0f921"
             ]
            ],
            "type": "histogram2d"
           }
          ],
          "histogram2dcontour": [
           {
            "colorbar": {
             "outlinewidth": 0,
             "ticks": ""
            },
            "colorscale": [
             [
              0,
              "#0d0887"
             ],
             [
              0.1111111111111111,
              "#46039f"
             ],
             [
              0.2222222222222222,
              "#7201a8"
             ],
             [
              0.3333333333333333,
              "#9c179e"
             ],
             [
              0.4444444444444444,
              "#bd3786"
             ],
             [
              0.5555555555555556,
              "#d8576b"
             ],
             [
              0.6666666666666666,
              "#ed7953"
             ],
             [
              0.7777777777777778,
              "#fb9f3a"
             ],
             [
              0.8888888888888888,
              "#fdca26"
             ],
             [
              1,
              "#f0f921"
             ]
            ],
            "type": "histogram2dcontour"
           }
          ],
          "mesh3d": [
           {
            "colorbar": {
             "outlinewidth": 0,
             "ticks": ""
            },
            "type": "mesh3d"
           }
          ],
          "parcoords": [
           {
            "line": {
             "colorbar": {
              "outlinewidth": 0,
              "ticks": ""
             }
            },
            "type": "parcoords"
           }
          ],
          "pie": [
           {
            "automargin": true,
            "type": "pie"
           }
          ],
          "scatter": [
           {
            "marker": {
             "colorbar": {
              "outlinewidth": 0,
              "ticks": ""
             }
            },
            "type": "scatter"
           }
          ],
          "scatter3d": [
           {
            "line": {
             "colorbar": {
              "outlinewidth": 0,
              "ticks": ""
             }
            },
            "marker": {
             "colorbar": {
              "outlinewidth": 0,
              "ticks": ""
             }
            },
            "type": "scatter3d"
           }
          ],
          "scattercarpet": [
           {
            "marker": {
             "colorbar": {
              "outlinewidth": 0,
              "ticks": ""
             }
            },
            "type": "scattercarpet"
           }
          ],
          "scattergeo": [
           {
            "marker": {
             "colorbar": {
              "outlinewidth": 0,
              "ticks": ""
             }
            },
            "type": "scattergeo"
           }
          ],
          "scattergl": [
           {
            "marker": {
             "colorbar": {
              "outlinewidth": 0,
              "ticks": ""
             }
            },
            "type": "scattergl"
           }
          ],
          "scattermapbox": [
           {
            "marker": {
             "colorbar": {
              "outlinewidth": 0,
              "ticks": ""
             }
            },
            "type": "scattermapbox"
           }
          ],
          "scatterpolar": [
           {
            "marker": {
             "colorbar": {
              "outlinewidth": 0,
              "ticks": ""
             }
            },
            "type": "scatterpolar"
           }
          ],
          "scatterpolargl": [
           {
            "marker": {
             "colorbar": {
              "outlinewidth": 0,
              "ticks": ""
             }
            },
            "type": "scatterpolargl"
           }
          ],
          "scatterternary": [
           {
            "marker": {
             "colorbar": {
              "outlinewidth": 0,
              "ticks": ""
             }
            },
            "type": "scatterternary"
           }
          ],
          "surface": [
           {
            "colorbar": {
             "outlinewidth": 0,
             "ticks": ""
            },
            "colorscale": [
             [
              0,
              "#0d0887"
             ],
             [
              0.1111111111111111,
              "#46039f"
             ],
             [
              0.2222222222222222,
              "#7201a8"
             ],
             [
              0.3333333333333333,
              "#9c179e"
             ],
             [
              0.4444444444444444,
              "#bd3786"
             ],
             [
              0.5555555555555556,
              "#d8576b"
             ],
             [
              0.6666666666666666,
              "#ed7953"
             ],
             [
              0.7777777777777778,
              "#fb9f3a"
             ],
             [
              0.8888888888888888,
              "#fdca26"
             ],
             [
              1,
              "#f0f921"
             ]
            ],
            "type": "surface"
           }
          ],
          "table": [
           {
            "cells": {
             "fill": {
              "color": "#EBF0F8"
             },
             "line": {
              "color": "white"
             }
            },
            "header": {
             "fill": {
              "color": "#C8D4E3"
             },
             "line": {
              "color": "white"
             }
            },
            "type": "table"
           }
          ]
         },
         "layout": {
          "annotationdefaults": {
           "arrowcolor": "#2a3f5f",
           "arrowhead": 0,
           "arrowwidth": 1
          },
          "coloraxis": {
           "colorbar": {
            "outlinewidth": 0,
            "ticks": ""
           }
          },
          "colorscale": {
           "diverging": [
            [
             0,
             "#8e0152"
            ],
            [
             0.1,
             "#c51b7d"
            ],
            [
             0.2,
             "#de77ae"
            ],
            [
             0.3,
             "#f1b6da"
            ],
            [
             0.4,
             "#fde0ef"
            ],
            [
             0.5,
             "#f7f7f7"
            ],
            [
             0.6,
             "#e6f5d0"
            ],
            [
             0.7,
             "#b8e186"
            ],
            [
             0.8,
             "#7fbc41"
            ],
            [
             0.9,
             "#4d9221"
            ],
            [
             1,
             "#276419"
            ]
           ],
           "sequential": [
            [
             0,
             "#0d0887"
            ],
            [
             0.1111111111111111,
             "#46039f"
            ],
            [
             0.2222222222222222,
             "#7201a8"
            ],
            [
             0.3333333333333333,
             "#9c179e"
            ],
            [
             0.4444444444444444,
             "#bd3786"
            ],
            [
             0.5555555555555556,
             "#d8576b"
            ],
            [
             0.6666666666666666,
             "#ed7953"
            ],
            [
             0.7777777777777778,
             "#fb9f3a"
            ],
            [
             0.8888888888888888,
             "#fdca26"
            ],
            [
             1,
             "#f0f921"
            ]
           ],
           "sequentialminus": [
            [
             0,
             "#0d0887"
            ],
            [
             0.1111111111111111,
             "#46039f"
            ],
            [
             0.2222222222222222,
             "#7201a8"
            ],
            [
             0.3333333333333333,
             "#9c179e"
            ],
            [
             0.4444444444444444,
             "#bd3786"
            ],
            [
             0.5555555555555556,
             "#d8576b"
            ],
            [
             0.6666666666666666,
             "#ed7953"
            ],
            [
             0.7777777777777778,
             "#fb9f3a"
            ],
            [
             0.8888888888888888,
             "#fdca26"
            ],
            [
             1,
             "#f0f921"
            ]
           ]
          },
          "colorway": [
           "#636efa",
           "#EF553B",
           "#00cc96",
           "#ab63fa",
           "#FFA15A",
           "#19d3f3",
           "#FF6692",
           "#B6E880",
           "#FF97FF",
           "#FECB52"
          ],
          "font": {
           "color": "#2a3f5f"
          },
          "geo": {
           "bgcolor": "white",
           "lakecolor": "white",
           "landcolor": "#E5ECF6",
           "showlakes": true,
           "showland": true,
           "subunitcolor": "white"
          },
          "hoverlabel": {
           "align": "left"
          },
          "hovermode": "closest",
          "mapbox": {
           "style": "light"
          },
          "paper_bgcolor": "white",
          "plot_bgcolor": "#E5ECF6",
          "polar": {
           "angularaxis": {
            "gridcolor": "white",
            "linecolor": "white",
            "ticks": ""
           },
           "bgcolor": "#E5ECF6",
           "radialaxis": {
            "gridcolor": "white",
            "linecolor": "white",
            "ticks": ""
           }
          },
          "scene": {
           "xaxis": {
            "backgroundcolor": "#E5ECF6",
            "gridcolor": "white",
            "gridwidth": 2,
            "linecolor": "white",
            "showbackground": true,
            "ticks": "",
            "zerolinecolor": "white"
           },
           "yaxis": {
            "backgroundcolor": "#E5ECF6",
            "gridcolor": "white",
            "gridwidth": 2,
            "linecolor": "white",
            "showbackground": true,
            "ticks": "",
            "zerolinecolor": "white"
           },
           "zaxis": {
            "backgroundcolor": "#E5ECF6",
            "gridcolor": "white",
            "gridwidth": 2,
            "linecolor": "white",
            "showbackground": true,
            "ticks": "",
            "zerolinecolor": "white"
           }
          },
          "shapedefaults": {
           "line": {
            "color": "#2a3f5f"
           }
          },
          "ternary": {
           "aaxis": {
            "gridcolor": "white",
            "linecolor": "white",
            "ticks": ""
           },
           "baxis": {
            "gridcolor": "white",
            "linecolor": "white",
            "ticks": ""
           },
           "bgcolor": "#E5ECF6",
           "caxis": {
            "gridcolor": "white",
            "linecolor": "white",
            "ticks": ""
           }
          },
          "title": {
           "x": 0.05
          },
          "xaxis": {
           "automargin": true,
           "gridcolor": "white",
           "linecolor": "white",
           "ticks": "",
           "title": {
            "standoff": 15
           },
           "zerolinecolor": "white",
           "zerolinewidth": 2
          },
          "yaxis": {
           "automargin": true,
           "gridcolor": "white",
           "linecolor": "white",
           "ticks": "",
           "title": {
            "standoff": 15
           },
           "zerolinecolor": "white",
           "zerolinewidth": 2
          }
         }
        },
        "uniformtext": {
         "minsize": 8
        },
        "width": 1000,
        "xaxis": {
         "anchor": "y",
         "domain": [
          0,
          0.45
         ]
        },
        "xaxis2": {
         "anchor": "y2",
         "domain": [
          0.55,
          1
         ]
        },
        "xaxis3": {
         "anchor": "y3",
         "domain": [
          0,
          0.45
         ]
        },
        "xaxis4": {
         "anchor": "y4",
         "domain": [
          0.55,
          1
         ]
        },
        "yaxis": {
         "anchor": "x",
         "domain": [
          0.625,
          1
         ]
        },
        "yaxis2": {
         "anchor": "x2",
         "domain": [
          0.625,
          1
         ]
        },
        "yaxis3": {
         "anchor": "x3",
         "domain": [
          0,
          0.375
         ]
        },
        "yaxis4": {
         "anchor": "x4",
         "domain": [
          0,
          0.375
         ]
        }
       }
      },
      "text/html": [
       "<div>\n",
       "        \n",
       "        \n",
       "            <div id=\"cbb3406b-b56a-41dc-8f2a-f37c77806a16\" class=\"plotly-graph-div\" style=\"height:1000px; width:1000px;\"></div>\n",
       "            <script type=\"text/javascript\">\n",
       "                require([\"plotly\"], function(Plotly) {\n",
       "                    window.PLOTLYENV=window.PLOTLYENV || {};\n",
       "                    \n",
       "                if (document.getElementById(\"cbb3406b-b56a-41dc-8f2a-f37c77806a16\")) {\n",
       "                    Plotly.newPlot(\n",
       "                        'cbb3406b-b56a-41dc-8f2a-f37c77806a16',\n",
       "                        [{\"marker\": {\"color\": [\"#ff7f0e\", \"#ff7f0e\", \"#ff7f0e\", \"#ff7f0e\", \"#ff7f0e\", \"#ff7f0e\", \"#ff7f0e\", \"#ff7f0e\", \"#ff7f0e\", \"#ff7f0e\", \"#ff7f0e\", \"gold\", \"#ff7f0e\", \"#ff7f0e\", \"#ff7f0e\", \"#ff7f0e\", \"#ff7f0e\", \"#ff7f0e\", \"#ff7f0e\", \"#ff7f0e\", \"#ff7f0e\"]}, \"name\": \"Gross Margin\", \"text\": [63.7, 76.8, 47.2, 46.6, 51.9, 49.7, 43.1, 39.5, 23.2, 49.3, 50.6, 40.1, 34.2, 78.2, 42.4, 44.6, 38.5, 46.9, 62.7, 50.9, 35.8], \"textposition\": \"outside\", \"type\": \"bar\", \"x\": [\"BBX\", \"BXG\", \"BYD\", \"CNTY\", \"CZR\", \"ERI\", \"FLL\", \"GDEN\", \"HGV\", \"LVS\", \"MCRI\", \"MGM\", \"MLCO\", \"MSC\", \"MTN\", \"PENN\", \"PLYA\", \"RRR\", \"TRWH\", \"VAC\", \"WYNN\"], \"xaxis\": \"x\", \"y\": [63.7, 76.8, 47.2, 46.6, 51.9, 49.7, 43.1, 39.5, 23.2, 49.3, 50.6, 40.1, 34.2, 78.2, 42.4, 44.6, 38.5, 46.9, 62.7, 50.9, 35.8], \"yaxis\": \"y\"}, {\"marker\": {\"color\": [\"#2ca02c\", \"#2ca02c\", \"#2ca02c\", \"#2ca02c\", \"#2ca02c\", \"#2ca02c\", \"#2ca02c\", \"#2ca02c\", \"#2ca02c\", \"#2ca02c\", \"#2ca02c\", \"gold\", \"#2ca02c\", \"#2ca02c\", \"#2ca02c\", \"#2ca02c\", \"#2ca02c\", \"#2ca02c\", \"#2ca02c\", \"#2ca02c\", \"#2ca02c\"]}, \"name\": \"Operating Margin\", \"text\": [-10.4, 5.0, 5.7, -15.6, 3.7, 6.6, 1.0, 1.2, 14.0, 27.9, 17.0, 40.3, 0.0, 12.2, 11.4, -3.3, -2.9, 5.1, 15.5, 4.8, 6.1], \"textposition\": \"outside\", \"type\": \"bar\", \"x\": [\"BBX\", \"BXG\", \"BYD\", \"CNTY\", \"CZR\", \"ERI\", \"FLL\", \"GDEN\", \"HGV\", \"LVS\", \"MCRI\", \"MGM\", \"MLCO\", \"MSC\", \"MTN\", \"PENN\", \"PLYA\", \"RRR\", \"TRWH\", \"VAC\", \"WYNN\"], \"xaxis\": \"x2\", \"y\": [-10.4, 5.0, 5.7, -15.6, 3.7, 6.6, 1.0, 1.2, 14.0, 27.9, 17.0, 40.3, 0.0, 12.2, 11.4, -3.3, -2.9, 5.1, 15.5, 4.8, 6.1], \"yaxis\": \"y2\"}, {\"marker\": {\"color\": [\"#d62728\", \"#d62728\", \"#d62728\", \"#d62728\", \"#d62728\", \"#d62728\", \"#d62728\", \"#d62728\", \"#d62728\", \"#d62728\", \"#d62728\", \"gold\", \"#d62728\", \"#d62728\", \"#d62728\", \"#d62728\", \"#d62728\", \"#d62728\", \"#d62728\", \"#d62728\", \"#d62728\"]}, \"name\": \"Profit Margin\", \"text\": [-1.5, 2.7, -1.1, -25.4, -9.3, -5.6, -5.5, -6.8, 9.7, 17.8, 13.6, 23.6, 0.0, 0.0, 6.8, -11.8, -11.3, -9.3, 5.6, 0.2, -6.5], \"textposition\": \"outside\", \"type\": \"bar\", \"x\": [\"BBX\", \"BXG\", \"BYD\", \"CNTY\", \"CZR\", \"ERI\", \"FLL\", \"GDEN\", \"HGV\", \"LVS\", \"MCRI\", \"MGM\", \"MLCO\", \"MSC\", \"MTN\", \"PENN\", \"PLYA\", \"RRR\", \"TRWH\", \"VAC\", \"WYNN\"], \"xaxis\": \"x3\", \"y\": [-1.5, 2.7, -1.1, -25.4, -9.3, -5.6, -5.5, -6.8, 9.7, 17.8, 13.6, 23.6, 0.0, 0.0, 6.8, -11.8, -11.3, -9.3, 5.6, 0.2, -6.5], \"yaxis\": \"y3\"}, {\"marker\": {\"color\": [\"#9467bd\", \"#9467bd\", \"#9467bd\", \"#9467bd\", \"#9467bd\", \"#9467bd\", \"#9467bd\", \"#9467bd\", \"#9467bd\", \"#9467bd\", \"#9467bd\", \"gold\", \"#9467bd\", \"#9467bd\", \"#9467bd\", \"#9467bd\", \"#9467bd\", \"#9467bd\", \"#9467bd\", \"#9467bd\", \"#9467bd\"]}, \"name\": \"Dividend\", \"text\": [2.17, 0.0, 0.0, 0.0, 0.0, 0.0, 0.0, 0.0, 0.0, 0.0, 0.0, 0.05, 2.68, 0.0, 0.0, 0.0, 0.0, 2.7, 1.67, 2.2, 0.0], \"textposition\": \"outside\", \"type\": \"bar\", \"x\": [\"BBX\", \"BXG\", \"BYD\", \"CNTY\", \"CZR\", \"ERI\", \"FLL\", \"GDEN\", \"HGV\", \"LVS\", \"MCRI\", \"MGM\", \"MLCO\", \"MSC\", \"MTN\", \"PENN\", \"PLYA\", \"RRR\", \"TRWH\", \"VAC\", \"WYNN\"], \"xaxis\": \"x4\", \"y\": [2.17, 0.0, 0.0, 0.0, 0.0, 0.0, 0.0, 0.0, 0.0, 0.0, 0.0, 0.05, 2.68, 0.0, 0.0, 0.0, 0.0, 2.7, 1.67, 2.2, 0.0], \"yaxis\": \"y4\"}],\n",
       "                        {\"annotations\": [{\"font\": {\"size\": 16}, \"showarrow\": false, \"text\": \"Gross Margin\", \"x\": 0.225, \"xanchor\": \"center\", \"xref\": \"paper\", \"y\": 1.0, \"yanchor\": \"bottom\", \"yref\": \"paper\"}, {\"font\": {\"size\": 16}, \"showarrow\": false, \"text\": \"Operating\", \"x\": 0.775, \"xanchor\": \"center\", \"xref\": \"paper\", \"y\": 1.0, \"yanchor\": \"bottom\", \"yref\": \"paper\"}, {\"font\": {\"size\": 16}, \"showarrow\": false, \"text\": \"Profit\", \"x\": 0.225, \"xanchor\": \"center\", \"xref\": \"paper\", \"y\": 0.375, \"yanchor\": \"bottom\", \"yref\": \"paper\"}, {\"font\": {\"size\": 16}, \"showarrow\": false, \"text\": \"Dividend\", \"x\": 0.775, \"xanchor\": \"center\", \"xref\": \"paper\", \"y\": 0.375, \"yanchor\": \"bottom\", \"yref\": \"paper\"}], \"autosize\": true, \"height\": 1000, \"showlegend\": false, \"template\": {\"data\": {\"bar\": [{\"error_x\": {\"color\": \"#2a3f5f\"}, \"error_y\": {\"color\": \"#2a3f5f\"}, \"marker\": {\"line\": {\"color\": \"#E5ECF6\", \"width\": 0.5}}, \"type\": \"bar\"}], \"barpolar\": [{\"marker\": {\"line\": {\"color\": \"#E5ECF6\", \"width\": 0.5}}, \"type\": \"barpolar\"}], \"carpet\": [{\"aaxis\": {\"endlinecolor\": \"#2a3f5f\", \"gridcolor\": \"white\", \"linecolor\": \"white\", \"minorgridcolor\": \"white\", \"startlinecolor\": \"#2a3f5f\"}, \"baxis\": {\"endlinecolor\": \"#2a3f5f\", \"gridcolor\": \"white\", \"linecolor\": \"white\", \"minorgridcolor\": \"white\", \"startlinecolor\": \"#2a3f5f\"}, \"type\": \"carpet\"}], \"choropleth\": [{\"colorbar\": {\"outlinewidth\": 0, \"ticks\": \"\"}, \"type\": \"choropleth\"}], \"contour\": [{\"colorbar\": {\"outlinewidth\": 0, \"ticks\": \"\"}, \"colorscale\": [[0.0, \"#0d0887\"], [0.1111111111111111, \"#46039f\"], [0.2222222222222222, \"#7201a8\"], [0.3333333333333333, \"#9c179e\"], [0.4444444444444444, \"#bd3786\"], [0.5555555555555556, \"#d8576b\"], [0.6666666666666666, \"#ed7953\"], [0.7777777777777778, \"#fb9f3a\"], [0.8888888888888888, \"#fdca26\"], [1.0, \"#f0f921\"]], \"type\": \"contour\"}], \"contourcarpet\": [{\"colorbar\": {\"outlinewidth\": 0, \"ticks\": \"\"}, \"type\": \"contourcarpet\"}], \"heatmap\": [{\"colorbar\": {\"outlinewidth\": 0, \"ticks\": \"\"}, \"colorscale\": [[0.0, \"#0d0887\"], [0.1111111111111111, \"#46039f\"], [0.2222222222222222, \"#7201a8\"], [0.3333333333333333, \"#9c179e\"], [0.4444444444444444, \"#bd3786\"], [0.5555555555555556, \"#d8576b\"], [0.6666666666666666, \"#ed7953\"], [0.7777777777777778, \"#fb9f3a\"], [0.8888888888888888, \"#fdca26\"], [1.0, \"#f0f921\"]], \"type\": \"heatmap\"}], \"heatmapgl\": [{\"colorbar\": {\"outlinewidth\": 0, \"ticks\": \"\"}, \"colorscale\": [[0.0, \"#0d0887\"], [0.1111111111111111, \"#46039f\"], [0.2222222222222222, \"#7201a8\"], [0.3333333333333333, \"#9c179e\"], [0.4444444444444444, \"#bd3786\"], [0.5555555555555556, \"#d8576b\"], [0.6666666666666666, \"#ed7953\"], [0.7777777777777778, \"#fb9f3a\"], [0.8888888888888888, \"#fdca26\"], [1.0, \"#f0f921\"]], \"type\": \"heatmapgl\"}], \"histogram\": [{\"marker\": {\"colorbar\": {\"outlinewidth\": 0, \"ticks\": \"\"}}, \"type\": \"histogram\"}], \"histogram2d\": [{\"colorbar\": {\"outlinewidth\": 0, \"ticks\": \"\"}, \"colorscale\": [[0.0, \"#0d0887\"], [0.1111111111111111, \"#46039f\"], [0.2222222222222222, \"#7201a8\"], [0.3333333333333333, \"#9c179e\"], [0.4444444444444444, \"#bd3786\"], [0.5555555555555556, \"#d8576b\"], [0.6666666666666666, \"#ed7953\"], [0.7777777777777778, \"#fb9f3a\"], [0.8888888888888888, \"#fdca26\"], [1.0, \"#f0f921\"]], \"type\": \"histogram2d\"}], \"histogram2dcontour\": [{\"colorbar\": {\"outlinewidth\": 0, \"ticks\": \"\"}, \"colorscale\": [[0.0, \"#0d0887\"], [0.1111111111111111, \"#46039f\"], [0.2222222222222222, \"#7201a8\"], [0.3333333333333333, \"#9c179e\"], [0.4444444444444444, \"#bd3786\"], [0.5555555555555556, \"#d8576b\"], [0.6666666666666666, \"#ed7953\"], [0.7777777777777778, \"#fb9f3a\"], [0.8888888888888888, \"#fdca26\"], [1.0, \"#f0f921\"]], \"type\": \"histogram2dcontour\"}], \"mesh3d\": [{\"colorbar\": {\"outlinewidth\": 0, \"ticks\": \"\"}, \"type\": \"mesh3d\"}], \"parcoords\": [{\"line\": {\"colorbar\": {\"outlinewidth\": 0, \"ticks\": \"\"}}, \"type\": \"parcoords\"}], \"pie\": [{\"automargin\": true, \"type\": \"pie\"}], \"scatter\": [{\"marker\": {\"colorbar\": {\"outlinewidth\": 0, \"ticks\": \"\"}}, \"type\": \"scatter\"}], \"scatter3d\": [{\"line\": {\"colorbar\": {\"outlinewidth\": 0, \"ticks\": \"\"}}, \"marker\": {\"colorbar\": {\"outlinewidth\": 0, \"ticks\": \"\"}}, \"type\": \"scatter3d\"}], \"scattercarpet\": [{\"marker\": {\"colorbar\": {\"outlinewidth\": 0, \"ticks\": \"\"}}, \"type\": \"scattercarpet\"}], \"scattergeo\": [{\"marker\": {\"colorbar\": {\"outlinewidth\": 0, \"ticks\": \"\"}}, \"type\": \"scattergeo\"}], \"scattergl\": [{\"marker\": {\"colorbar\": {\"outlinewidth\": 0, \"ticks\": \"\"}}, \"type\": \"scattergl\"}], \"scattermapbox\": [{\"marker\": {\"colorbar\": {\"outlinewidth\": 0, \"ticks\": \"\"}}, \"type\": \"scattermapbox\"}], \"scatterpolar\": [{\"marker\": {\"colorbar\": {\"outlinewidth\": 0, \"ticks\": \"\"}}, \"type\": \"scatterpolar\"}], \"scatterpolargl\": [{\"marker\": {\"colorbar\": {\"outlinewidth\": 0, \"ticks\": \"\"}}, \"type\": \"scatterpolargl\"}], \"scatterternary\": [{\"marker\": {\"colorbar\": {\"outlinewidth\": 0, \"ticks\": \"\"}}, \"type\": \"scatterternary\"}], \"surface\": [{\"colorbar\": {\"outlinewidth\": 0, \"ticks\": \"\"}, \"colorscale\": [[0.0, \"#0d0887\"], [0.1111111111111111, \"#46039f\"], [0.2222222222222222, \"#7201a8\"], [0.3333333333333333, \"#9c179e\"], [0.4444444444444444, \"#bd3786\"], [0.5555555555555556, \"#d8576b\"], [0.6666666666666666, \"#ed7953\"], [0.7777777777777778, \"#fb9f3a\"], [0.8888888888888888, \"#fdca26\"], [1.0, \"#f0f921\"]], \"type\": \"surface\"}], \"table\": [{\"cells\": {\"fill\": {\"color\": \"#EBF0F8\"}, \"line\": {\"color\": \"white\"}}, \"header\": {\"fill\": {\"color\": \"#C8D4E3\"}, \"line\": {\"color\": \"white\"}}, \"type\": \"table\"}]}, \"layout\": {\"annotationdefaults\": {\"arrowcolor\": \"#2a3f5f\", \"arrowhead\": 0, \"arrowwidth\": 1}, \"coloraxis\": {\"colorbar\": {\"outlinewidth\": 0, \"ticks\": \"\"}}, \"colorscale\": {\"diverging\": [[0, \"#8e0152\"], [0.1, \"#c51b7d\"], [0.2, \"#de77ae\"], [0.3, \"#f1b6da\"], [0.4, \"#fde0ef\"], [0.5, \"#f7f7f7\"], [0.6, \"#e6f5d0\"], [0.7, \"#b8e186\"], [0.8, \"#7fbc41\"], [0.9, \"#4d9221\"], [1, \"#276419\"]], \"sequential\": [[0.0, \"#0d0887\"], [0.1111111111111111, \"#46039f\"], [0.2222222222222222, \"#7201a8\"], [0.3333333333333333, \"#9c179e\"], [0.4444444444444444, \"#bd3786\"], [0.5555555555555556, \"#d8576b\"], [0.6666666666666666, \"#ed7953\"], [0.7777777777777778, \"#fb9f3a\"], [0.8888888888888888, \"#fdca26\"], [1.0, \"#f0f921\"]], \"sequentialminus\": [[0.0, \"#0d0887\"], [0.1111111111111111, \"#46039f\"], [0.2222222222222222, \"#7201a8\"], [0.3333333333333333, \"#9c179e\"], [0.4444444444444444, \"#bd3786\"], [0.5555555555555556, \"#d8576b\"], [0.6666666666666666, \"#ed7953\"], [0.7777777777777778, \"#fb9f3a\"], [0.8888888888888888, \"#fdca26\"], [1.0, \"#f0f921\"]]}, \"colorway\": [\"#636efa\", \"#EF553B\", \"#00cc96\", \"#ab63fa\", \"#FFA15A\", \"#19d3f3\", \"#FF6692\", \"#B6E880\", \"#FF97FF\", \"#FECB52\"], \"font\": {\"color\": \"#2a3f5f\"}, \"geo\": {\"bgcolor\": \"white\", \"lakecolor\": \"white\", \"landcolor\": \"#E5ECF6\", \"showlakes\": true, \"showland\": true, \"subunitcolor\": \"white\"}, \"hoverlabel\": {\"align\": \"left\"}, \"hovermode\": \"closest\", \"mapbox\": {\"style\": \"light\"}, \"paper_bgcolor\": \"white\", \"plot_bgcolor\": \"#E5ECF6\", \"polar\": {\"angularaxis\": {\"gridcolor\": \"white\", \"linecolor\": \"white\", \"ticks\": \"\"}, \"bgcolor\": \"#E5ECF6\", \"radialaxis\": {\"gridcolor\": \"white\", \"linecolor\": \"white\", \"ticks\": \"\"}}, \"scene\": {\"xaxis\": {\"backgroundcolor\": \"#E5ECF6\", \"gridcolor\": \"white\", \"gridwidth\": 2, \"linecolor\": \"white\", \"showbackground\": true, \"ticks\": \"\", \"zerolinecolor\": \"white\"}, \"yaxis\": {\"backgroundcolor\": \"#E5ECF6\", \"gridcolor\": \"white\", \"gridwidth\": 2, \"linecolor\": \"white\", \"showbackground\": true, \"ticks\": \"\", \"zerolinecolor\": \"white\"}, \"zaxis\": {\"backgroundcolor\": \"#E5ECF6\", \"gridcolor\": \"white\", \"gridwidth\": 2, \"linecolor\": \"white\", \"showbackground\": true, \"ticks\": \"\", \"zerolinecolor\": \"white\"}}, \"shapedefaults\": {\"line\": {\"color\": \"#2a3f5f\"}}, \"ternary\": {\"aaxis\": {\"gridcolor\": \"white\", \"linecolor\": \"white\", \"ticks\": \"\"}, \"baxis\": {\"gridcolor\": \"white\", \"linecolor\": \"white\", \"ticks\": \"\"}, \"bgcolor\": \"#E5ECF6\", \"caxis\": {\"gridcolor\": \"white\", \"linecolor\": \"white\", \"ticks\": \"\"}}, \"title\": {\"x\": 0.05}, \"xaxis\": {\"automargin\": true, \"gridcolor\": \"white\", \"linecolor\": \"white\", \"ticks\": \"\", \"title\": {\"standoff\": 15}, \"zerolinecolor\": \"white\", \"zerolinewidth\": 2}, \"yaxis\": {\"automargin\": true, \"gridcolor\": \"white\", \"linecolor\": \"white\", \"ticks\": \"\", \"title\": {\"standoff\": 15}, \"zerolinecolor\": \"white\", \"zerolinewidth\": 2}}}, \"uniformtext\": {\"minsize\": 8}, \"width\": 1000, \"xaxis\": {\"anchor\": \"y\", \"domain\": [0.0, 0.45]}, \"xaxis2\": {\"anchor\": \"y2\", \"domain\": [0.55, 1.0]}, \"xaxis3\": {\"anchor\": \"y3\", \"domain\": [0.0, 0.45]}, \"xaxis4\": {\"anchor\": \"y4\", \"domain\": [0.55, 1.0]}, \"yaxis\": {\"anchor\": \"x\", \"domain\": [0.625, 1.0]}, \"yaxis2\": {\"anchor\": \"x2\", \"domain\": [0.625, 1.0]}, \"yaxis3\": {\"anchor\": \"x3\", \"domain\": [0.0, 0.375]}, \"yaxis4\": {\"anchor\": \"x4\", \"domain\": [0.0, 0.375]}},\n",
       "                        {\"responsive\": true}\n",
       "                    ).then(function(){\n",
       "                            \n",
       "var gd = document.getElementById('cbb3406b-b56a-41dc-8f2a-f37c77806a16');\n",
       "var x = new MutationObserver(function (mutations, observer) {{\n",
       "        var display = window.getComputedStyle(gd).display;\n",
       "        if (!display || display === 'none') {{\n",
       "            console.log([gd, 'removed!']);\n",
       "            Plotly.purge(gd);\n",
       "            observer.disconnect();\n",
       "        }}\n",
       "}});\n",
       "\n",
       "// Listen for the removal of the full notebook cells\n",
       "var notebookContainer = gd.closest('#notebook-container');\n",
       "if (notebookContainer) {{\n",
       "    x.observe(notebookContainer, {childList: true});\n",
       "}}\n",
       "\n",
       "// Listen for the clearing of the current output cell\n",
       "var outputEl = gd.closest('.output');\n",
       "if (outputEl) {{\n",
       "    x.observe(outputEl, {childList: true});\n",
       "}}\n",
       "\n",
       "                        })\n",
       "                };\n",
       "                });\n",
       "            </script>\n",
       "        </div>"
      ]
     },
     "metadata": {},
     "output_type": "display_data"
    }
   ],
   "source": [
    "display(tag)\n",
    "\n",
    "fig = make_subplots(rows=2, cols=2, start_cell=\"top-left\", subplot_titles=(\"Gross Margin\", \"Operating\",\"Profit\", \"Dividend\"))\n",
    "\n",
    "fig.add_trace(go.Bar(name=\"Gross Margin\", x=comp_data.index, y=comp_data['Gross M'], text=comp_data['Gross M'], textposition='outside', marker_color=get_chart_color(tick_index,1)), row=1, col=1)\n",
    "fig.add_trace(go.Bar(name=\"Operating Margin\", x=comp_data.index, y=comp_data['Oper M'], text=comp_data['Oper M'], textposition='auto', marker_color=get_chart_color(tick_index,2)), row=1, col=2)\n",
    "fig.add_trace(go.Bar(name=\"Profit Margin\", x=comp_data.index, y=comp_data['Profit M'], text=comp_data['Profit M'], textposition='auto', marker_color=get_chart_color(tick_index,3)), row=2, col=1)\n",
    "fig.add_trace(go.Bar(name=\"Dividend\", x=comp_data.index, y=comp_data['Dividend'], text=comp_data['Dividend'], textposition='auto', marker_color=get_chart_color(tick_index,4)), row=2, col=2)\n",
    "\n",
    "fig.update_traces(textposition='outside')\n",
    "fig.update_layout(uniformtext_minsize=8)\n",
    "\n",
    "fig.update_layout(\n",
    "    autosize=True,\n",
    "    width=1000,\n",
    "    height=1000,\n",
    "    showlegend=False)\n",
    "\n",
    "fig.show()"
   ]
  },
  {
   "cell_type": "markdown",
   "metadata": {},
   "source": [
    "# Summary "
   ]
  },
  {
   "cell_type": "code",
   "execution_count": 55,
   "metadata": {},
   "outputs": [
    {
     "data": {
      "text/html": [
       "<script>\n",
       "code_show=true; \n",
       "function code_toggle() {\n",
       "    if (code_show){\n",
       "        $('div.cell.code_cell.rendered.selected div.input').hide();\n",
       "    } else {\n",
       "        $('div.cell.code_cell.rendered.selected div.input').show();\n",
       "    }\n",
       "    code_show = !code_show\n",
       "} \n",
       "$( document ).ready(code_toggle);\n",
       "</script>\n",
       "To show/hide this cell's raw code input, click <a href=\"javascript:code_toggle()\">here</a>."
      ],
      "text/plain": [
       "<IPython.core.display.HTML object>"
      ]
     },
     "metadata": {},
     "output_type": "display_data"
    },
    {
     "name": "stdout",
     "output_type": "stream",
     "text": [
      "Overall, MGM performs favorably against its industrial peers as it beat them in 10 out of 15 measurements.\n",
      "\n",
      "FINANCIALS\n",
      "\n",
      "MGM won 4 time(s) when it came to fundamental financial ratios\n",
      "\t\u001b[1m*\u001b[0m \u001b[1mP/E\u001b[0m: it has a better P/E of \u001b[1m3.97\u001b[0m compared to an industry average of \u001b[1m91.71\u001b[0m\n",
      "\t\u001b[1m*\u001b[0m \u001b[1mP/S\u001b[0m: it has a more desirable P/S of \u001b[1m0.91\u001b[0m compared to an industry average of \u001b[1m1.32\u001b[0m\n",
      "\t\u001b[1m*\u001b[0m \u001b[1mP/B\u001b[0m: it has a excellent P/B of \u001b[1m1.34\u001b[0m compared to an industry average of \u001b[1m3.05\u001b[0m\n",
      "\t\u001b[1m*\u001b[0m \u001b[1mP/C\u001b[0m: it has a great P/C of \u001b[1m1.81\u001b[0m compared to an industry average of \u001b[1m4.91\u001b[0m\n",
      "\n",
      "DEBT\n",
      "\n",
      "MGM won 4 time(s) when it came to debt ratios\n",
      "\t\u001b[1m*\u001b[0m \u001b[1mCurr R\u001b[0m: it has a superior Curr R of \u001b[1m2.9\u001b[0m compared to an industry average of \u001b[1m1.69\u001b[0m\n",
      "\t\u001b[1m*\u001b[0m \u001b[1mQuick R\u001b[0m: it has a great Quick R of \u001b[1m2.9\u001b[0m compared to an industry average of \u001b[1m1.65\u001b[0m\n",
      "\t\u001b[1m*\u001b[0m \u001b[1mLTDebt/Eq\u001b[0m: it has a superior LTDebt/Eq of \u001b[1m1.46\u001b[0m compared to an industry average of \u001b[1m3.81\u001b[0m\n",
      "\t\u001b[1m*\u001b[0m \u001b[1mDebt/Eq\u001b[0m: it has a excellent Debt/Eq of \u001b[1m1.47\u001b[0m compared to an industry average of \u001b[1m3.81\u001b[0m\n",
      "\n",
      "MARGINS\n",
      "\n",
      "MGM won 2 time(s) when it came to margins\n",
      "\t\u001b[1m*\u001b[0m \u001b[1mOper M\u001b[0m: it has a great Oper M of \u001b[1m40.3\u001b[0m compared to an industry average of \u001b[1m6.92\u001b[0m\n",
      "\t\u001b[1m*\u001b[0m \u001b[1mProfit M\u001b[0m: it has a better Profit M of \u001b[1m23.6\u001b[0m compared to an industry average of \u001b[1m-0.67\u001b[0m\n"
     ]
    }
   ],
   "source": [
    "from random import randint\n",
    "\n",
    "display(tag)\n",
    "\n",
    "averages = averages.set_index(averages['Type'])\n",
    "averages = averages.drop(['Type'], axis=1)\n",
    "\n",
    "def print_summary(beat_list, type):\n",
    "    adj_options = [\"great\", \"promising\", \"preferable\", \"excellent\", \"favorable\", \"superior\",\"better\",\"more desirable\"]\n",
    "    \n",
    "    print(\"{} won {} time(s) when it came to {}\".format(ticker, len(beat_list), type))\n",
    "    \n",
    "    if len(beat_list) > 0:\n",
    "        for i, item in enumerate(beat_list):\n",
    "                print(\"\\t{} \\033[1m{}\\033[0m: it has a {} {} of \\033[1m{}\\033[0m compared to an industry average of \\033[1m{}\\033[0m\".format(\"\\033[1m*\\033[0m\", item, adj_options[randint(0, len(adj_options)-1)], item, comp_data.loc[ticker][item], str(round(averages.loc[item][0], 2))))\n",
    "    else:\n",
    "        print(\"{} was not better than the industry average for any of these measures\".format(ticker))\n",
    "\n",
    "\n",
    "print(\"Overall, {} performs {} against its industrial peers as it beat them in {} out of 15 measurements.\".format(ticker, sentiment[0].lower(), beat_number))\n",
    "\n",
    "print(\"\\nFINANCIALS\\n\")\n",
    "print_summary(finrat_beats, \"fundamental financial ratios\")\n",
    "\n",
    "print(\"\\nDEBT\\n\")\n",
    "print_summary(dbt_beats , \"debt ratios\")\n",
    "\n",
    "print(\"\\nMARGINS\\n\")\n",
    "print_summary(marg_beats, \"margins\")\n"
   ]
  },
  {
   "cell_type": "markdown",
   "metadata": {},
   "source": [
    "# FINAL RATING"
   ]
  },
  {
   "cell_type": "code",
   "execution_count": 57,
   "metadata": {},
   "outputs": [
    {
     "name": "stdout",
     "output_type": "stream",
     "text": [
      "A\n"
     ]
    }
   ],
   "source": [
    "print(sentiment[1])"
   ]
  }
 ],
 "metadata": {
  "kernelspec": {
   "display_name": "Python 3",
   "language": "python",
   "name": "python3"
  },
  "language_info": {
   "codemirror_mode": {
    "name": "ipython",
    "version": 3
   },
   "file_extension": ".py",
   "mimetype": "text/x-python",
   "name": "python",
   "nbconvert_exporter": "python",
   "pygments_lexer": "ipython3",
   "version": "3.7.4"
  }
 },
 "nbformat": 4,
 "nbformat_minor": 2
}
